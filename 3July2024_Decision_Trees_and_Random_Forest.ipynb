{
  "cells": [
    {
      "cell_type": "markdown",
      "metadata": {
        "id": "view-in-github",
        "colab_type": "text"
      },
      "source": [
        "<a href=\"https://colab.research.google.com/github/MonkeyWrenchGang/2024_BAN7040/blob/main/3July2024_Decision_Trees_and_Random_Forest.ipynb\" target=\"_parent\"><img src=\"https://colab.research.google.com/assets/colab-badge.svg\" alt=\"Open In Colab\"/></a>"
      ]
    },
    {
      "cell_type": "markdown",
      "metadata": {
        "id": "yT6gajKX1Fly"
      },
      "source": [
        "## Introduction to Decision Trees and Random Forests\n",
        "\n",
        "\n",
        "- **Mike Ames**\n",
        "- Email: amesam@wfu.edu\n",
        "- Date: July 3, 2024\n",
        "\n",
        "### Overview\n",
        "\n",
        "This notebook's goal is to highlight how decision trees fit into the world of Random Forests. Trees are \"weak-learners\" sensitive to the sample of rows and columns, Forests exploit this by combining training trees on different samples and evaluating a sample of potential splits.  \n",
        "\n",
        "### Structure\n",
        "\n",
        "1. **Load Packages**: Import the necessary libraries and modules required for the analysis.\n",
        "2. **Data Preparation**: Load and preprocess the dataset.\n",
        "3. **Decision Trees**:\n",
        "   - Train some Decision Trees\n",
        "   - Building and Visualizing a Decision Tree\n",
        "   - Evaluating the performance of the Decision Tree model\n",
        "   - Look into how different samples influence different trees\n",
        "4. **Random Forests**:\n",
        "   - Build a Random Forests\n",
        "   - Building and Visualizing trees from a Random Forest\n",
        "   - Evaluating the performance of the Random Forest model\n",
        "\n",
        "\n",
        "### Quote\n",
        "\n",
        "> \"And into the forest I go to lose my mind and find my soul.\" – John Muir\n",
        "\n"
      ]
    },
    {
      "cell_type": "markdown",
      "metadata": {
        "id": "XinpORlK1Fl1"
      },
      "source": [
        "### Load Packages\n",
        "-------\n",
        "\n"
      ]
    },
    {
      "cell_type": "code",
      "execution_count": null,
      "metadata": {
        "colab": {
          "base_uri": "https://localhost:8080/",
          "height": 17
        },
        "id": "dcgTvbeG1Fl1",
        "outputId": "23be5139-c071-4c6b-f468-c176014d5fcd"
      },
      "outputs": [
        {
          "output_type": "display_data",
          "data": {
            "text/plain": [
              "<IPython.core.display.HTML object>"
            ],
            "text/html": [
              "<style>.container { width:90% }</style>"
            ]
          },
          "metadata": {}
        }
      ],
      "source": [
        "from IPython.core.display import display, HTML\n",
        "from IPython.display import clear_output\n",
        "display(HTML(\"<style>.container { width:90% }</style>\"))\n",
        "import warnings\n",
        "warnings.filterwarnings('ignore')\n",
        "# ------------------------------------------------------------------\n",
        "\n",
        "import numpy as np\n",
        "import matplotlib.pyplot as plt\n",
        "import seaborn as sns\n",
        "import pandas as pd\n",
        "\n",
        "# -- sklearn modules\n",
        "from sklearn.model_selection import train_test_split   #- partition train/test split\n",
        "from sklearn.metrics import accuracy_score, precision_score, recall_score, classification_report #\n",
        "from sklearn.tree import DecisionTreeClassifier        #- create a decison tree\n",
        "from sklearn.ensemble import RandomForestClassifier    #- random forest classifier\n",
        "from sklearn.tree import export_text                   #- export tree as text rules\n",
        "from sklearn import tree\n",
        "\n",
        "# -- visualize decision trees and decision surfaces\n",
        "import graphviz\n",
        "\n",
        "# -- need this to render charts in notebook --\n",
        "%matplotlib inline"
      ]
    },
    {
      "cell_type": "markdown",
      "metadata": {
        "id": "wTauqBit1Fl2"
      },
      "source": [
        "## 1. Stage\n",
        "-----\n",
        "import our dataset into a pandas dataframe\n"
      ]
    },
    {
      "cell_type": "code",
      "execution_count": null,
      "metadata": {
        "colab": {
          "base_uri": "https://localhost:8080/",
          "height": 359
        },
        "id": "ZcMPWnqz1Fl2",
        "outputId": "fc634025-33bb-486e-e37a-e546d494d326"
      },
      "outputs": [
        {
          "output_type": "execute_result",
          "data": {
            "text/plain": [
              "  State  Account Length  Area Code     Phone Int'l Plan VMail Plan  \\\n",
              "0    KS             128        415  382-4657         no        yes   \n",
              "1    OH             107        415  371-7191         no        yes   \n",
              "2    NJ             137        415  358-1921         no         no   \n",
              "3    OH              84        408  375-9999        yes         no   \n",
              "4    OK              75        415  330-6626        yes         no   \n",
              "\n",
              "   VMail Message  Day Mins  Day Calls  Day Charge  ...  Eve Calls  Eve Charge  \\\n",
              "0             25     265.1        110       45.07  ...         99       16.78   \n",
              "1             26     161.6        123       27.47  ...        103       16.62   \n",
              "2              0     243.4        114       41.38  ...        110       10.30   \n",
              "3              0     299.4         71       50.90  ...         88        5.26   \n",
              "4              0     166.7        113       28.34  ...        122       12.61   \n",
              "\n",
              "   Night Mins  Night Calls  Night Charge  Intl Mins  Intl Calls  Intl Charge  \\\n",
              "0       244.7           91         11.01       10.0           3         2.70   \n",
              "1       254.4          103         11.45       13.7           3         3.70   \n",
              "2       162.6          104          7.32       12.2           5         3.29   \n",
              "3       196.9           89          8.86        6.6           7         1.78   \n",
              "4       186.9          121          8.41       10.1           3         2.73   \n",
              "\n",
              "   CustServ Calls  Churn?  \n",
              "0               1  False.  \n",
              "1               1  False.  \n",
              "2               0  False.  \n",
              "3               2  False.  \n",
              "4               3  False.  \n",
              "\n",
              "[5 rows x 21 columns]"
            ],
            "text/html": [
              "\n",
              "  <div id=\"df-6d8dd14e-8b66-4bdb-a912-ad08388fe078\" class=\"colab-df-container\">\n",
              "    <div>\n",
              "<style scoped>\n",
              "    .dataframe tbody tr th:only-of-type {\n",
              "        vertical-align: middle;\n",
              "    }\n",
              "\n",
              "    .dataframe tbody tr th {\n",
              "        vertical-align: top;\n",
              "    }\n",
              "\n",
              "    .dataframe thead th {\n",
              "        text-align: right;\n",
              "    }\n",
              "</style>\n",
              "<table border=\"1\" class=\"dataframe\">\n",
              "  <thead>\n",
              "    <tr style=\"text-align: right;\">\n",
              "      <th></th>\n",
              "      <th>State</th>\n",
              "      <th>Account Length</th>\n",
              "      <th>Area Code</th>\n",
              "      <th>Phone</th>\n",
              "      <th>Int'l Plan</th>\n",
              "      <th>VMail Plan</th>\n",
              "      <th>VMail Message</th>\n",
              "      <th>Day Mins</th>\n",
              "      <th>Day Calls</th>\n",
              "      <th>Day Charge</th>\n",
              "      <th>...</th>\n",
              "      <th>Eve Calls</th>\n",
              "      <th>Eve Charge</th>\n",
              "      <th>Night Mins</th>\n",
              "      <th>Night Calls</th>\n",
              "      <th>Night Charge</th>\n",
              "      <th>Intl Mins</th>\n",
              "      <th>Intl Calls</th>\n",
              "      <th>Intl Charge</th>\n",
              "      <th>CustServ Calls</th>\n",
              "      <th>Churn?</th>\n",
              "    </tr>\n",
              "  </thead>\n",
              "  <tbody>\n",
              "    <tr>\n",
              "      <th>0</th>\n",
              "      <td>KS</td>\n",
              "      <td>128</td>\n",
              "      <td>415</td>\n",
              "      <td>382-4657</td>\n",
              "      <td>no</td>\n",
              "      <td>yes</td>\n",
              "      <td>25</td>\n",
              "      <td>265.1</td>\n",
              "      <td>110</td>\n",
              "      <td>45.07</td>\n",
              "      <td>...</td>\n",
              "      <td>99</td>\n",
              "      <td>16.78</td>\n",
              "      <td>244.7</td>\n",
              "      <td>91</td>\n",
              "      <td>11.01</td>\n",
              "      <td>10.0</td>\n",
              "      <td>3</td>\n",
              "      <td>2.70</td>\n",
              "      <td>1</td>\n",
              "      <td>False.</td>\n",
              "    </tr>\n",
              "    <tr>\n",
              "      <th>1</th>\n",
              "      <td>OH</td>\n",
              "      <td>107</td>\n",
              "      <td>415</td>\n",
              "      <td>371-7191</td>\n",
              "      <td>no</td>\n",
              "      <td>yes</td>\n",
              "      <td>26</td>\n",
              "      <td>161.6</td>\n",
              "      <td>123</td>\n",
              "      <td>27.47</td>\n",
              "      <td>...</td>\n",
              "      <td>103</td>\n",
              "      <td>16.62</td>\n",
              "      <td>254.4</td>\n",
              "      <td>103</td>\n",
              "      <td>11.45</td>\n",
              "      <td>13.7</td>\n",
              "      <td>3</td>\n",
              "      <td>3.70</td>\n",
              "      <td>1</td>\n",
              "      <td>False.</td>\n",
              "    </tr>\n",
              "    <tr>\n",
              "      <th>2</th>\n",
              "      <td>NJ</td>\n",
              "      <td>137</td>\n",
              "      <td>415</td>\n",
              "      <td>358-1921</td>\n",
              "      <td>no</td>\n",
              "      <td>no</td>\n",
              "      <td>0</td>\n",
              "      <td>243.4</td>\n",
              "      <td>114</td>\n",
              "      <td>41.38</td>\n",
              "      <td>...</td>\n",
              "      <td>110</td>\n",
              "      <td>10.30</td>\n",
              "      <td>162.6</td>\n",
              "      <td>104</td>\n",
              "      <td>7.32</td>\n",
              "      <td>12.2</td>\n",
              "      <td>5</td>\n",
              "      <td>3.29</td>\n",
              "      <td>0</td>\n",
              "      <td>False.</td>\n",
              "    </tr>\n",
              "    <tr>\n",
              "      <th>3</th>\n",
              "      <td>OH</td>\n",
              "      <td>84</td>\n",
              "      <td>408</td>\n",
              "      <td>375-9999</td>\n",
              "      <td>yes</td>\n",
              "      <td>no</td>\n",
              "      <td>0</td>\n",
              "      <td>299.4</td>\n",
              "      <td>71</td>\n",
              "      <td>50.90</td>\n",
              "      <td>...</td>\n",
              "      <td>88</td>\n",
              "      <td>5.26</td>\n",
              "      <td>196.9</td>\n",
              "      <td>89</td>\n",
              "      <td>8.86</td>\n",
              "      <td>6.6</td>\n",
              "      <td>7</td>\n",
              "      <td>1.78</td>\n",
              "      <td>2</td>\n",
              "      <td>False.</td>\n",
              "    </tr>\n",
              "    <tr>\n",
              "      <th>4</th>\n",
              "      <td>OK</td>\n",
              "      <td>75</td>\n",
              "      <td>415</td>\n",
              "      <td>330-6626</td>\n",
              "      <td>yes</td>\n",
              "      <td>no</td>\n",
              "      <td>0</td>\n",
              "      <td>166.7</td>\n",
              "      <td>113</td>\n",
              "      <td>28.34</td>\n",
              "      <td>...</td>\n",
              "      <td>122</td>\n",
              "      <td>12.61</td>\n",
              "      <td>186.9</td>\n",
              "      <td>121</td>\n",
              "      <td>8.41</td>\n",
              "      <td>10.1</td>\n",
              "      <td>3</td>\n",
              "      <td>2.73</td>\n",
              "      <td>3</td>\n",
              "      <td>False.</td>\n",
              "    </tr>\n",
              "  </tbody>\n",
              "</table>\n",
              "<p>5 rows × 21 columns</p>\n",
              "</div>\n",
              "    <div class=\"colab-df-buttons\">\n",
              "\n",
              "  <div class=\"colab-df-container\">\n",
              "    <button class=\"colab-df-convert\" onclick=\"convertToInteractive('df-6d8dd14e-8b66-4bdb-a912-ad08388fe078')\"\n",
              "            title=\"Convert this dataframe to an interactive table.\"\n",
              "            style=\"display:none;\">\n",
              "\n",
              "  <svg xmlns=\"http://www.w3.org/2000/svg\" height=\"24px\" viewBox=\"0 -960 960 960\">\n",
              "    <path d=\"M120-120v-720h720v720H120Zm60-500h600v-160H180v160Zm220 220h160v-160H400v160Zm0 220h160v-160H400v160ZM180-400h160v-160H180v160Zm440 0h160v-160H620v160ZM180-180h160v-160H180v160Zm440 0h160v-160H620v160Z\"/>\n",
              "  </svg>\n",
              "    </button>\n",
              "\n",
              "  <style>\n",
              "    .colab-df-container {\n",
              "      display:flex;\n",
              "      gap: 12px;\n",
              "    }\n",
              "\n",
              "    .colab-df-convert {\n",
              "      background-color: #E8F0FE;\n",
              "      border: none;\n",
              "      border-radius: 50%;\n",
              "      cursor: pointer;\n",
              "      display: none;\n",
              "      fill: #1967D2;\n",
              "      height: 32px;\n",
              "      padding: 0 0 0 0;\n",
              "      width: 32px;\n",
              "    }\n",
              "\n",
              "    .colab-df-convert:hover {\n",
              "      background-color: #E2EBFA;\n",
              "      box-shadow: 0px 1px 2px rgba(60, 64, 67, 0.3), 0px 1px 3px 1px rgba(60, 64, 67, 0.15);\n",
              "      fill: #174EA6;\n",
              "    }\n",
              "\n",
              "    .colab-df-buttons div {\n",
              "      margin-bottom: 4px;\n",
              "    }\n",
              "\n",
              "    [theme=dark] .colab-df-convert {\n",
              "      background-color: #3B4455;\n",
              "      fill: #D2E3FC;\n",
              "    }\n",
              "\n",
              "    [theme=dark] .colab-df-convert:hover {\n",
              "      background-color: #434B5C;\n",
              "      box-shadow: 0px 1px 3px 1px rgba(0, 0, 0, 0.15);\n",
              "      filter: drop-shadow(0px 1px 2px rgba(0, 0, 0, 0.3));\n",
              "      fill: #FFFFFF;\n",
              "    }\n",
              "  </style>\n",
              "\n",
              "    <script>\n",
              "      const buttonEl =\n",
              "        document.querySelector('#df-6d8dd14e-8b66-4bdb-a912-ad08388fe078 button.colab-df-convert');\n",
              "      buttonEl.style.display =\n",
              "        google.colab.kernel.accessAllowed ? 'block' : 'none';\n",
              "\n",
              "      async function convertToInteractive(key) {\n",
              "        const element = document.querySelector('#df-6d8dd14e-8b66-4bdb-a912-ad08388fe078');\n",
              "        const dataTable =\n",
              "          await google.colab.kernel.invokeFunction('convertToInteractive',\n",
              "                                                    [key], {});\n",
              "        if (!dataTable) return;\n",
              "\n",
              "        const docLinkHtml = 'Like what you see? Visit the ' +\n",
              "          '<a target=\"_blank\" href=https://colab.research.google.com/notebooks/data_table.ipynb>data table notebook</a>'\n",
              "          + ' to learn more about interactive tables.';\n",
              "        element.innerHTML = '';\n",
              "        dataTable['output_type'] = 'display_data';\n",
              "        await google.colab.output.renderOutput(dataTable, element);\n",
              "        const docLink = document.createElement('div');\n",
              "        docLink.innerHTML = docLinkHtml;\n",
              "        element.appendChild(docLink);\n",
              "      }\n",
              "    </script>\n",
              "  </div>\n",
              "\n",
              "\n",
              "<div id=\"df-61b96201-773c-4688-81b0-7ad9afde289e\">\n",
              "  <button class=\"colab-df-quickchart\" onclick=\"quickchart('df-61b96201-773c-4688-81b0-7ad9afde289e')\"\n",
              "            title=\"Suggest charts\"\n",
              "            style=\"display:none;\">\n",
              "\n",
              "<svg xmlns=\"http://www.w3.org/2000/svg\" height=\"24px\"viewBox=\"0 0 24 24\"\n",
              "     width=\"24px\">\n",
              "    <g>\n",
              "        <path d=\"M19 3H5c-1.1 0-2 .9-2 2v14c0 1.1.9 2 2 2h14c1.1 0 2-.9 2-2V5c0-1.1-.9-2-2-2zM9 17H7v-7h2v7zm4 0h-2V7h2v10zm4 0h-2v-4h2v4z\"/>\n",
              "    </g>\n",
              "</svg>\n",
              "  </button>\n",
              "\n",
              "<style>\n",
              "  .colab-df-quickchart {\n",
              "      --bg-color: #E8F0FE;\n",
              "      --fill-color: #1967D2;\n",
              "      --hover-bg-color: #E2EBFA;\n",
              "      --hover-fill-color: #174EA6;\n",
              "      --disabled-fill-color: #AAA;\n",
              "      --disabled-bg-color: #DDD;\n",
              "  }\n",
              "\n",
              "  [theme=dark] .colab-df-quickchart {\n",
              "      --bg-color: #3B4455;\n",
              "      --fill-color: #D2E3FC;\n",
              "      --hover-bg-color: #434B5C;\n",
              "      --hover-fill-color: #FFFFFF;\n",
              "      --disabled-bg-color: #3B4455;\n",
              "      --disabled-fill-color: #666;\n",
              "  }\n",
              "\n",
              "  .colab-df-quickchart {\n",
              "    background-color: var(--bg-color);\n",
              "    border: none;\n",
              "    border-radius: 50%;\n",
              "    cursor: pointer;\n",
              "    display: none;\n",
              "    fill: var(--fill-color);\n",
              "    height: 32px;\n",
              "    padding: 0;\n",
              "    width: 32px;\n",
              "  }\n",
              "\n",
              "  .colab-df-quickchart:hover {\n",
              "    background-color: var(--hover-bg-color);\n",
              "    box-shadow: 0 1px 2px rgba(60, 64, 67, 0.3), 0 1px 3px 1px rgba(60, 64, 67, 0.15);\n",
              "    fill: var(--button-hover-fill-color);\n",
              "  }\n",
              "\n",
              "  .colab-df-quickchart-complete:disabled,\n",
              "  .colab-df-quickchart-complete:disabled:hover {\n",
              "    background-color: var(--disabled-bg-color);\n",
              "    fill: var(--disabled-fill-color);\n",
              "    box-shadow: none;\n",
              "  }\n",
              "\n",
              "  .colab-df-spinner {\n",
              "    border: 2px solid var(--fill-color);\n",
              "    border-color: transparent;\n",
              "    border-bottom-color: var(--fill-color);\n",
              "    animation:\n",
              "      spin 1s steps(1) infinite;\n",
              "  }\n",
              "\n",
              "  @keyframes spin {\n",
              "    0% {\n",
              "      border-color: transparent;\n",
              "      border-bottom-color: var(--fill-color);\n",
              "      border-left-color: var(--fill-color);\n",
              "    }\n",
              "    20% {\n",
              "      border-color: transparent;\n",
              "      border-left-color: var(--fill-color);\n",
              "      border-top-color: var(--fill-color);\n",
              "    }\n",
              "    30% {\n",
              "      border-color: transparent;\n",
              "      border-left-color: var(--fill-color);\n",
              "      border-top-color: var(--fill-color);\n",
              "      border-right-color: var(--fill-color);\n",
              "    }\n",
              "    40% {\n",
              "      border-color: transparent;\n",
              "      border-right-color: var(--fill-color);\n",
              "      border-top-color: var(--fill-color);\n",
              "    }\n",
              "    60% {\n",
              "      border-color: transparent;\n",
              "      border-right-color: var(--fill-color);\n",
              "    }\n",
              "    80% {\n",
              "      border-color: transparent;\n",
              "      border-right-color: var(--fill-color);\n",
              "      border-bottom-color: var(--fill-color);\n",
              "    }\n",
              "    90% {\n",
              "      border-color: transparent;\n",
              "      border-bottom-color: var(--fill-color);\n",
              "    }\n",
              "  }\n",
              "</style>\n",
              "\n",
              "  <script>\n",
              "    async function quickchart(key) {\n",
              "      const quickchartButtonEl =\n",
              "        document.querySelector('#' + key + ' button');\n",
              "      quickchartButtonEl.disabled = true;  // To prevent multiple clicks.\n",
              "      quickchartButtonEl.classList.add('colab-df-spinner');\n",
              "      try {\n",
              "        const charts = await google.colab.kernel.invokeFunction(\n",
              "            'suggestCharts', [key], {});\n",
              "      } catch (error) {\n",
              "        console.error('Error during call to suggestCharts:', error);\n",
              "      }\n",
              "      quickchartButtonEl.classList.remove('colab-df-spinner');\n",
              "      quickchartButtonEl.classList.add('colab-df-quickchart-complete');\n",
              "    }\n",
              "    (() => {\n",
              "      let quickchartButtonEl =\n",
              "        document.querySelector('#df-61b96201-773c-4688-81b0-7ad9afde289e button');\n",
              "      quickchartButtonEl.style.display =\n",
              "        google.colab.kernel.accessAllowed ? 'block' : 'none';\n",
              "    })();\n",
              "  </script>\n",
              "</div>\n",
              "\n",
              "    </div>\n",
              "  </div>\n"
            ],
            "application/vnd.google.colaboratory.intrinsic+json": {
              "type": "dataframe",
              "variable_name": "df"
            }
          },
          "metadata": {},
          "execution_count": 65
        }
      ],
      "source": [
        "df = pd.read_csv(\"https://raw.githubusercontent.com/MonkeyWrenchGang/HandsOnDataScience_Python/master/Week_2/data/churn.csv\", na_values=\"?\")\n",
        "df.head()\n"
      ]
    },
    {
      "cell_type": "markdown",
      "metadata": {
        "id": "sQXm2YgV1Fl3"
      },
      "source": [
        "## 2.  Clean up Column Names\n",
        "\n",
        "*It's just not fun dealing with ill-formed columns*\n",
        "\n",
        "- remove leading and trailing characters\n",
        "- replace spaces with underscores _\n",
        "- change case to lower case\n",
        "- remove various special characters"
      ]
    },
    {
      "cell_type": "code",
      "execution_count": null,
      "metadata": {
        "colab": {
          "base_uri": "https://localhost:8080/"
        },
        "id": "LcUDwtxx1Fl3",
        "outputId": "9cbf232b-4070-4001-90ab-c975335c8b4c"
      },
      "outputs": [
        {
          "output_type": "execute_result",
          "data": {
            "text/plain": [
              "Index(['state', 'account_length', 'area_code', 'phone', 'intl_plan',\n",
              "       'vmail_plan', 'vmail_message', 'day_mins', 'day_calls', 'day_charge',\n",
              "       'eve_mins', 'eve_calls', 'eve_charge', 'night_mins', 'night_calls',\n",
              "       'night_charge', 'intl_mins', 'intl_calls', 'intl_charge',\n",
              "       'custserv_calls', 'churn'],\n",
              "      dtype='object')"
            ]
          },
          "metadata": {},
          "execution_count": 66
        }
      ],
      "source": [
        "df.columns = ( df.columns\n",
        "    .str.strip()\n",
        "    .str.lower()\n",
        "    .str.replace(' ', '_')\n",
        "    .str.replace('-', '_')\n",
        "    .str.replace('(', '')\n",
        "    .str.replace(')', '')\n",
        "    .str.replace('?', '')\n",
        "    .str.replace('\\'', '') # notice the backslash \\ this is an escape character\n",
        ")\n",
        "df.columns"
      ]
    },
    {
      "cell_type": "markdown",
      "metadata": {
        "id": "3l_3YB9e1Fl3"
      },
      "source": [
        "## 3. Describe data\n",
        "### Check Target\n",
        "-----\n",
        "always start by understanding your target value\n"
      ]
    },
    {
      "cell_type": "code",
      "execution_count": null,
      "metadata": {
        "colab": {
          "base_uri": "https://localhost:8080/"
        },
        "id": "TtqId0Op1Fl3",
        "outputId": "83a3b254-84ab-44ce-8b27-41ea028e4df5"
      },
      "outputs": [
        {
          "output_type": "execute_result",
          "data": {
            "text/plain": [
              "churn\n",
              "False.    2850\n",
              "True.      483\n",
              "Name: count, dtype: int64"
            ]
          },
          "metadata": {},
          "execution_count": 67
        }
      ],
      "source": [
        "df['churn'].value_counts()"
      ]
    },
    {
      "cell_type": "code",
      "execution_count": null,
      "metadata": {
        "colab": {
          "base_uri": "https://localhost:8080/",
          "height": 345
        },
        "id": "ZHirhkpf1Fl4",
        "outputId": "7bde157e-1f95-47a8-99f8-d2ba33b35406"
      },
      "outputs": [
        {
          "output_type": "display_data",
          "data": {
            "text/plain": [
              "<Figure size 2000x500 with 1 Axes>"
            ],
            "image/png": "[encoded data removed]"
          },
          "metadata": {}
        }
      ],
      "source": [
        "plt.figure(figsize=(20,5))\n",
        "# -- check out bottom\n",
        "res1 = df.groupby(['churn']).agg({\"account_length\":\"count\"}).reset_index().rename(columns={\"account_length\":\"count\"})\n",
        "\n",
        "sns.barplot(data=res1, x=\"churn\", y=\"count\")\n",
        "plt.title('Churn Count' )\n",
        "plt.ylabel('Count')\n",
        "plt.xticks(rotation=45)\n",
        "plt.xlabel(\"churn\")\n",
        "plt.show()\n"
      ]
    },
    {
      "cell_type": "code",
      "execution_count": null,
      "metadata": {
        "colab": {
          "base_uri": "https://localhost:8080/"
        },
        "id": "tcFjx4bS1Fl4",
        "outputId": "f98a7b2b-9dfb-491b-d71e-453ad0e2ff37"
      },
      "outputs": [
        {
          "output_type": "execute_result",
          "data": {
            "text/plain": [
              "['account_length',\n",
              " 'area_code',\n",
              " 'vmail_message',\n",
              " 'day_mins',\n",
              " 'day_calls',\n",
              " 'day_charge',\n",
              " 'eve_mins',\n",
              " 'eve_calls',\n",
              " 'eve_charge',\n",
              " 'night_mins',\n",
              " 'night_calls',\n",
              " 'night_charge',\n",
              " 'intl_mins',\n",
              " 'intl_calls',\n",
              " 'intl_charge',\n",
              " 'custserv_calls']"
            ]
          },
          "metadata": {},
          "execution_count": 69
        }
      ],
      "source": [
        "numeric_features = ['account_length', 'area_code', 'vmail_message', 'day_mins', 'day_calls',\n",
        "       'day_charge', 'eve_mins', 'eve_calls', 'eve_charge', 'night_mins',\n",
        "       'night_calls', 'night_charge', 'intl_mins', 'intl_calls', 'intl_charge',\n",
        "       'custserv_calls']\n",
        "\n",
        "numeric_features"
      ]
    },
    {
      "cell_type": "code",
      "execution_count": null,
      "metadata": {
        "colab": {
          "base_uri": "https://localhost:8080/"
        },
        "id": "2QRNPREy1Fl4",
        "outputId": "83e8eb38-03d2-41ed-a5f9-9991814d6745"
      },
      "outputs": [
        {
          "output_type": "execute_result",
          "data": {
            "text/plain": [
              "['state', 'intl_plan', 'vmail_plan']"
            ]
          },
          "metadata": {},
          "execution_count": 70
        }
      ],
      "source": [
        "categorical_features = ['state', 'intl_plan', 'vmail_plan']\n",
        "categorical_features"
      ]
    },
    {
      "cell_type": "code",
      "execution_count": null,
      "metadata": {
        "id": "NOdpZDp51Fl4"
      },
      "outputs": [],
      "source": [
        "df_prep = df.copy()\n",
        "# 2. deal with nulls using fillna\n",
        "df_prep[numeric_features]     = df_prep[numeric_features].fillna(-1)\n",
        "df_prep[categorical_features] = df_prep[categorical_features].astype('str').fillna('missing')\n"
      ]
    },
    {
      "cell_type": "code",
      "execution_count": null,
      "metadata": {
        "colab": {
          "base_uri": "https://localhost:8080/",
          "height": 255
        },
        "id": "m45zuLun1Fl4",
        "outputId": "c3717397-eb77-4a76-81fe-e28d7a0d053f"
      },
      "outputs": [
        {
          "output_type": "execute_result",
          "data": {
            "text/plain": [
              "    churn  account_length  area_code  vmail_message  day_mins  day_calls  \\\n",
              "0  False.             128        415             25     265.1        110   \n",
              "1  False.             107        415             26     161.6        123   \n",
              "2  False.             137        415              0     243.4        114   \n",
              "3  False.              84        408              0     299.4         71   \n",
              "4  False.              75        415              0     166.7        113   \n",
              "\n",
              "   day_charge  eve_mins  eve_calls  eve_charge  ...  state_VA  state_VT  \\\n",
              "0       45.07     197.4         99       16.78  ...     False     False   \n",
              "1       27.47     195.5        103       16.62  ...     False     False   \n",
              "2       41.38     121.2        110       10.30  ...     False     False   \n",
              "3       50.90      61.9         88        5.26  ...     False     False   \n",
              "4       28.34     148.3        122       12.61  ...     False     False   \n",
              "\n",
              "   state_WA  state_WI  state_WV  state_WY  intl_plan_no  intl_plan_yes  \\\n",
              "0     False     False     False     False          True          False   \n",
              "1     False     False     False     False          True          False   \n",
              "2     False     False     False     False          True          False   \n",
              "3     False     False     False     False         False           True   \n",
              "4     False     False     False     False         False           True   \n",
              "\n",
              "   vmail_plan_no  vmail_plan_yes  \n",
              "0          False            True  \n",
              "1          False            True  \n",
              "2           True           False  \n",
              "3           True           False  \n",
              "4           True           False  \n",
              "\n",
              "[5 rows x 72 columns]"
            ],
            "text/html": [
              "\n",
              "  <div id=\"df-71a8c9f2-c17a-4d99-aadd-abdff4055d27\" class=\"colab-df-container\">\n",
              "    <div>\n",
              "<style scoped>\n",
              "    .dataframe tbody tr th:only-of-type {\n",
              "        vertical-align: middle;\n",
              "    }\n",
              "\n",
              "    .dataframe tbody tr th {\n",
              "        vertical-align: top;\n",
              "    }\n",
              "\n",
              "    .dataframe thead th {\n",
              "        text-align: right;\n",
              "    }\n",
              "</style>\n",
              "<table border=\"1\" class=\"dataframe\">\n",
              "  <thead>\n",
              "    <tr style=\"text-align: right;\">\n",
              "      <th></th>\n",
              "      <th>churn</th>\n",
              "      <th>account_length</th>\n",
              "      <th>area_code</th>\n",
              "      <th>vmail_message</th>\n",
              "      <th>day_mins</th>\n",
              "      <th>day_calls</th>\n",
              "      <th>day_charge</th>\n",
              "      <th>eve_mins</th>\n",
              "      <th>eve_calls</th>\n",
              "      <th>eve_charge</th>\n",
              "      <th>...</th>\n",
              "      <th>state_VA</th>\n",
              "      <th>state_VT</th>\n",
              "      <th>state_WA</th>\n",
              "      <th>state_WI</th>\n",
              "      <th>state_WV</th>\n",
              "      <th>state_WY</th>\n",
              "      <th>intl_plan_no</th>\n",
              "      <th>intl_plan_yes</th>\n",
              "      <th>vmail_plan_no</th>\n",
              "      <th>vmail_plan_yes</th>\n",
              "    </tr>\n",
              "  </thead>\n",
              "  <tbody>\n",
              "    <tr>\n",
              "      <th>0</th>\n",
              "      <td>False.</td>\n",
              "      <td>128</td>\n",
              "      <td>415</td>\n",
              "      <td>25</td>\n",
              "      <td>265.1</td>\n",
              "      <td>110</td>\n",
              "      <td>45.07</td>\n",
              "      <td>197.4</td>\n",
              "      <td>99</td>\n",
              "      <td>16.78</td>\n",
              "      <td>...</td>\n",
              "      <td>False</td>\n",
              "      <td>False</td>\n",
              "      <td>False</td>\n",
              "      <td>False</td>\n",
              "      <td>False</td>\n",
              "      <td>False</td>\n",
              "      <td>True</td>\n",
              "      <td>False</td>\n",
              "      <td>False</td>\n",
              "      <td>True</td>\n",
              "    </tr>\n",
              "    <tr>\n",
              "      <th>1</th>\n",
              "      <td>False.</td>\n",
              "      <td>107</td>\n",
              "      <td>415</td>\n",
              "      <td>26</td>\n",
              "      <td>161.6</td>\n",
              "      <td>123</td>\n",
              "      <td>27.47</td>\n",
              "      <td>195.5</td>\n",
              "      <td>103</td>\n",
              "      <td>16.62</td>\n",
              "      <td>...</td>\n",
              "      <td>False</td>\n",
              "      <td>False</td>\n",
              "      <td>False</td>\n",
              "      <td>False</td>\n",
              "      <td>False</td>\n",
              "      <td>False</td>\n",
              "      <td>True</td>\n",
              "      <td>False</td>\n",
              "      <td>False</td>\n",
              "      <td>True</td>\n",
              "    </tr>\n",
              "    <tr>\n",
              "      <th>2</th>\n",
              "      <td>False.</td>\n",
              "      <td>137</td>\n",
              "      <td>415</td>\n",
              "      <td>0</td>\n",
              "      <td>243.4</td>\n",
              "      <td>114</td>\n",
              "      <td>41.38</td>\n",
              "      <td>121.2</td>\n",
              "      <td>110</td>\n",
              "      <td>10.30</td>\n",
              "      <td>...</td>\n",
              "      <td>False</td>\n",
              "      <td>False</td>\n",
              "      <td>False</td>\n",
              "      <td>False</td>\n",
              "      <td>False</td>\n",
              "      <td>False</td>\n",
              "      <td>True</td>\n",
              "      <td>False</td>\n",
              "      <td>True</td>\n",
              "      <td>False</td>\n",
              "    </tr>\n",
              "    <tr>\n",
              "      <th>3</th>\n",
              "      <td>False.</td>\n",
              "      <td>84</td>\n",
              "      <td>408</td>\n",
              "      <td>0</td>\n",
              "      <td>299.4</td>\n",
              "      <td>71</td>\n",
              "      <td>50.90</td>\n",
              "      <td>61.9</td>\n",
              "      <td>88</td>\n",
              "      <td>5.26</td>\n",
              "      <td>...</td>\n",
              "      <td>False</td>\n",
              "      <td>False</td>\n",
              "      <td>False</td>\n",
              "      <td>False</td>\n",
              "      <td>False</td>\n",
              "      <td>False</td>\n",
              "      <td>False</td>\n",
              "      <td>True</td>\n",
              "      <td>True</td>\n",
              "      <td>False</td>\n",
              "    </tr>\n",
              "    <tr>\n",
              "      <th>4</th>\n",
              "      <td>False.</td>\n",
              "      <td>75</td>\n",
              "      <td>415</td>\n",
              "      <td>0</td>\n",
              "      <td>166.7</td>\n",
              "      <td>113</td>\n",
              "      <td>28.34</td>\n",
              "      <td>148.3</td>\n",
              "      <td>122</td>\n",
              "      <td>12.61</td>\n",
              "      <td>...</td>\n",
              "      <td>False</td>\n",
              "      <td>False</td>\n",
              "      <td>False</td>\n",
              "      <td>False</td>\n",
              "      <td>False</td>\n",
              "      <td>False</td>\n",
              "      <td>False</td>\n",
              "      <td>True</td>\n",
              "      <td>True</td>\n",
              "      <td>False</td>\n",
              "    </tr>\n",
              "  </tbody>\n",
              "</table>\n",
              "<p>5 rows × 72 columns</p>\n",
              "</div>\n",
              "    <div class=\"colab-df-buttons\">\n",
              "\n",
              "  <div class=\"colab-df-container\">\n",
              "    <button class=\"colab-df-convert\" onclick=\"convertToInteractive('df-71a8c9f2-c17a-4d99-aadd-abdff4055d27')\"\n",
              "            title=\"Convert this dataframe to an interactive table.\"\n",
              "            style=\"display:none;\">\n",
              "\n",
              "  <svg xmlns=\"http://www.w3.org/2000/svg\" height=\"24px\" viewBox=\"0 -960 960 960\">\n",
              "    <path d=\"M120-120v-720h720v720H120Zm60-500h600v-160H180v160Zm220 220h160v-160H400v160Zm0 220h160v-160H400v160ZM180-400h160v-160H180v160Zm440 0h160v-160H620v160ZM180-180h160v-160H180v160Zm440 0h160v-160H620v160Z\"/>\n",
              "  </svg>\n",
              "    </button>\n",
              "\n",
              "  <style>\n",
              "    .colab-df-container {\n",
              "      display:flex;\n",
              "      gap: 12px;\n",
              "    }\n",
              "\n",
              "    .colab-df-convert {\n",
              "      background-color: #E8F0FE;\n",
              "      border: none;\n",
              "      border-radius: 50%;\n",
              "      cursor: pointer;\n",
              "      display: none;\n",
              "      fill: #1967D2;\n",
              "      height: 32px;\n",
              "      padding: 0 0 0 0;\n",
              "      width: 32px;\n",
              "    }\n",
              "\n",
              "    .colab-df-convert:hover {\n",
              "      background-color: #E2EBFA;\n",
              "      box-shadow: 0px 1px 2px rgba(60, 64, 67, 0.3), 0px 1px 3px 1px rgba(60, 64, 67, 0.15);\n",
              "      fill: #174EA6;\n",
              "    }\n",
              "\n",
              "    .colab-df-buttons div {\n",
              "      margin-bottom: 4px;\n",
              "    }\n",
              "\n",
              "    [theme=dark] .colab-df-convert {\n",
              "      background-color: #3B4455;\n",
              "      fill: #D2E3FC;\n",
              "    }\n",
              "\n",
              "    [theme=dark] .colab-df-convert:hover {\n",
              "      background-color: #434B5C;\n",
              "      box-shadow: 0px 1px 3px 1px rgba(0, 0, 0, 0.15);\n",
              "      filter: drop-shadow(0px 1px 2px rgba(0, 0, 0, 0.3));\n",
              "      fill: #FFFFFF;\n",
              "    }\n",
              "  </style>\n",
              "\n",
              "    <script>\n",
              "      const buttonEl =\n",
              "        document.querySelector('#df-71a8c9f2-c17a-4d99-aadd-abdff4055d27 button.colab-df-convert');\n",
              "      buttonEl.style.display =\n",
              "        google.colab.kernel.accessAllowed ? 'block' : 'none';\n",
              "\n",
              "      async function convertToInteractive(key) {\n",
              "        const element = document.querySelector('#df-71a8c9f2-c17a-4d99-aadd-abdff4055d27');\n",
              "        const dataTable =\n",
              "          await google.colab.kernel.invokeFunction('convertToInteractive',\n",
              "                                                    [key], {});\n",
              "        if (!dataTable) return;\n",
              "\n",
              "        const docLinkHtml = 'Like what you see? Visit the ' +\n",
              "          '<a target=\"_blank\" href=https://colab.research.google.com/notebooks/data_table.ipynb>data table notebook</a>'\n",
              "          + ' to learn more about interactive tables.';\n",
              "        element.innerHTML = '';\n",
              "        dataTable['output_type'] = 'display_data';\n",
              "        await google.colab.output.renderOutput(dataTable, element);\n",
              "        const docLink = document.createElement('div');\n",
              "        docLink.innerHTML = docLinkHtml;\n",
              "        element.appendChild(docLink);\n",
              "      }\n",
              "    </script>\n",
              "  </div>\n",
              "\n",
              "\n",
              "<div id=\"df-78ab995c-0c48-4536-8edb-bd916216025f\">\n",
              "  <button class=\"colab-df-quickchart\" onclick=\"quickchart('df-78ab995c-0c48-4536-8edb-bd916216025f')\"\n",
              "            title=\"Suggest charts\"\n",
              "            style=\"display:none;\">\n",
              "\n",
              "<svg xmlns=\"http://www.w3.org/2000/svg\" height=\"24px\"viewBox=\"0 0 24 24\"\n",
              "     width=\"24px\">\n",
              "    <g>\n",
              "        <path d=\"M19 3H5c-1.1 0-2 .9-2 2v14c0 1.1.9 2 2 2h14c1.1 0 2-.9 2-2V5c0-1.1-.9-2-2-2zM9 17H7v-7h2v7zm4 0h-2V7h2v10zm4 0h-2v-4h2v4z\"/>\n",
              "    </g>\n",
              "</svg>\n",
              "  </button>\n",
              "\n",
              "<style>\n",
              "  .colab-df-quickchart {\n",
              "      --bg-color: #E8F0FE;\n",
              "      --fill-color: #1967D2;\n",
              "      --hover-bg-color: #E2EBFA;\n",
              "      --hover-fill-color: #174EA6;\n",
              "      --disabled-fill-color: #AAA;\n",
              "      --disabled-bg-color: #DDD;\n",
              "  }\n",
              "\n",
              "  [theme=dark] .colab-df-quickchart {\n",
              "      --bg-color: #3B4455;\n",
              "      --fill-color: #D2E3FC;\n",
              "      --hover-bg-color: #434B5C;\n",
              "      --hover-fill-color: #FFFFFF;\n",
              "      --disabled-bg-color: #3B4455;\n",
              "      --disabled-fill-color: #666;\n",
              "  }\n",
              "\n",
              "  .colab-df-quickchart {\n",
              "    background-color: var(--bg-color);\n",
              "    border: none;\n",
              "    border-radius: 50%;\n",
              "    cursor: pointer;\n",
              "    display: none;\n",
              "    fill: var(--fill-color);\n",
              "    height: 32px;\n",
              "    padding: 0;\n",
              "    width: 32px;\n",
              "  }\n",
              "\n",
              "  .colab-df-quickchart:hover {\n",
              "    background-color: var(--hover-bg-color);\n",
              "    box-shadow: 0 1px 2px rgba(60, 64, 67, 0.3), 0 1px 3px 1px rgba(60, 64, 67, 0.15);\n",
              "    fill: var(--button-hover-fill-color);\n",
              "  }\n",
              "\n",
              "  .colab-df-quickchart-complete:disabled,\n",
              "  .colab-df-quickchart-complete:disabled:hover {\n",
              "    background-color: var(--disabled-bg-color);\n",
              "    fill: var(--disabled-fill-color);\n",
              "    box-shadow: none;\n",
              "  }\n",
              "\n",
              "  .colab-df-spinner {\n",
              "    border: 2px solid var(--fill-color);\n",
              "    border-color: transparent;\n",
              "    border-bottom-color: var(--fill-color);\n",
              "    animation:\n",
              "      spin 1s steps(1) infinite;\n",
              "  }\n",
              "\n",
              "  @keyframes spin {\n",
              "    0% {\n",
              "      border-color: transparent;\n",
              "      border-bottom-color: var(--fill-color);\n",
              "      border-left-color: var(--fill-color);\n",
              "    }\n",
              "    20% {\n",
              "      border-color: transparent;\n",
              "      border-left-color: var(--fill-color);\n",
              "      border-top-color: var(--fill-color);\n",
              "    }\n",
              "    30% {\n",
              "      border-color: transparent;\n",
              "      border-left-color: var(--fill-color);\n",
              "      border-top-color: var(--fill-color);\n",
              "      border-right-color: var(--fill-color);\n",
              "    }\n",
              "    40% {\n",
              "      border-color: transparent;\n",
              "      border-right-color: var(--fill-color);\n",
              "      border-top-color: var(--fill-color);\n",
              "    }\n",
              "    60% {\n",
              "      border-color: transparent;\n",
              "      border-right-color: var(--fill-color);\n",
              "    }\n",
              "    80% {\n",
              "      border-color: transparent;\n",
              "      border-right-color: var(--fill-color);\n",
              "      border-bottom-color: var(--fill-color);\n",
              "    }\n",
              "    90% {\n",
              "      border-color: transparent;\n",
              "      border-bottom-color: var(--fill-color);\n",
              "    }\n",
              "  }\n",
              "</style>\n",
              "\n",
              "  <script>\n",
              "    async function quickchart(key) {\n",
              "      const quickchartButtonEl =\n",
              "        document.querySelector('#' + key + ' button');\n",
              "      quickchartButtonEl.disabled = true;  // To prevent multiple clicks.\n",
              "      quickchartButtonEl.classList.add('colab-df-spinner');\n",
              "      try {\n",
              "        const charts = await google.colab.kernel.invokeFunction(\n",
              "            'suggestCharts', [key], {});\n",
              "      } catch (error) {\n",
              "        console.error('Error during call to suggestCharts:', error);\n",
              "      }\n",
              "      quickchartButtonEl.classList.remove('colab-df-spinner');\n",
              "      quickchartButtonEl.classList.add('colab-df-quickchart-complete');\n",
              "    }\n",
              "    (() => {\n",
              "      let quickchartButtonEl =\n",
              "        document.querySelector('#df-78ab995c-0c48-4536-8edb-bd916216025f button');\n",
              "      quickchartButtonEl.style.display =\n",
              "        google.colab.kernel.accessAllowed ? 'block' : 'none';\n",
              "    })();\n",
              "  </script>\n",
              "</div>\n",
              "\n",
              "    </div>\n",
              "  </div>\n"
            ],
            "application/vnd.google.colaboratory.intrinsic+json": {
              "type": "dataframe",
              "variable_name": "df_prep"
            }
          },
          "metadata": {},
          "execution_count": 72
        }
      ],
      "source": [
        "target = \"churn\"\n",
        "df_prep = pd.get_dummies(df[[target] + numeric_features+categorical_features  ], columns=categorical_features)\n",
        "df_prep.columns\n",
        "\n",
        "feature_names = ['account_length', 'area_code', 'vmail_message', 'day_mins',\n",
        "       'day_calls', 'day_charge', 'eve_mins', 'eve_calls', 'eve_charge',\n",
        "       'night_mins', 'night_calls', 'night_charge', 'intl_mins', 'intl_calls',\n",
        "       'intl_charge', 'custserv_calls', 'state_AK', 'state_AL', 'state_AR',\n",
        "       'state_AZ', 'state_CA', 'state_CO', 'state_CT', 'state_DC', 'state_DE',\n",
        "       'state_FL', 'state_GA', 'state_HI', 'state_IA', 'state_ID', 'state_IL',\n",
        "       'state_IN', 'state_KS', 'state_KY', 'state_LA', 'state_MA', 'state_MD',\n",
        "       'state_ME', 'state_MI', 'state_MN', 'state_MO', 'state_MS', 'state_MT',\n",
        "       'state_NC', 'state_ND', 'state_NE', 'state_NH', 'state_NJ', 'state_NM',\n",
        "       'state_NV', 'state_NY', 'state_OH', 'state_OK', 'state_OR', 'state_PA',\n",
        "       'state_RI', 'state_SC', 'state_SD', 'state_TN', 'state_TX', 'state_UT',\n",
        "       'state_VA', 'state_VT', 'state_WA', 'state_WI', 'state_WV', 'state_WY',\n",
        "       'intl_plan_no', 'intl_plan_yes', 'vmail_plan_no', 'vmail_plan_yes']\n",
        "df_prep.head()"
      ]
    },
    {
      "cell_type": "code",
      "execution_count": null,
      "metadata": {
        "colab": {
          "base_uri": "https://localhost:8080/"
        },
        "id": "kcd2ribn1Fl5",
        "outputId": "50651d1d-e827-4097-fe0b-9e814a7c3826"
      },
      "outputs": [
        {
          "output_type": "stream",
          "name": "stdout",
          "text": [
            "train pct: 70.00%\n",
            "test  pct: 30.00%\n"
          ]
        }
      ],
      "source": [
        "# make a Train Test Split\n",
        "X_train, X_test, = train_test_split(df_prep, test_size=0.30)\n",
        "print(\"train pct: {:2.2%}\".format(X_train.shape[0]/df.shape[0]))\n",
        "print(\"test  pct: {:2.2%}\".format(X_test.shape[0]/df.shape[0]))"
      ]
    },
    {
      "cell_type": "markdown",
      "metadata": {
        "id": "IwCpZIJ11Fl5"
      },
      "source": [
        "## Simulate a Random Forest\n",
        "----\n",
        "The trick with random forest is to train each tree on a random set of features and a random sample of data, then vote your predictions. of course this is the simplest example, there is more to it behind the scenes but this shoudl give you an idea of what's going on.\n",
        "\n",
        "1. sample a set of features\n",
        "2. sample a set of data\n",
        "3. train your tree\n",
        "4. make predictonis\n",
        "5. vote\n"
      ]
    },
    {
      "cell_type": "code",
      "execution_count": null,
      "metadata": {
        "colab": {
          "base_uri": "https://localhost:8080/",
          "height": 74
        },
        "id": "i1ZKedbE1Fl5",
        "outputId": "9ba2db37-af0e-4d56-b743-c985278b1ced"
      },
      "outputs": [
        {
          "output_type": "execute_result",
          "data": {
            "text/plain": [
              "DecisionTreeClassifier(min_samples_leaf=10)"
            ],
            "text/html": [
              "<style>#sk-container-id-10 {color: black;background-color: white;}#sk-container-id-10 pre{padding: 0;}#sk-container-id-10 div.sk-toggleable {background-color: white;}#sk-container-id-10 label.sk-toggleable__label {cursor: pointer;display: block;width: 100%;margin-bottom: 0;padding: 0.3em;box-sizing: border-box;text-align: center;}#sk-container-id-10 label.sk-toggleable__label-arrow:before {content: \"▸\";float: left;margin-right: 0.25em;color: #696969;}#sk-container-id-10 label.sk-toggleable__label-arrow:hover:before {color: black;}#sk-container-id-10 div.sk-estimator:hover label.sk-toggleable__label-arrow:before {color: black;}#sk-container-id-10 div.sk-toggleable__content {max-height: 0;max-width: 0;overflow: hidden;text-align: left;background-color: #f0f8ff;}#sk-container-id-10 div.sk-toggleable__content pre {margin: 0.2em;color: black;border-radius: 0.25em;background-color: #f0f8ff;}#sk-container-id-10 input.sk-toggleable__control:checked~div.sk-toggleable__content {max-height: 200px;max-width: 100%;overflow: auto;}#sk-container-id-10 input.sk-toggleable__control:checked~label.sk-toggleable__label-arrow:before {content: \"▾\";}#sk-container-id-10 div.sk-estimator input.sk-toggleable__control:checked~label.sk-toggleable__label {background-color: #d4ebff;}#sk-container-id-10 div.sk-label input.sk-toggleable__control:checked~label.sk-toggleable__label {background-color: #d4ebff;}#sk-container-id-10 input.sk-hidden--visually {border: 0;clip: rect(1px 1px 1px 1px);clip: rect(1px, 1px, 1px, 1px);height: 1px;margin: -1px;overflow: hidden;padding: 0;position: absolute;width: 1px;}#sk-container-id-10 div.sk-estimator {font-family: monospace;background-color: #f0f8ff;border: 1px dotted black;border-radius: 0.25em;box-sizing: border-box;margin-bottom: 0.5em;}#sk-container-id-10 div.sk-estimator:hover {background-color: #d4ebff;}#sk-container-id-10 div.sk-parallel-item::after {content: \"\";width: 100%;border-bottom: 1px solid gray;flex-grow: 1;}#sk-container-id-10 div.sk-label:hover label.sk-toggleable__label {background-color: #d4ebff;}#sk-container-id-10 div.sk-serial::before {content: \"\";position: absolute;border-left: 1px solid gray;box-sizing: border-box;top: 0;bottom: 0;left: 50%;z-index: 0;}#sk-container-id-10 div.sk-serial {display: flex;flex-direction: column;align-items: center;background-color: white;padding-right: 0.2em;padding-left: 0.2em;position: relative;}#sk-container-id-10 div.sk-item {position: relative;z-index: 1;}#sk-container-id-10 div.sk-parallel {display: flex;align-items: stretch;justify-content: center;background-color: white;position: relative;}#sk-container-id-10 div.sk-item::before, #sk-container-id-10 div.sk-parallel-item::before {content: \"\";position: absolute;border-left: 1px solid gray;box-sizing: border-box;top: 0;bottom: 0;left: 50%;z-index: -1;}#sk-container-id-10 div.sk-parallel-item {display: flex;flex-direction: column;z-index: 1;position: relative;background-color: white;}#sk-container-id-10 div.sk-parallel-item:first-child::after {align-self: flex-end;width: 50%;}#sk-container-id-10 div.sk-parallel-item:last-child::after {align-self: flex-start;width: 50%;}#sk-container-id-10 div.sk-parallel-item:only-child::after {width: 0;}#sk-container-id-10 div.sk-dashed-wrapped {border: 1px dashed gray;margin: 0 0.4em 0.5em 0.4em;box-sizing: border-box;padding-bottom: 0.4em;background-color: white;}#sk-container-id-10 div.sk-label label {font-family: monospace;font-weight: bold;display: inline-block;line-height: 1.2em;}#sk-container-id-10 div.sk-label-container {text-align: center;}#sk-container-id-10 div.sk-container {/* jupyter's `normalize.less` sets `[hidden] { display: none; }` but bootstrap.min.css set `[hidden] { display: none !important; }` so we also need the `!important` here to be able to override the default hidden behavior on the sphinx rendered scikit-learn.org. See: https://github.com/scikit-learn/scikit-learn/issues/21755 */display: inline-block !important;position: relative;}#sk-container-id-10 div.sk-text-repr-fallback {display: none;}</style><div id=\"sk-container-id-10\" class=\"sk-top-container\"><div class=\"sk-text-repr-fallback\"><pre>DecisionTreeClassifier(min_samples_leaf=10)</pre><b>In a Jupyter environment, please rerun this cell to show the HTML representation or trust the notebook. <br />On GitHub, the HTML representation is unable to render, please try loading this page with nbviewer.org.</b></div><div class=\"sk-container\" hidden><div class=\"sk-item\"><div class=\"sk-estimator sk-toggleable\"><input class=\"sk-toggleable__control sk-hidden--visually\" id=\"sk-estimator-id-10\" type=\"checkbox\" checked><label for=\"sk-estimator-id-10\" class=\"sk-toggleable__label sk-toggleable__label-arrow\">DecisionTreeClassifier</label><div class=\"sk-toggleable__content\"><pre>DecisionTreeClassifier(min_samples_leaf=10)</pre></div></div></div></div></div>"
            ]
          },
          "metadata": {},
          "execution_count": 74
        }
      ],
      "source": [
        "## Make three trees from random samples\n",
        "import random\n",
        "\n",
        "tree1_features = random.sample(feature_names,10)\n",
        "\n",
        "tree1_sample = X_train[[target]+tree1_features].sample(frac=0.6, replace=True, random_state=123)\n",
        "tree1 = tree.DecisionTreeClassifier(\n",
        "                                    criterion='gini',\n",
        "                                    #max_depth=10,\n",
        "                                    min_samples_leaf=10)\n",
        "\n",
        "tree1 = tree1.fit(tree1_sample[tree1_features], tree1_sample[target])\n",
        "tree1\n",
        "\n"
      ]
    },
    {
      "cell_type": "code",
      "execution_count": null,
      "metadata": {
        "colab": {
          "base_uri": "https://localhost:8080/",
          "height": 74
        },
        "id": "3qF3hVx01Fl5",
        "outputId": "4bcff56f-d478-42c8-8411-66a951b614b0"
      },
      "outputs": [
        {
          "output_type": "execute_result",
          "data": {
            "text/plain": [
              "DecisionTreeClassifier(min_samples_leaf=10)"
            ],
            "text/html": [
              "<style>#sk-container-id-11 {color: black;background-color: white;}#sk-container-id-11 pre{padding: 0;}#sk-container-id-11 div.sk-toggleable {background-color: white;}#sk-container-id-11 label.sk-toggleable__label {cursor: pointer;display: block;width: 100%;margin-bottom: 0;padding: 0.3em;box-sizing: border-box;text-align: center;}#sk-container-id-11 label.sk-toggleable__label-arrow:before {content: \"▸\";float: left;margin-right: 0.25em;color: #696969;}#sk-container-id-11 label.sk-toggleable__label-arrow:hover:before {color: black;}#sk-container-id-11 div.sk-estimator:hover label.sk-toggleable__label-arrow:before {color: black;}#sk-container-id-11 div.sk-toggleable__content {max-height: 0;max-width: 0;overflow: hidden;text-align: left;background-color: #f0f8ff;}#sk-container-id-11 div.sk-toggleable__content pre {margin: 0.2em;color: black;border-radius: 0.25em;background-color: #f0f8ff;}#sk-container-id-11 input.sk-toggleable__control:checked~div.sk-toggleable__content {max-height: 200px;max-width: 100%;overflow: auto;}#sk-container-id-11 input.sk-toggleable__control:checked~label.sk-toggleable__label-arrow:before {content: \"▾\";}#sk-container-id-11 div.sk-estimator input.sk-toggleable__control:checked~label.sk-toggleable__label {background-color: #d4ebff;}#sk-container-id-11 div.sk-label input.sk-toggleable__control:checked~label.sk-toggleable__label {background-color: #d4ebff;}#sk-container-id-11 input.sk-hidden--visually {border: 0;clip: rect(1px 1px 1px 1px);clip: rect(1px, 1px, 1px, 1px);height: 1px;margin: -1px;overflow: hidden;padding: 0;position: absolute;width: 1px;}#sk-container-id-11 div.sk-estimator {font-family: monospace;background-color: #f0f8ff;border: 1px dotted black;border-radius: 0.25em;box-sizing: border-box;margin-bottom: 0.5em;}#sk-container-id-11 div.sk-estimator:hover {background-color: #d4ebff;}#sk-container-id-11 div.sk-parallel-item::after {content: \"\";width: 100%;border-bottom: 1px solid gray;flex-grow: 1;}#sk-container-id-11 div.sk-label:hover label.sk-toggleable__label {background-color: #d4ebff;}#sk-container-id-11 div.sk-serial::before {content: \"\";position: absolute;border-left: 1px solid gray;box-sizing: border-box;top: 0;bottom: 0;left: 50%;z-index: 0;}#sk-container-id-11 div.sk-serial {display: flex;flex-direction: column;align-items: center;background-color: white;padding-right: 0.2em;padding-left: 0.2em;position: relative;}#sk-container-id-11 div.sk-item {position: relative;z-index: 1;}#sk-container-id-11 div.sk-parallel {display: flex;align-items: stretch;justify-content: center;background-color: white;position: relative;}#sk-container-id-11 div.sk-item::before, #sk-container-id-11 div.sk-parallel-item::before {content: \"\";position: absolute;border-left: 1px solid gray;box-sizing: border-box;top: 0;bottom: 0;left: 50%;z-index: -1;}#sk-container-id-11 div.sk-parallel-item {display: flex;flex-direction: column;z-index: 1;position: relative;background-color: white;}#sk-container-id-11 div.sk-parallel-item:first-child::after {align-self: flex-end;width: 50%;}#sk-container-id-11 div.sk-parallel-item:last-child::after {align-self: flex-start;width: 50%;}#sk-container-id-11 div.sk-parallel-item:only-child::after {width: 0;}#sk-container-id-11 div.sk-dashed-wrapped {border: 1px dashed gray;margin: 0 0.4em 0.5em 0.4em;box-sizing: border-box;padding-bottom: 0.4em;background-color: white;}#sk-container-id-11 div.sk-label label {font-family: monospace;font-weight: bold;display: inline-block;line-height: 1.2em;}#sk-container-id-11 div.sk-label-container {text-align: center;}#sk-container-id-11 div.sk-container {/* jupyter's `normalize.less` sets `[hidden] { display: none; }` but bootstrap.min.css set `[hidden] { display: none !important; }` so we also need the `!important` here to be able to override the default hidden behavior on the sphinx rendered scikit-learn.org. See: https://github.com/scikit-learn/scikit-learn/issues/21755 */display: inline-block !important;position: relative;}#sk-container-id-11 div.sk-text-repr-fallback {display: none;}</style><div id=\"sk-container-id-11\" class=\"sk-top-container\"><div class=\"sk-text-repr-fallback\"><pre>DecisionTreeClassifier(min_samples_leaf=10)</pre><b>In a Jupyter environment, please rerun this cell to show the HTML representation or trust the notebook. <br />On GitHub, the HTML representation is unable to render, please try loading this page with nbviewer.org.</b></div><div class=\"sk-container\" hidden><div class=\"sk-item\"><div class=\"sk-estimator sk-toggleable\"><input class=\"sk-toggleable__control sk-hidden--visually\" id=\"sk-estimator-id-11\" type=\"checkbox\" checked><label for=\"sk-estimator-id-11\" class=\"sk-toggleable__label sk-toggleable__label-arrow\">DecisionTreeClassifier</label><div class=\"sk-toggleable__content\"><pre>DecisionTreeClassifier(min_samples_leaf=10)</pre></div></div></div></div></div>"
            ]
          },
          "metadata": {},
          "execution_count": 75
        }
      ],
      "source": [
        "tree2_features = random.sample(feature_names,10)\n",
        "tree2_sample = X_train[[target]+tree2_features].sample(frac=0.6, replace=True, random_state=43)\n",
        "tree2 = tree.DecisionTreeClassifier(\n",
        "                                    criterion='gini',\n",
        "                                    #max_depth=10,\n",
        "                                    min_samples_leaf=10)\n",
        "\n",
        "tree2 = tree2.fit(tree2_sample[tree2_features], tree2_sample[target])\n",
        "\n",
        "tree2\n",
        "\n"
      ]
    },
    {
      "cell_type": "code",
      "execution_count": null,
      "metadata": {
        "colab": {
          "base_uri": "https://localhost:8080/",
          "height": 74
        },
        "id": "dxAhWput1Fl5",
        "outputId": "d8ac7a7e-a93d-4eab-9852-fe31c1e04bb5"
      },
      "outputs": [
        {
          "output_type": "execute_result",
          "data": {
            "text/plain": [
              "DecisionTreeClassifier(min_samples_leaf=10)"
            ],
            "text/html": [
              "<style>#sk-container-id-12 {color: black;background-color: white;}#sk-container-id-12 pre{padding: 0;}#sk-container-id-12 div.sk-toggleable {background-color: white;}#sk-container-id-12 label.sk-toggleable__label {cursor: pointer;display: block;width: 100%;margin-bottom: 0;padding: 0.3em;box-sizing: border-box;text-align: center;}#sk-container-id-12 label.sk-toggleable__label-arrow:before {content: \"▸\";float: left;margin-right: 0.25em;color: #696969;}#sk-container-id-12 label.sk-toggleable__label-arrow:hover:before {color: black;}#sk-container-id-12 div.sk-estimator:hover label.sk-toggleable__label-arrow:before {color: black;}#sk-container-id-12 div.sk-toggleable__content {max-height: 0;max-width: 0;overflow: hidden;text-align: left;background-color: #f0f8ff;}#sk-container-id-12 div.sk-toggleable__content pre {margin: 0.2em;color: black;border-radius: 0.25em;background-color: #f0f8ff;}#sk-container-id-12 input.sk-toggleable__control:checked~div.sk-toggleable__content {max-height: 200px;max-width: 100%;overflow: auto;}#sk-container-id-12 input.sk-toggleable__control:checked~label.sk-toggleable__label-arrow:before {content: \"▾\";}#sk-container-id-12 div.sk-estimator input.sk-toggleable__control:checked~label.sk-toggleable__label {background-color: #d4ebff;}#sk-container-id-12 div.sk-label input.sk-toggleable__control:checked~label.sk-toggleable__label {background-color: #d4ebff;}#sk-container-id-12 input.sk-hidden--visually {border: 0;clip: rect(1px 1px 1px 1px);clip: rect(1px, 1px, 1px, 1px);height: 1px;margin: -1px;overflow: hidden;padding: 0;position: absolute;width: 1px;}#sk-container-id-12 div.sk-estimator {font-family: monospace;background-color: #f0f8ff;border: 1px dotted black;border-radius: 0.25em;box-sizing: border-box;margin-bottom: 0.5em;}#sk-container-id-12 div.sk-estimator:hover {background-color: #d4ebff;}#sk-container-id-12 div.sk-parallel-item::after {content: \"\";width: 100%;border-bottom: 1px solid gray;flex-grow: 1;}#sk-container-id-12 div.sk-label:hover label.sk-toggleable__label {background-color: #d4ebff;}#sk-container-id-12 div.sk-serial::before {content: \"\";position: absolute;border-left: 1px solid gray;box-sizing: border-box;top: 0;bottom: 0;left: 50%;z-index: 0;}#sk-container-id-12 div.sk-serial {display: flex;flex-direction: column;align-items: center;background-color: white;padding-right: 0.2em;padding-left: 0.2em;position: relative;}#sk-container-id-12 div.sk-item {position: relative;z-index: 1;}#sk-container-id-12 div.sk-parallel {display: flex;align-items: stretch;justify-content: center;background-color: white;position: relative;}#sk-container-id-12 div.sk-item::before, #sk-container-id-12 div.sk-parallel-item::before {content: \"\";position: absolute;border-left: 1px solid gray;box-sizing: border-box;top: 0;bottom: 0;left: 50%;z-index: -1;}#sk-container-id-12 div.sk-parallel-item {display: flex;flex-direction: column;z-index: 1;position: relative;background-color: white;}#sk-container-id-12 div.sk-parallel-item:first-child::after {align-self: flex-end;width: 50%;}#sk-container-id-12 div.sk-parallel-item:last-child::after {align-self: flex-start;width: 50%;}#sk-container-id-12 div.sk-parallel-item:only-child::after {width: 0;}#sk-container-id-12 div.sk-dashed-wrapped {border: 1px dashed gray;margin: 0 0.4em 0.5em 0.4em;box-sizing: border-box;padding-bottom: 0.4em;background-color: white;}#sk-container-id-12 div.sk-label label {font-family: monospace;font-weight: bold;display: inline-block;line-height: 1.2em;}#sk-container-id-12 div.sk-label-container {text-align: center;}#sk-container-id-12 div.sk-container {/* jupyter's `normalize.less` sets `[hidden] { display: none; }` but bootstrap.min.css set `[hidden] { display: none !important; }` so we also need the `!important` here to be able to override the default hidden behavior on the sphinx rendered scikit-learn.org. See: https://github.com/scikit-learn/scikit-learn/issues/21755 */display: inline-block !important;position: relative;}#sk-container-id-12 div.sk-text-repr-fallback {display: none;}</style><div id=\"sk-container-id-12\" class=\"sk-top-container\"><div class=\"sk-text-repr-fallback\"><pre>DecisionTreeClassifier(min_samples_leaf=10)</pre><b>In a Jupyter environment, please rerun this cell to show the HTML representation or trust the notebook. <br />On GitHub, the HTML representation is unable to render, please try loading this page with nbviewer.org.</b></div><div class=\"sk-container\" hidden><div class=\"sk-item\"><div class=\"sk-estimator sk-toggleable\"><input class=\"sk-toggleable__control sk-hidden--visually\" id=\"sk-estimator-id-12\" type=\"checkbox\" checked><label for=\"sk-estimator-id-12\" class=\"sk-toggleable__label sk-toggleable__label-arrow\">DecisionTreeClassifier</label><div class=\"sk-toggleable__content\"><pre>DecisionTreeClassifier(min_samples_leaf=10)</pre></div></div></div></div></div>"
            ]
          },
          "metadata": {},
          "execution_count": 76
        }
      ],
      "source": [
        "tree3_features = random.sample(feature_names,10)\n",
        "tree3_sample = X_train[[target]+tree3_features].sample(frac=0.6, replace=True, random_state=234)\n",
        "tree3 = tree.DecisionTreeClassifier(\n",
        "                                    criterion='gini',\n",
        "                                    #max_depth=10,\n",
        "                                    min_samples_leaf=10)\n",
        "\n",
        "tree3 = tree3.fit(tree3_sample[tree3_features], tree3_sample[target])\n",
        "tree3"
      ]
    },
    {
      "cell_type": "markdown",
      "metadata": {
        "id": "pe2o39NO1Fl5"
      },
      "source": [
        "### Optionally you can visualize each tree : visualize a tree\n",
        "\n",
        "```python\n",
        "dot_data = tree.export_graphviz(tree1,\n",
        "                                out_file=None,\n",
        "                                feature_names=feature_names,\n",
        "                                class_names = [\"False.\", \"True.\"],\n",
        "                                max_depth=3,\n",
        "                                filled=True,\n",
        "                                impurity=True,\n",
        "                                proportion=True,\n",
        "                                rounded=True,  \n",
        "                                  special_characters=False)  \n",
        "graph = graphviz.Source(dot_data)  \n",
        "graph\n",
        "\n",
        "```"
      ]
    },
    {
      "cell_type": "code",
      "execution_count": null,
      "metadata": {
        "colab": {
          "base_uri": "https://localhost:8080/",
          "height": 734
        },
        "id": "d6LfyeAo1Fl5",
        "outputId": "3a439e44-16f1-4766-9d15-69045ce2ec70"
      },
      "outputs": [
        {
          "output_type": "execute_result",
          "data": {
            "image/svg+xml": "<?xml version=\"1.0\" encoding=\"UTF-8\" standalone=\"no\"?>\n<!DOCTYPE svg PUBLIC \"-//W3C//DTD SVG 1.1//EN\"\n \"http://www.w3.org/Graphics/SVG/1.1/DTD/svg11.dtd\">\n<!-- Generated by graphviz version 2.43.0 (0)\n -->\n<!-- Title: Tree Pages: 1 -->\n<svg width=\"988pt\" height=\"520pt\"\n viewBox=\"0.00 0.00 988.00 520.00\" xmlns=\"http://www.w3.org/2000/svg\" xmlns:xlink=\"http://www.w3.org/1999/xlink\">\n<g id=\"graph0\" class=\"graph\" transform=\"scale(1 1) rotate(0) translate(4 516)\">\n<title>Tree</title>\n<polygon fill=\"white\" stroke=\"transparent\" points=\"-4,4 -4,-516 984,-516 984,4 -4,4\"/>\n<!-- 0 -->\n<g id=\"node1\" class=\"node\">\n<title>0</title>\n<path fill=\"#ea985d\" stroke=\"black\" d=\"M553,-512C553,-512 430,-512 430,-512 424,-512 418,-506 418,-500 418,-500 418,-441 418,-441 418,-435 424,-429 430,-429 430,-429 553,-429 553,-429 559,-429 565,-435 565,-441 565,-441 565,-500 565,-500 565,-506 559,-512 553,-512\"/>\n<text text-anchor=\"middle\" x=\"491.5\" y=\"-496.8\" font-family=\"Helvetica,sans-Serif\" font-size=\"14.00\">day_mins &lt;= 275.5</text>\n<text text-anchor=\"middle\" x=\"491.5\" y=\"-481.8\" font-family=\"Helvetica,sans-Serif\" font-size=\"14.00\">gini = 0.259</text>\n<text text-anchor=\"middle\" x=\"491.5\" y=\"-466.8\" font-family=\"Helvetica,sans-Serif\" font-size=\"14.00\">samples = 100.0%</text>\n<text text-anchor=\"middle\" x=\"491.5\" y=\"-451.8\" font-family=\"Helvetica,sans-Serif\" font-size=\"14.00\">value = [0.847, 0.153]</text>\n<text text-anchor=\"middle\" x=\"491.5\" y=\"-436.8\" font-family=\"Helvetica,sans-Serif\" font-size=\"14.00\">class = False.</text>\n</g>\n<!-- 1 -->\n<g id=\"node2\" class=\"node\">\n<title>1</title>\n<path fill=\"#e99356\" stroke=\"black\" d=\"M467,-393C467,-393 344,-393 344,-393 338,-393 332,-387 332,-381 332,-381 332,-322 332,-322 332,-316 338,-310 344,-310 344,-310 467,-310 467,-310 473,-310 479,-316 479,-322 479,-322 479,-381 479,-381 479,-387 473,-393 467,-393\"/>\n<text text-anchor=\"middle\" x=\"405.5\" y=\"-377.8\" font-family=\"Helvetica,sans-Serif\" font-size=\"14.00\">day_mins &lt;= 244.95</text>\n<text text-anchor=\"middle\" x=\"405.5\" y=\"-362.8\" font-family=\"Helvetica,sans-Serif\" font-size=\"14.00\">gini = 0.222</text>\n<text text-anchor=\"middle\" x=\"405.5\" y=\"-347.8\" font-family=\"Helvetica,sans-Serif\" font-size=\"14.00\">samples = 95.9%</text>\n<text text-anchor=\"middle\" x=\"405.5\" y=\"-332.8\" font-family=\"Helvetica,sans-Serif\" font-size=\"14.00\">value = [0.873, 0.127]</text>\n<text text-anchor=\"middle\" x=\"405.5\" y=\"-317.8\" font-family=\"Helvetica,sans-Serif\" font-size=\"14.00\">class = False.</text>\n</g>\n<!-- 0&#45;&gt;1 -->\n<g id=\"edge1\" class=\"edge\">\n<title>0&#45;&gt;1</title>\n<path fill=\"none\" stroke=\"black\" d=\"M461.66,-428.91C455.13,-420.01 448.14,-410.51 441.39,-401.33\"/>\n<polygon fill=\"black\" stroke=\"black\" points=\"444.03,-399.01 435.28,-393.02 438.39,-403.15 444.03,-399.01\"/>\n<text text-anchor=\"middle\" x=\"431.51\" y=\"-414.03\" font-family=\"Helvetica,sans-Serif\" font-size=\"14.00\">True</text>\n</g>\n<!-- 148 -->\n<g id=\"node17\" class=\"node\">\n<title>148</title>\n<path fill=\"#79bded\" stroke=\"black\" d=\"M634,-393C634,-393 511,-393 511,-393 505,-393 499,-387 499,-381 499,-381 499,-322 499,-322 499,-316 505,-310 511,-310 511,-310 634,-310 634,-310 640,-310 646,-316 646,-322 646,-322 646,-381 646,-381 646,-387 640,-393 634,-393\"/>\n<text text-anchor=\"middle\" x=\"572.5\" y=\"-377.8\" font-family=\"Helvetica,sans-Serif\" font-size=\"14.00\">eve_mins &lt;= 179.7</text>\n<text text-anchor=\"middle\" x=\"572.5\" y=\"-362.8\" font-family=\"Helvetica,sans-Serif\" font-size=\"14.00\">gini = 0.371</text>\n<text text-anchor=\"middle\" x=\"572.5\" y=\"-347.8\" font-family=\"Helvetica,sans-Serif\" font-size=\"14.00\">samples = 4.1%</text>\n<text text-anchor=\"middle\" x=\"572.5\" y=\"-332.8\" font-family=\"Helvetica,sans-Serif\" font-size=\"14.00\">value = [0.246, 0.754]</text>\n<text text-anchor=\"middle\" x=\"572.5\" y=\"-317.8\" font-family=\"Helvetica,sans-Serif\" font-size=\"14.00\">class = True.</text>\n</g>\n<!-- 0&#45;&gt;148 -->\n<g id=\"edge16\" class=\"edge\">\n<title>0&#45;&gt;148</title>\n<path fill=\"none\" stroke=\"black\" d=\"M519.6,-428.91C525.76,-420.01 532.34,-410.51 538.69,-401.33\"/>\n<polygon fill=\"black\" stroke=\"black\" points=\"541.63,-403.24 544.45,-393.02 535.88,-399.25 541.63,-403.24\"/>\n<text text-anchor=\"middle\" x=\"548.92\" y=\"-413.92\" font-family=\"Helvetica,sans-Serif\" font-size=\"14.00\">False</text>\n</g>\n<!-- 2 -->\n<g id=\"node3\" class=\"node\">\n<title>2</title>\n<path fill=\"#e89151\" stroke=\"black\" d=\"M292.5,-274C292.5,-274 184.5,-274 184.5,-274 178.5,-274 172.5,-268 172.5,-262 172.5,-262 172.5,-203 172.5,-203 172.5,-197 178.5,-191 184.5,-191 184.5,-191 292.5,-191 292.5,-191 298.5,-191 304.5,-197 304.5,-203 304.5,-203 304.5,-262 304.5,-262 304.5,-268 298.5,-274 292.5,-274\"/>\n<text text-anchor=\"middle\" x=\"238.5\" y=\"-258.8\" font-family=\"Helvetica,sans-Serif\" font-size=\"14.00\">intl_calls &lt;= 2.5</text>\n<text text-anchor=\"middle\" x=\"238.5\" y=\"-243.8\" font-family=\"Helvetica,sans-Serif\" font-size=\"14.00\">gini = 0.196</text>\n<text text-anchor=\"middle\" x=\"238.5\" y=\"-228.8\" font-family=\"Helvetica,sans-Serif\" font-size=\"14.00\">samples = 87.8%</text>\n<text text-anchor=\"middle\" x=\"238.5\" y=\"-213.8\" font-family=\"Helvetica,sans-Serif\" font-size=\"14.00\">value = [0.89, 0.11]</text>\n<text text-anchor=\"middle\" x=\"238.5\" y=\"-198.8\" font-family=\"Helvetica,sans-Serif\" font-size=\"14.00\">class = False.</text>\n</g>\n<!-- 1&#45;&gt;2 -->\n<g id=\"edge2\" class=\"edge\">\n<title>1&#45;&gt;2</title>\n<path fill=\"none\" stroke=\"black\" d=\"M347.56,-309.91C333.7,-300.2 318.8,-289.76 304.6,-279.81\"/>\n<polygon fill=\"black\" stroke=\"black\" points=\"306.54,-276.89 296.34,-274.02 302.52,-282.63 306.54,-276.89\"/>\n</g>\n<!-- 133 -->\n<g id=\"node10\" class=\"node\">\n<title>133</title>\n<path fill=\"#f1bb94\" stroke=\"black\" d=\"M467,-274C467,-274 344,-274 344,-274 338,-274 332,-268 332,-262 332,-262 332,-203 332,-203 332,-197 338,-191 344,-191 344,-191 467,-191 467,-191 473,-191 479,-197 479,-203 479,-203 479,-262 479,-262 479,-268 473,-274 467,-274\"/>\n<text text-anchor=\"middle\" x=\"405.5\" y=\"-258.8\" font-family=\"Helvetica,sans-Serif\" font-size=\"14.00\">eve_mins &lt;= 223.55</text>\n<text text-anchor=\"middle\" x=\"405.5\" y=\"-243.8\" font-family=\"Helvetica,sans-Serif\" font-size=\"14.00\">gini = 0.432</text>\n<text text-anchor=\"middle\" x=\"405.5\" y=\"-228.8\" font-family=\"Helvetica,sans-Serif\" font-size=\"14.00\">samples = 8.1%</text>\n<text text-anchor=\"middle\" x=\"405.5\" y=\"-213.8\" font-family=\"Helvetica,sans-Serif\" font-size=\"14.00\">value = [0.684, 0.316]</text>\n<text text-anchor=\"middle\" x=\"405.5\" y=\"-198.8\" font-family=\"Helvetica,sans-Serif\" font-size=\"14.00\">class = False.</text>\n</g>\n<!-- 1&#45;&gt;133 -->\n<g id=\"edge9\" class=\"edge\">\n<title>1&#45;&gt;133</title>\n<path fill=\"none\" stroke=\"black\" d=\"M405.5,-309.91C405.5,-301.65 405.5,-292.86 405.5,-284.3\"/>\n<polygon fill=\"black\" stroke=\"black\" points=\"409,-284.02 405.5,-274.02 402,-284.02 409,-284.02\"/>\n</g>\n<!-- 3 -->\n<g id=\"node4\" class=\"node\">\n<title>3</title>\n<path fill=\"#eb9c64\" stroke=\"black\" d=\"M135,-155C135,-155 12,-155 12,-155 6,-155 0,-149 0,-143 0,-143 0,-84 0,-84 0,-78 6,-72 12,-72 12,-72 135,-72 135,-72 141,-72 147,-78 147,-84 147,-84 147,-143 147,-143 147,-149 141,-155 135,-155\"/>\n<text text-anchor=\"middle\" x=\"73.5\" y=\"-139.8\" font-family=\"Helvetica,sans-Serif\" font-size=\"14.00\">day_mins &lt;= 137.05</text>\n<text text-anchor=\"middle\" x=\"73.5\" y=\"-124.8\" font-family=\"Helvetica,sans-Serif\" font-size=\"14.00\">gini = 0.291</text>\n<text text-anchor=\"middle\" x=\"73.5\" y=\"-109.8\" font-family=\"Helvetica,sans-Serif\" font-size=\"14.00\">samples = 18.6%</text>\n<text text-anchor=\"middle\" x=\"73.5\" y=\"-94.8\" font-family=\"Helvetica,sans-Serif\" font-size=\"14.00\">value = [0.823, 0.177]</text>\n<text text-anchor=\"middle\" x=\"73.5\" y=\"-79.8\" font-family=\"Helvetica,sans-Serif\" font-size=\"14.00\">class = False.</text>\n</g>\n<!-- 2&#45;&gt;3 -->\n<g id=\"edge3\" class=\"edge\">\n<title>2&#45;&gt;3</title>\n<path fill=\"none\" stroke=\"black\" d=\"M181.25,-190.91C167.56,-181.2 152.84,-170.76 138.81,-160.81\"/>\n<polygon fill=\"black\" stroke=\"black\" points=\"140.83,-157.95 130.64,-155.02 136.78,-163.66 140.83,-157.95\"/>\n</g>\n<!-- 32 -->\n<g id=\"node7\" class=\"node\">\n<title>32</title>\n<path fill=\"#e88e4d\" stroke=\"black\" d=\"M300,-155C300,-155 177,-155 177,-155 171,-155 165,-149 165,-143 165,-143 165,-84 165,-84 165,-78 171,-72 177,-72 177,-72 300,-72 300,-72 306,-72 312,-78 312,-84 312,-84 312,-143 312,-143 312,-149 306,-155 300,-155\"/>\n<text text-anchor=\"middle\" x=\"238.5\" y=\"-139.8\" font-family=\"Helvetica,sans-Serif\" font-size=\"14.00\">day_mins &lt;= 182.3</text>\n<text text-anchor=\"middle\" x=\"238.5\" y=\"-124.8\" font-family=\"Helvetica,sans-Serif\" font-size=\"14.00\">gini = 0.167</text>\n<text text-anchor=\"middle\" x=\"238.5\" y=\"-109.8\" font-family=\"Helvetica,sans-Serif\" font-size=\"14.00\">samples = 69.2%</text>\n<text text-anchor=\"middle\" x=\"238.5\" y=\"-94.8\" font-family=\"Helvetica,sans-Serif\" font-size=\"14.00\">value = [0.908, 0.092]</text>\n<text text-anchor=\"middle\" x=\"238.5\" y=\"-79.8\" font-family=\"Helvetica,sans-Serif\" font-size=\"14.00\">class = False.</text>\n</g>\n<!-- 2&#45;&gt;32 -->\n<g id=\"edge6\" class=\"edge\">\n<title>2&#45;&gt;32</title>\n<path fill=\"none\" stroke=\"black\" d=\"M238.5,-190.91C238.5,-182.65 238.5,-173.86 238.5,-165.3\"/>\n<polygon fill=\"black\" stroke=\"black\" points=\"242,-165.02 238.5,-155.02 235,-165.02 242,-165.02\"/>\n</g>\n<!-- 4 -->\n<g id=\"node5\" class=\"node\">\n<title>4</title>\n<path fill=\"#c0c0c0\" stroke=\"black\" d=\"M52.5,-36C52.5,-36 22.5,-36 22.5,-36 16.5,-36 10.5,-30 10.5,-24 10.5,-24 10.5,-12 10.5,-12 10.5,-6 16.5,0 22.5,0 22.5,0 52.5,0 52.5,0 58.5,0 64.5,-6 64.5,-12 64.5,-12 64.5,-24 64.5,-24 64.5,-30 58.5,-36 52.5,-36\"/>\n<text text-anchor=\"middle\" x=\"37.5\" y=\"-14.3\" font-family=\"Helvetica,sans-Serif\" font-size=\"14.00\">(...)</text>\n</g>\n<!-- 3&#45;&gt;4 -->\n<g id=\"edge4\" class=\"edge\">\n<title>3&#45;&gt;4</title>\n<path fill=\"none\" stroke=\"black\" d=\"M57.81,-71.76C54.46,-63.04 50.99,-54.04 47.89,-45.99\"/>\n<polygon fill=\"black\" stroke=\"black\" points=\"51.06,-44.48 44.2,-36.41 44.53,-46.99 51.06,-44.48\"/>\n</g>\n<!-- 13 -->\n<g id=\"node6\" class=\"node\">\n<title>13</title>\n<path fill=\"#c0c0c0\" stroke=\"black\" d=\"M124.5,-36C124.5,-36 94.5,-36 94.5,-36 88.5,-36 82.5,-30 82.5,-24 82.5,-24 82.5,-12 82.5,-12 82.5,-6 88.5,0 94.5,0 94.5,0 124.5,0 124.5,0 130.5,0 136.5,-6 136.5,-12 136.5,-12 136.5,-24 136.5,-24 136.5,-30 130.5,-36 124.5,-36\"/>\n<text text-anchor=\"middle\" x=\"109.5\" y=\"-14.3\" font-family=\"Helvetica,sans-Serif\" font-size=\"14.00\">(...)</text>\n</g>\n<!-- 3&#45;&gt;13 -->\n<g id=\"edge5\" class=\"edge\">\n<title>3&#45;&gt;13</title>\n<path fill=\"none\" stroke=\"black\" d=\"M89.19,-71.76C92.54,-63.04 96.01,-54.04 99.11,-45.99\"/>\n<polygon fill=\"black\" stroke=\"black\" points=\"102.47,-46.99 102.8,-36.41 95.94,-44.48 102.47,-46.99\"/>\n</g>\n<!-- 33 -->\n<g id=\"node8\" class=\"node\">\n<title>33</title>\n<path fill=\"#c0c0c0\" stroke=\"black\" d=\"M225.5,-36C225.5,-36 195.5,-36 195.5,-36 189.5,-36 183.5,-30 183.5,-24 183.5,-24 183.5,-12 183.5,-12 183.5,-6 189.5,0 195.5,0 195.5,0 225.5,0 225.5,0 231.5,0 237.5,-6 237.5,-12 237.5,-12 237.5,-24 237.5,-24 237.5,-30 231.5,-36 225.5,-36\"/>\n<text text-anchor=\"middle\" x=\"210.5\" y=\"-14.3\" font-family=\"Helvetica,sans-Serif\" font-size=\"14.00\">(...)</text>\n</g>\n<!-- 32&#45;&gt;33 -->\n<g id=\"edge7\" class=\"edge\">\n<title>32&#45;&gt;33</title>\n<path fill=\"none\" stroke=\"black\" d=\"M226.3,-71.76C223.69,-63.04 220.99,-54.04 218.58,-45.99\"/>\n<polygon fill=\"black\" stroke=\"black\" points=\"221.93,-44.98 215.71,-36.41 215.23,-46.99 221.93,-44.98\"/>\n</g>\n<!-- 90 -->\n<g id=\"node9\" class=\"node\">\n<title>90</title>\n<path fill=\"#c0c0c0\" stroke=\"black\" d=\"M297.5,-36C297.5,-36 267.5,-36 267.5,-36 261.5,-36 255.5,-30 255.5,-24 255.5,-24 255.5,-12 255.5,-12 255.5,-6 261.5,0 267.5,0 267.5,0 297.5,0 297.5,0 303.5,0 309.5,-6 309.5,-12 309.5,-12 309.5,-24 309.5,-24 309.5,-30 303.5,-36 297.5,-36\"/>\n<text text-anchor=\"middle\" x=\"282.5\" y=\"-14.3\" font-family=\"Helvetica,sans-Serif\" font-size=\"14.00\">(...)</text>\n</g>\n<!-- 32&#45;&gt;90 -->\n<g id=\"edge8\" class=\"edge\">\n<title>32&#45;&gt;90</title>\n<path fill=\"none\" stroke=\"black\" d=\"M257.67,-71.76C261.87,-62.85 266.2,-53.64 270.05,-45.46\"/>\n<polygon fill=\"black\" stroke=\"black\" points=\"273.22,-46.94 274.31,-36.41 266.88,-43.96 273.22,-46.94\"/>\n</g>\n<!-- 134 -->\n<g id=\"node11\" class=\"node\">\n<title>134</title>\n<path fill=\"#e89253\" stroke=\"black\" d=\"M465,-155C465,-155 342,-155 342,-155 336,-155 330,-149 330,-143 330,-143 330,-84 330,-84 330,-78 336,-72 342,-72 342,-72 465,-72 465,-72 471,-72 477,-78 477,-84 477,-84 477,-143 477,-143 477,-149 471,-155 465,-155\"/>\n<text text-anchor=\"middle\" x=\"403.5\" y=\"-139.8\" font-family=\"Helvetica,sans-Serif\" font-size=\"14.00\">intl_calls &lt;= 5.5</text>\n<text text-anchor=\"middle\" x=\"403.5\" y=\"-124.8\" font-family=\"Helvetica,sans-Serif\" font-size=\"14.00\">gini = 0.205</text>\n<text text-anchor=\"middle\" x=\"403.5\" y=\"-109.8\" font-family=\"Helvetica,sans-Serif\" font-size=\"14.00\">samples = 4.9%</text>\n<text text-anchor=\"middle\" x=\"403.5\" y=\"-94.8\" font-family=\"Helvetica,sans-Serif\" font-size=\"14.00\">value = [0.884, 0.116]</text>\n<text text-anchor=\"middle\" x=\"403.5\" y=\"-79.8\" font-family=\"Helvetica,sans-Serif\" font-size=\"14.00\">class = False.</text>\n</g>\n<!-- 133&#45;&gt;134 -->\n<g id=\"edge10\" class=\"edge\">\n<title>133&#45;&gt;134</title>\n<path fill=\"none\" stroke=\"black\" d=\"M404.81,-190.91C404.66,-182.56 404.51,-173.67 404.36,-165.02\"/>\n<polygon fill=\"black\" stroke=\"black\" points=\"407.86,-164.96 404.19,-155.02 400.86,-165.08 407.86,-164.96\"/>\n</g>\n<!-- 141 -->\n<g id=\"node14\" class=\"node\">\n<title>141</title>\n<path fill=\"#b1d8f5\" stroke=\"black\" d=\"M638,-155C638,-155 507,-155 507,-155 501,-155 495,-149 495,-143 495,-143 495,-84 495,-84 495,-78 501,-72 507,-72 507,-72 638,-72 638,-72 644,-72 650,-78 650,-84 650,-84 650,-143 650,-143 650,-149 644,-155 638,-155\"/>\n<text text-anchor=\"middle\" x=\"572.5\" y=\"-139.8\" font-family=\"Helvetica,sans-Serif\" font-size=\"14.00\">vmail_message &lt;= 5.5</text>\n<text text-anchor=\"middle\" x=\"572.5\" y=\"-124.8\" font-family=\"Helvetica,sans-Serif\" font-size=\"14.00\">gini = 0.47</text>\n<text text-anchor=\"middle\" x=\"572.5\" y=\"-109.8\" font-family=\"Helvetica,sans-Serif\" font-size=\"14.00\">samples = 3.2%</text>\n<text text-anchor=\"middle\" x=\"572.5\" y=\"-94.8\" font-family=\"Helvetica,sans-Serif\" font-size=\"14.00\">value = [0.378, 0.622]</text>\n<text text-anchor=\"middle\" x=\"572.5\" y=\"-79.8\" font-family=\"Helvetica,sans-Serif\" font-size=\"14.00\">class = True.</text>\n</g>\n<!-- 133&#45;&gt;141 -->\n<g id=\"edge13\" class=\"edge\">\n<title>133&#45;&gt;141</title>\n<path fill=\"none\" stroke=\"black\" d=\"M463.44,-190.91C477.3,-181.2 492.2,-170.76 506.4,-160.81\"/>\n<polygon fill=\"black\" stroke=\"black\" points=\"508.48,-163.63 514.66,-155.02 504.46,-157.89 508.48,-163.63\"/>\n</g>\n<!-- 135 -->\n<g id=\"node12\" class=\"node\">\n<title>135</title>\n<path fill=\"#c0c0c0\" stroke=\"black\" d=\"M394.5,-36C394.5,-36 364.5,-36 364.5,-36 358.5,-36 352.5,-30 352.5,-24 352.5,-24 352.5,-12 352.5,-12 352.5,-6 358.5,0 364.5,0 364.5,0 394.5,0 394.5,0 400.5,0 406.5,-6 406.5,-12 406.5,-12 406.5,-24 406.5,-24 406.5,-30 400.5,-36 394.5,-36\"/>\n<text text-anchor=\"middle\" x=\"379.5\" y=\"-14.3\" font-family=\"Helvetica,sans-Serif\" font-size=\"14.00\">(...)</text>\n</g>\n<!-- 134&#45;&gt;135 -->\n<g id=\"edge11\" class=\"edge\">\n<title>134&#45;&gt;135</title>\n<path fill=\"none\" stroke=\"black\" d=\"M393.04,-71.76C390.83,-63.14 388.55,-54.24 386.5,-46.26\"/>\n<polygon fill=\"black\" stroke=\"black\" points=\"389.84,-45.22 383.97,-36.41 383.06,-46.96 389.84,-45.22\"/>\n</g>\n<!-- 140 -->\n<g id=\"node13\" class=\"node\">\n<title>140</title>\n<path fill=\"#c0c0c0\" stroke=\"black\" d=\"M466.5,-36C466.5,-36 436.5,-36 436.5,-36 430.5,-36 424.5,-30 424.5,-24 424.5,-24 424.5,-12 424.5,-12 424.5,-6 430.5,0 436.5,0 436.5,0 466.5,0 466.5,0 472.5,0 478.5,-6 478.5,-12 478.5,-12 478.5,-24 478.5,-24 478.5,-30 472.5,-36 466.5,-36\"/>\n<text text-anchor=\"middle\" x=\"451.5\" y=\"-14.3\" font-family=\"Helvetica,sans-Serif\" font-size=\"14.00\">(...)</text>\n</g>\n<!-- 134&#45;&gt;140 -->\n<g id=\"edge12\" class=\"edge\">\n<title>134&#45;&gt;140</title>\n<path fill=\"none\" stroke=\"black\" d=\"M424.41,-71.76C428.99,-62.85 433.72,-53.64 437.92,-45.46\"/>\n<polygon fill=\"black\" stroke=\"black\" points=\"441.11,-46.9 442.56,-36.41 434.88,-43.7 441.11,-46.9\"/>\n</g>\n<!-- 142 -->\n<g id=\"node15\" class=\"node\">\n<title>142</title>\n<path fill=\"#c0c0c0\" stroke=\"black\" d=\"M563.5,-36C563.5,-36 533.5,-36 533.5,-36 527.5,-36 521.5,-30 521.5,-24 521.5,-24 521.5,-12 521.5,-12 521.5,-6 527.5,0 533.5,0 533.5,0 563.5,0 563.5,0 569.5,0 575.5,-6 575.5,-12 575.5,-12 575.5,-24 575.5,-24 575.5,-30 569.5,-36 563.5,-36\"/>\n<text text-anchor=\"middle\" x=\"548.5\" y=\"-14.3\" font-family=\"Helvetica,sans-Serif\" font-size=\"14.00\">(...)</text>\n</g>\n<!-- 141&#45;&gt;142 -->\n<g id=\"edge14\" class=\"edge\">\n<title>141&#45;&gt;142</title>\n<path fill=\"none\" stroke=\"black\" d=\"M562.04,-71.76C559.83,-63.14 557.55,-54.24 555.5,-46.26\"/>\n<polygon fill=\"black\" stroke=\"black\" points=\"558.84,-45.22 552.97,-36.41 552.06,-46.96 558.84,-45.22\"/>\n</g>\n<!-- 147 -->\n<g id=\"node16\" class=\"node\">\n<title>147</title>\n<path fill=\"#c0c0c0\" stroke=\"black\" d=\"M635.5,-36C635.5,-36 605.5,-36 605.5,-36 599.5,-36 593.5,-30 593.5,-24 593.5,-24 593.5,-12 593.5,-12 593.5,-6 599.5,0 605.5,0 605.5,0 635.5,0 635.5,0 641.5,0 647.5,-6 647.5,-12 647.5,-12 647.5,-24 647.5,-24 647.5,-30 641.5,-36 635.5,-36\"/>\n<text text-anchor=\"middle\" x=\"620.5\" y=\"-14.3\" font-family=\"Helvetica,sans-Serif\" font-size=\"14.00\">(...)</text>\n</g>\n<!-- 141&#45;&gt;147 -->\n<g id=\"edge15\" class=\"edge\">\n<title>141&#45;&gt;147</title>\n<path fill=\"none\" stroke=\"black\" d=\"M593.41,-71.76C597.99,-62.85 602.72,-53.64 606.92,-45.46\"/>\n<polygon fill=\"black\" stroke=\"black\" points=\"610.11,-46.9 611.56,-36.41 603.88,-43.7 610.11,-46.9\"/>\n</g>\n<!-- 149 -->\n<g id=\"node18\" class=\"node\">\n<title>149</title>\n<path fill=\"#f5d0b5\" stroke=\"black\" d=\"M634,-266.5C634,-266.5 511,-266.5 511,-266.5 505,-266.5 499,-260.5 499,-254.5 499,-254.5 499,-210.5 499,-210.5 499,-204.5 505,-198.5 511,-198.5 511,-198.5 634,-198.5 634,-198.5 640,-198.5 646,-204.5 646,-210.5 646,-210.5 646,-254.5 646,-254.5 646,-260.5 640,-266.5 634,-266.5\"/>\n<text text-anchor=\"middle\" x=\"572.5\" y=\"-251.3\" font-family=\"Helvetica,sans-Serif\" font-size=\"14.00\">gini = 0.473</text>\n<text text-anchor=\"middle\" x=\"572.5\" y=\"-236.3\" font-family=\"Helvetica,sans-Serif\" font-size=\"14.00\">samples = 0.9%</text>\n<text text-anchor=\"middle\" x=\"572.5\" y=\"-221.3\" font-family=\"Helvetica,sans-Serif\" font-size=\"14.00\">value = [0.615, 0.385]</text>\n<text text-anchor=\"middle\" x=\"572.5\" y=\"-206.3\" font-family=\"Helvetica,sans-Serif\" font-size=\"14.00\">class = False.</text>\n</g>\n<!-- 148&#45;&gt;149 -->\n<g id=\"edge17\" class=\"edge\">\n<title>148&#45;&gt;149</title>\n<path fill=\"none\" stroke=\"black\" d=\"M572.5,-309.91C572.5,-299.2 572.5,-287.62 572.5,-276.78\"/>\n<polygon fill=\"black\" stroke=\"black\" points=\"576,-276.67 572.5,-266.67 569,-276.67 576,-276.67\"/>\n</g>\n<!-- 150 -->\n<g id=\"node19\" class=\"node\">\n<title>150</title>\n<path fill=\"#58ace9\" stroke=\"black\" d=\"M803,-274C803,-274 680,-274 680,-274 674,-274 668,-268 668,-262 668,-262 668,-203 668,-203 668,-197 674,-191 680,-191 680,-191 803,-191 803,-191 809,-191 815,-197 815,-203 815,-203 815,-262 815,-262 815,-268 809,-274 803,-274\"/>\n<text text-anchor=\"middle\" x=\"741.5\" y=\"-258.8\" font-family=\"Helvetica,sans-Serif\" font-size=\"14.00\">intl_calls &lt;= 3.5</text>\n<text text-anchor=\"middle\" x=\"741.5\" y=\"-243.8\" font-family=\"Helvetica,sans-Serif\" font-size=\"14.00\">gini = 0.236</text>\n<text text-anchor=\"middle\" x=\"741.5\" y=\"-228.8\" font-family=\"Helvetica,sans-Serif\" font-size=\"14.00\">samples = 3.1%</text>\n<text text-anchor=\"middle\" x=\"741.5\" y=\"-213.8\" font-family=\"Helvetica,sans-Serif\" font-size=\"14.00\">value = [0.136, 0.864]</text>\n<text text-anchor=\"middle\" x=\"741.5\" y=\"-198.8\" font-family=\"Helvetica,sans-Serif\" font-size=\"14.00\">class = True.</text>\n</g>\n<!-- 148&#45;&gt;150 -->\n<g id=\"edge18\" class=\"edge\">\n<title>148&#45;&gt;150</title>\n<path fill=\"none\" stroke=\"black\" d=\"M631.13,-309.91C645.16,-300.2 660.24,-289.76 674.61,-279.81\"/>\n<polygon fill=\"black\" stroke=\"black\" points=\"676.74,-282.59 682.97,-274.02 672.76,-276.84 676.74,-282.59\"/>\n</g>\n<!-- 151 -->\n<g id=\"node20\" class=\"node\">\n<title>151</title>\n<path fill=\"#9ccef2\" stroke=\"black\" d=\"M803,-147.5C803,-147.5 680,-147.5 680,-147.5 674,-147.5 668,-141.5 668,-135.5 668,-135.5 668,-91.5 668,-91.5 668,-85.5 674,-79.5 680,-79.5 680,-79.5 803,-79.5 803,-79.5 809,-79.5 815,-85.5 815,-91.5 815,-91.5 815,-135.5 815,-135.5 815,-141.5 809,-147.5 803,-147.5\"/>\n<text text-anchor=\"middle\" x=\"741.5\" y=\"-132.3\" font-family=\"Helvetica,sans-Serif\" font-size=\"14.00\">gini = 0.444</text>\n<text text-anchor=\"middle\" x=\"741.5\" y=\"-117.3\" font-family=\"Helvetica,sans-Serif\" font-size=\"14.00\">samples = 1.1%</text>\n<text text-anchor=\"middle\" x=\"741.5\" y=\"-102.3\" font-family=\"Helvetica,sans-Serif\" font-size=\"14.00\">value = [0.333, 0.667]</text>\n<text text-anchor=\"middle\" x=\"741.5\" y=\"-87.3\" font-family=\"Helvetica,sans-Serif\" font-size=\"14.00\">class = True.</text>\n</g>\n<!-- 150&#45;&gt;151 -->\n<g id=\"edge19\" class=\"edge\">\n<title>150&#45;&gt;151</title>\n<path fill=\"none\" stroke=\"black\" d=\"M741.5,-190.91C741.5,-180.2 741.5,-168.62 741.5,-157.78\"/>\n<polygon fill=\"black\" stroke=\"black\" points=\"745,-157.67 741.5,-147.67 738,-157.67 745,-157.67\"/>\n</g>\n<!-- 152 -->\n<g id=\"node21\" class=\"node\">\n<title>152</title>\n<path fill=\"#40a0e6\" stroke=\"black\" d=\"M968,-155C968,-155 845,-155 845,-155 839,-155 833,-149 833,-143 833,-143 833,-84 833,-84 833,-78 839,-72 845,-72 845,-72 968,-72 968,-72 974,-72 980,-78 980,-84 980,-84 980,-143 980,-143 980,-149 974,-155 968,-155\"/>\n<text text-anchor=\"middle\" x=\"906.5\" y=\"-139.8\" font-family=\"Helvetica,sans-Serif\" font-size=\"14.00\">day_mins &lt;= 294.1</text>\n<text text-anchor=\"middle\" x=\"906.5\" y=\"-124.8\" font-family=\"Helvetica,sans-Serif\" font-size=\"14.00\">gini = 0.067</text>\n<text text-anchor=\"middle\" x=\"906.5\" y=\"-109.8\" font-family=\"Helvetica,sans-Serif\" font-size=\"14.00\">samples = 2.1%</text>\n<text text-anchor=\"middle\" x=\"906.5\" y=\"-94.8\" font-family=\"Helvetica,sans-Serif\" font-size=\"14.00\">value = [0.034, 0.966]</text>\n<text text-anchor=\"middle\" x=\"906.5\" y=\"-79.8\" font-family=\"Helvetica,sans-Serif\" font-size=\"14.00\">class = True.</text>\n</g>\n<!-- 150&#45;&gt;152 -->\n<g id=\"edge20\" class=\"edge\">\n<title>150&#45;&gt;152</title>\n<path fill=\"none\" stroke=\"black\" d=\"M798.75,-190.91C812.44,-181.2 827.16,-170.76 841.19,-160.81\"/>\n<polygon fill=\"black\" stroke=\"black\" points=\"843.22,-163.66 849.36,-155.02 839.17,-157.95 843.22,-163.66\"/>\n</g>\n<!-- 153 -->\n<g id=\"node22\" class=\"node\">\n<title>153</title>\n<path fill=\"#c0c0c0\" stroke=\"black\" d=\"M885.5,-36C885.5,-36 855.5,-36 855.5,-36 849.5,-36 843.5,-30 843.5,-24 843.5,-24 843.5,-12 843.5,-12 843.5,-6 849.5,0 855.5,0 855.5,0 885.5,0 885.5,0 891.5,0 897.5,-6 897.5,-12 897.5,-12 897.5,-24 897.5,-24 897.5,-30 891.5,-36 885.5,-36\"/>\n<text text-anchor=\"middle\" x=\"870.5\" y=\"-14.3\" font-family=\"Helvetica,sans-Serif\" font-size=\"14.00\">(...)</text>\n</g>\n<!-- 152&#45;&gt;153 -->\n<g id=\"edge21\" class=\"edge\">\n<title>152&#45;&gt;153</title>\n<path fill=\"none\" stroke=\"black\" d=\"M890.81,-71.76C887.46,-63.04 883.99,-54.04 880.89,-45.99\"/>\n<polygon fill=\"black\" stroke=\"black\" points=\"884.06,-44.48 877.2,-36.41 877.53,-46.99 884.06,-44.48\"/>\n</g>\n<!-- 154 -->\n<g id=\"node23\" class=\"node\">\n<title>154</title>\n<path fill=\"#c0c0c0\" stroke=\"black\" d=\"M957.5,-36C957.5,-36 927.5,-36 927.5,-36 921.5,-36 915.5,-30 915.5,-24 915.5,-24 915.5,-12 915.5,-12 915.5,-6 921.5,0 927.5,0 927.5,0 957.5,0 957.5,0 963.5,0 969.5,-6 969.5,-12 969.5,-12 969.5,-24 969.5,-24 969.5,-30 963.5,-36 957.5,-36\"/>\n<text text-anchor=\"middle\" x=\"942.5\" y=\"-14.3\" font-family=\"Helvetica,sans-Serif\" font-size=\"14.00\">(...)</text>\n</g>\n<!-- 152&#45;&gt;154 -->\n<g id=\"edge22\" class=\"edge\">\n<title>152&#45;&gt;154</title>\n<path fill=\"none\" stroke=\"black\" d=\"M922.19,-71.76C925.54,-63.04 929.01,-54.04 932.11,-45.99\"/>\n<polygon fill=\"black\" stroke=\"black\" points=\"935.47,-46.99 935.8,-36.41 928.94,-44.48 935.47,-46.99\"/>\n</g>\n</g>\n</svg>\n",
            "text/plain": [
              "<graphviz.sources.Source at 0x7b2bfed8c550>"
            ]
          },
          "metadata": {},
          "execution_count": 77
        }
      ],
      "source": [
        "dot_data = tree.export_graphviz(tree1,\n",
        "                                out_file=None,\n",
        "                                feature_names=tree1_features,\n",
        "                                class_names = [\"False.\", \"True.\"],\n",
        "                                filled=True,\n",
        "                                max_depth=3,\n",
        "                                impurity=True,\n",
        "                                proportion=True,\n",
        "                                rounded=True,\n",
        "                                special_characters=False)\n",
        "graph = graphviz.Source(dot_data)\n",
        "graph"
      ]
    },
    {
      "cell_type": "code",
      "execution_count": null,
      "metadata": {
        "colab": {
          "base_uri": "https://localhost:8080/",
          "height": 714
        },
        "id": "vpJaehNJ1Fl5",
        "outputId": "df517cd7-6e99-4027-e3d1-c73ec56cb672"
      },
      "outputs": [
        {
          "output_type": "execute_result",
          "data": {
            "image/svg+xml": "<?xml version=\"1.0\" encoding=\"UTF-8\" standalone=\"no\"?>\n<!DOCTYPE svg PUBLIC \"-//W3C//DTD SVG 1.1//EN\"\n \"http://www.w3.org/Graphics/SVG/1.1/DTD/svg11.dtd\">\n<!-- Generated by graphviz version 2.43.0 (0)\n -->\n<!-- Title: Tree Pages: 1 -->\n<svg width=\"797pt\" height=\"520pt\"\n viewBox=\"0.00 0.00 796.50 520.00\" xmlns=\"http://www.w3.org/2000/svg\" xmlns:xlink=\"http://www.w3.org/1999/xlink\">\n<g id=\"graph0\" class=\"graph\" transform=\"scale(1 1) rotate(0) translate(4 516)\">\n<title>Tree</title>\n<polygon fill=\"white\" stroke=\"transparent\" points=\"-4,4 -4,-516 792.5,-516 792.5,4 -4,4\"/>\n<!-- 0 -->\n<g id=\"node1\" class=\"node\">\n<title>0</title>\n<path fill=\"#e99355\" stroke=\"black\" d=\"M528.5,-512C528.5,-512 405.5,-512 405.5,-512 399.5,-512 393.5,-506 393.5,-500 393.5,-500 393.5,-441 393.5,-441 393.5,-435 399.5,-429 405.5,-429 405.5,-429 528.5,-429 528.5,-429 534.5,-429 540.5,-435 540.5,-441 540.5,-441 540.5,-500 540.5,-500 540.5,-506 534.5,-512 528.5,-512\"/>\n<text text-anchor=\"middle\" x=\"467\" y=\"-496.8\" font-family=\"Helvetica,sans-Serif\" font-size=\"14.00\">state_NV &lt;= 0.5</text>\n<text text-anchor=\"middle\" x=\"467\" y=\"-481.8\" font-family=\"Helvetica,sans-Serif\" font-size=\"14.00\">gini = 0.217</text>\n<text text-anchor=\"middle\" x=\"467\" y=\"-466.8\" font-family=\"Helvetica,sans-Serif\" font-size=\"14.00\">samples = 100.0%</text>\n<text text-anchor=\"middle\" x=\"467\" y=\"-451.8\" font-family=\"Helvetica,sans-Serif\" font-size=\"14.00\">value = [0.876, 0.124]</text>\n<text text-anchor=\"middle\" x=\"467\" y=\"-436.8\" font-family=\"Helvetica,sans-Serif\" font-size=\"14.00\">class = False.</text>\n</g>\n<!-- 1 -->\n<g id=\"node2\" class=\"node\">\n<title>1</title>\n<path fill=\"#e99254\" stroke=\"black\" d=\"M446,-393C446,-393 322,-393 322,-393 316,-393 310,-387 310,-381 310,-381 310,-322 310,-322 310,-316 316,-310 322,-310 322,-310 446,-310 446,-310 452,-310 458,-316 458,-322 458,-322 458,-381 458,-381 458,-387 452,-393 446,-393\"/>\n<text text-anchor=\"middle\" x=\"384\" y=\"-377.8\" font-family=\"Helvetica,sans-Serif\" font-size=\"14.00\">night_mins &lt;= 270.05</text>\n<text text-anchor=\"middle\" x=\"384\" y=\"-362.8\" font-family=\"Helvetica,sans-Serif\" font-size=\"14.00\">gini = 0.21</text>\n<text text-anchor=\"middle\" x=\"384\" y=\"-347.8\" font-family=\"Helvetica,sans-Serif\" font-size=\"14.00\">samples = 98.3%</text>\n<text text-anchor=\"middle\" x=\"384\" y=\"-332.8\" font-family=\"Helvetica,sans-Serif\" font-size=\"14.00\">value = [0.881, 0.119]</text>\n<text text-anchor=\"middle\" x=\"384\" y=\"-317.8\" font-family=\"Helvetica,sans-Serif\" font-size=\"14.00\">class = False.</text>\n</g>\n<!-- 0&#45;&gt;1 -->\n<g id=\"edge1\" class=\"edge\">\n<title>0&#45;&gt;1</title>\n<path fill=\"none\" stroke=\"black\" d=\"M438.2,-428.91C431.89,-420.01 425.15,-410.51 418.64,-401.33\"/>\n<polygon fill=\"black\" stroke=\"black\" points=\"421.39,-399.15 412.75,-393.02 415.68,-403.2 421.39,-399.15\"/>\n<text text-anchor=\"middle\" x=\"408.56\" y=\"-413.97\" font-family=\"Helvetica,sans-Serif\" font-size=\"14.00\">True</text>\n</g>\n<!-- 154 -->\n<g id=\"node15\" class=\"node\">\n<title>154</title>\n<path fill=\"#f5cdb0\" stroke=\"black\" d=\"M611.5,-393C611.5,-393 488.5,-393 488.5,-393 482.5,-393 476.5,-387 476.5,-381 476.5,-381 476.5,-322 476.5,-322 476.5,-316 482.5,-310 488.5,-310 488.5,-310 611.5,-310 611.5,-310 617.5,-310 623.5,-316 623.5,-322 623.5,-322 623.5,-381 623.5,-381 623.5,-387 617.5,-393 611.5,-393\"/>\n<text text-anchor=\"middle\" x=\"550\" y=\"-377.8\" font-family=\"Helvetica,sans-Serif\" font-size=\"14.00\">night_mins &lt;= 205.0</text>\n<text text-anchor=\"middle\" x=\"550\" y=\"-362.8\" font-family=\"Helvetica,sans-Serif\" font-size=\"14.00\">gini = 0.469</text>\n<text text-anchor=\"middle\" x=\"550\" y=\"-347.8\" font-family=\"Helvetica,sans-Serif\" font-size=\"14.00\">samples = 1.7%</text>\n<text text-anchor=\"middle\" x=\"550\" y=\"-332.8\" font-family=\"Helvetica,sans-Serif\" font-size=\"14.00\">value = [0.625, 0.375]</text>\n<text text-anchor=\"middle\" x=\"550\" y=\"-317.8\" font-family=\"Helvetica,sans-Serif\" font-size=\"14.00\">class = False.</text>\n</g>\n<!-- 0&#45;&gt;154 -->\n<g id=\"edge14\" class=\"edge\">\n<title>0&#45;&gt;154</title>\n<path fill=\"none\" stroke=\"black\" d=\"M495.8,-428.91C502.11,-420.01 508.85,-410.51 515.36,-401.33\"/>\n<polygon fill=\"black\" stroke=\"black\" points=\"518.32,-403.2 521.25,-393.02 512.61,-399.15 518.32,-403.2\"/>\n<text text-anchor=\"middle\" x=\"525.44\" y=\"-413.97\" font-family=\"Helvetica,sans-Serif\" font-size=\"14.00\">False</text>\n</g>\n<!-- 2 -->\n<g id=\"node3\" class=\"node\">\n<title>2</title>\n<path fill=\"#e89152\" stroke=\"black\" d=\"M281.5,-274C281.5,-274 158.5,-274 158.5,-274 152.5,-274 146.5,-268 146.5,-262 146.5,-262 146.5,-203 146.5,-203 146.5,-197 152.5,-191 158.5,-191 158.5,-191 281.5,-191 281.5,-191 287.5,-191 293.5,-197 293.5,-203 293.5,-203 293.5,-262 293.5,-262 293.5,-268 287.5,-274 281.5,-274\"/>\n<text text-anchor=\"middle\" x=\"220\" y=\"-258.8\" font-family=\"Helvetica,sans-Serif\" font-size=\"14.00\">night_calls &lt;= 63.5</text>\n<text text-anchor=\"middle\" x=\"220\" y=\"-243.8\" font-family=\"Helvetica,sans-Serif\" font-size=\"14.00\">gini = 0.199</text>\n<text text-anchor=\"middle\" x=\"220\" y=\"-228.8\" font-family=\"Helvetica,sans-Serif\" font-size=\"14.00\">samples = 89.8%</text>\n<text text-anchor=\"middle\" x=\"220\" y=\"-213.8\" font-family=\"Helvetica,sans-Serif\" font-size=\"14.00\">value = [0.888, 0.112]</text>\n<text text-anchor=\"middle\" x=\"220\" y=\"-198.8\" font-family=\"Helvetica,sans-Serif\" font-size=\"14.00\">class = False.</text>\n</g>\n<!-- 1&#45;&gt;2 -->\n<g id=\"edge2\" class=\"edge\">\n<title>1&#45;&gt;2</title>\n<path fill=\"none\" stroke=\"black\" d=\"M327.1,-309.91C313.62,-300.29 299.13,-289.95 285.31,-280.09\"/>\n<polygon fill=\"black\" stroke=\"black\" points=\"286.97,-276.98 276.8,-274.02 282.91,-282.68 286.97,-276.98\"/>\n</g>\n<!-- 141 -->\n<g id=\"node10\" class=\"node\">\n<title>141</title>\n<path fill=\"#eb9f68\" stroke=\"black\" d=\"M446.5,-274C446.5,-274 323.5,-274 323.5,-274 317.5,-274 311.5,-268 311.5,-262 311.5,-262 311.5,-203 311.5,-203 311.5,-197 317.5,-191 323.5,-191 323.5,-191 446.5,-191 446.5,-191 452.5,-191 458.5,-197 458.5,-203 458.5,-203 458.5,-262 458.5,-262 458.5,-268 452.5,-274 446.5,-274\"/>\n<text text-anchor=\"middle\" x=\"385\" y=\"-258.8\" font-family=\"Helvetica,sans-Serif\" font-size=\"14.00\">night_mins &lt;= 271.9</text>\n<text text-anchor=\"middle\" x=\"385\" y=\"-243.8\" font-family=\"Helvetica,sans-Serif\" font-size=\"14.00\">gini = 0.312</text>\n<text text-anchor=\"middle\" x=\"385\" y=\"-228.8\" font-family=\"Helvetica,sans-Serif\" font-size=\"14.00\">samples = 8.5%</text>\n<text text-anchor=\"middle\" x=\"385\" y=\"-213.8\" font-family=\"Helvetica,sans-Serif\" font-size=\"14.00\">value = [0.807, 0.193]</text>\n<text text-anchor=\"middle\" x=\"385\" y=\"-198.8\" font-family=\"Helvetica,sans-Serif\" font-size=\"14.00\">class = False.</text>\n</g>\n<!-- 1&#45;&gt;141 -->\n<g id=\"edge9\" class=\"edge\">\n<title>1&#45;&gt;141</title>\n<path fill=\"none\" stroke=\"black\" d=\"M384.35,-309.91C384.42,-301.65 384.49,-292.86 384.57,-284.3\"/>\n<polygon fill=\"black\" stroke=\"black\" points=\"388.07,-284.05 384.65,-274.02 381.07,-283.99 388.07,-284.05\"/>\n</g>\n<!-- 3 -->\n<g id=\"node4\" class=\"node\">\n<title>3</title>\n<path fill=\"#f0b58a\" stroke=\"black\" d=\"M120,-155C120,-155 12,-155 12,-155 6,-155 0,-149 0,-143 0,-143 0,-84 0,-84 0,-78 6,-72 12,-72 12,-72 120,-72 120,-72 126,-72 132,-78 132,-84 132,-84 132,-143 132,-143 132,-149 126,-155 120,-155\"/>\n<text text-anchor=\"middle\" x=\"66\" y=\"-139.8\" font-family=\"Helvetica,sans-Serif\" font-size=\"14.00\">night_calls &lt;= 59.5</text>\n<text text-anchor=\"middle\" x=\"66\" y=\"-124.8\" font-family=\"Helvetica,sans-Serif\" font-size=\"14.00\">gini = 0.412</text>\n<text text-anchor=\"middle\" x=\"66\" y=\"-109.8\" font-family=\"Helvetica,sans-Serif\" font-size=\"14.00\">samples = 2.2%</text>\n<text text-anchor=\"middle\" x=\"66\" y=\"-94.8\" font-family=\"Helvetica,sans-Serif\" font-size=\"14.00\">value = [0.71, 0.29]</text>\n<text text-anchor=\"middle\" x=\"66\" y=\"-79.8\" font-family=\"Helvetica,sans-Serif\" font-size=\"14.00\">class = False.</text>\n</g>\n<!-- 2&#45;&gt;3 -->\n<g id=\"edge3\" class=\"edge\">\n<title>2&#45;&gt;3</title>\n<path fill=\"none\" stroke=\"black\" d=\"M166.57,-190.91C153.91,-181.29 140.31,-170.95 127.32,-161.09\"/>\n<polygon fill=\"black\" stroke=\"black\" points=\"129.42,-158.28 119.34,-155.02 125.18,-163.86 129.42,-158.28\"/>\n</g>\n<!-- 6 -->\n<g id=\"node7\" class=\"node\">\n<title>6</title>\n<path fill=\"#e89051\" stroke=\"black\" d=\"M285.5,-155C285.5,-155 162.5,-155 162.5,-155 156.5,-155 150.5,-149 150.5,-143 150.5,-143 150.5,-84 150.5,-84 150.5,-78 156.5,-72 162.5,-72 162.5,-72 285.5,-72 285.5,-72 291.5,-72 297.5,-78 297.5,-84 297.5,-84 297.5,-143 297.5,-143 297.5,-149 291.5,-155 285.5,-155\"/>\n<text text-anchor=\"middle\" x=\"224\" y=\"-139.8\" font-family=\"Helvetica,sans-Serif\" font-size=\"14.00\">night_calls &lt;= 122.5</text>\n<text text-anchor=\"middle\" x=\"224\" y=\"-124.8\" font-family=\"Helvetica,sans-Serif\" font-size=\"14.00\">gini = 0.192</text>\n<text text-anchor=\"middle\" x=\"224\" y=\"-109.8\" font-family=\"Helvetica,sans-Serif\" font-size=\"14.00\">samples = 87.6%</text>\n<text text-anchor=\"middle\" x=\"224\" y=\"-94.8\" font-family=\"Helvetica,sans-Serif\" font-size=\"14.00\">value = [0.892, 0.108]</text>\n<text text-anchor=\"middle\" x=\"224\" y=\"-79.8\" font-family=\"Helvetica,sans-Serif\" font-size=\"14.00\">class = False.</text>\n</g>\n<!-- 2&#45;&gt;6 -->\n<g id=\"edge6\" class=\"edge\">\n<title>2&#45;&gt;6</title>\n<path fill=\"none\" stroke=\"black\" d=\"M221.39,-190.91C221.67,-182.56 221.98,-173.67 222.27,-165.02\"/>\n<polygon fill=\"black\" stroke=\"black\" points=\"225.77,-165.13 222.61,-155.02 218.77,-164.9 225.77,-165.13\"/>\n</g>\n<!-- 4 -->\n<g id=\"node5\" class=\"node\">\n<title>4</title>\n<path fill=\"#c0c0c0\" stroke=\"black\" d=\"M45,-36C45,-36 15,-36 15,-36 9,-36 3,-30 3,-24 3,-24 3,-12 3,-12 3,-6 9,0 15,0 15,0 45,0 45,0 51,0 57,-6 57,-12 57,-12 57,-24 57,-24 57,-30 51,-36 45,-36\"/>\n<text text-anchor=\"middle\" x=\"30\" y=\"-14.3\" font-family=\"Helvetica,sans-Serif\" font-size=\"14.00\">(...)</text>\n</g>\n<!-- 3&#45;&gt;4 -->\n<g id=\"edge4\" class=\"edge\">\n<title>3&#45;&gt;4</title>\n<path fill=\"none\" stroke=\"black\" d=\"M50.31,-71.76C46.96,-63.04 43.49,-54.04 40.39,-45.99\"/>\n<polygon fill=\"black\" stroke=\"black\" points=\"43.56,-44.48 36.7,-36.41 37.03,-46.99 43.56,-44.48\"/>\n</g>\n<!-- 5 -->\n<g id=\"node6\" class=\"node\">\n<title>5</title>\n<path fill=\"#c0c0c0\" stroke=\"black\" d=\"M117,-36C117,-36 87,-36 87,-36 81,-36 75,-30 75,-24 75,-24 75,-12 75,-12 75,-6 81,0 87,0 87,0 117,0 117,0 123,0 129,-6 129,-12 129,-12 129,-24 129,-24 129,-30 123,-36 117,-36\"/>\n<text text-anchor=\"middle\" x=\"102\" y=\"-14.3\" font-family=\"Helvetica,sans-Serif\" font-size=\"14.00\">(...)</text>\n</g>\n<!-- 3&#45;&gt;5 -->\n<g id=\"edge5\" class=\"edge\">\n<title>3&#45;&gt;5</title>\n<path fill=\"none\" stroke=\"black\" d=\"M81.69,-71.76C85.04,-63.04 88.51,-54.04 91.61,-45.99\"/>\n<polygon fill=\"black\" stroke=\"black\" points=\"94.97,-46.99 95.3,-36.41 88.44,-44.48 94.97,-46.99\"/>\n</g>\n<!-- 7 -->\n<g id=\"node8\" class=\"node\">\n<title>7</title>\n<path fill=\"#c0c0c0\" stroke=\"black\" d=\"M214,-36C214,-36 184,-36 184,-36 178,-36 172,-30 172,-24 172,-24 172,-12 172,-12 172,-6 178,0 184,0 184,0 214,0 214,0 220,0 226,-6 226,-12 226,-12 226,-24 226,-24 226,-30 220,-36 214,-36\"/>\n<text text-anchor=\"middle\" x=\"199\" y=\"-14.3\" font-family=\"Helvetica,sans-Serif\" font-size=\"14.00\">(...)</text>\n</g>\n<!-- 6&#45;&gt;7 -->\n<g id=\"edge7\" class=\"edge\">\n<title>6&#45;&gt;7</title>\n<path fill=\"none\" stroke=\"black\" d=\"M213.11,-71.76C210.8,-63.14 208.42,-54.24 206.29,-46.26\"/>\n<polygon fill=\"black\" stroke=\"black\" points=\"209.62,-45.16 203.65,-36.41 202.86,-46.97 209.62,-45.16\"/>\n</g>\n<!-- 122 -->\n<g id=\"node9\" class=\"node\">\n<title>122</title>\n<path fill=\"#c0c0c0\" stroke=\"black\" d=\"M286,-36C286,-36 256,-36 256,-36 250,-36 244,-30 244,-24 244,-24 244,-12 244,-12 244,-6 250,0 256,0 256,0 286,0 286,0 292,0 298,-6 298,-12 298,-12 298,-24 298,-24 298,-30 292,-36 286,-36\"/>\n<text text-anchor=\"middle\" x=\"271\" y=\"-14.3\" font-family=\"Helvetica,sans-Serif\" font-size=\"14.00\">(...)</text>\n</g>\n<!-- 6&#45;&gt;122 -->\n<g id=\"edge8\" class=\"edge\">\n<title>6&#45;&gt;122</title>\n<path fill=\"none\" stroke=\"black\" d=\"M244.48,-71.76C248.96,-62.85 253.59,-53.64 257.7,-45.46\"/>\n<polygon fill=\"black\" stroke=\"black\" points=\"260.89,-46.91 262.25,-36.41 254.63,-43.77 260.89,-46.91\"/>\n</g>\n<!-- 142 -->\n<g id=\"node11\" class=\"node\">\n<title>142</title>\n<path fill=\"#6ab6ec\" stroke=\"black\" d=\"M427.5,-147.5C427.5,-147.5 334.5,-147.5 334.5,-147.5 328.5,-147.5 322.5,-141.5 322.5,-135.5 322.5,-135.5 322.5,-91.5 322.5,-91.5 322.5,-85.5 328.5,-79.5 334.5,-79.5 334.5,-79.5 427.5,-79.5 427.5,-79.5 433.5,-79.5 439.5,-85.5 439.5,-91.5 439.5,-91.5 439.5,-135.5 439.5,-135.5 439.5,-141.5 433.5,-147.5 427.5,-147.5\"/>\n<text text-anchor=\"middle\" x=\"381\" y=\"-132.3\" font-family=\"Helvetica,sans-Serif\" font-size=\"14.00\">gini = 0.32</text>\n<text text-anchor=\"middle\" x=\"381\" y=\"-117.3\" font-family=\"Helvetica,sans-Serif\" font-size=\"14.00\">samples = 0.7%</text>\n<text text-anchor=\"middle\" x=\"381\" y=\"-102.3\" font-family=\"Helvetica,sans-Serif\" font-size=\"14.00\">value = [0.2, 0.8]</text>\n<text text-anchor=\"middle\" x=\"381\" y=\"-87.3\" font-family=\"Helvetica,sans-Serif\" font-size=\"14.00\">class = True.</text>\n</g>\n<!-- 141&#45;&gt;142 -->\n<g id=\"edge10\" class=\"edge\">\n<title>141&#45;&gt;142</title>\n<path fill=\"none\" stroke=\"black\" d=\"M383.61,-190.91C383.25,-180.2 382.85,-168.62 382.48,-157.78\"/>\n<polygon fill=\"black\" stroke=\"black\" points=\"385.97,-157.54 382.13,-147.67 378.98,-157.78 385.97,-157.54\"/>\n</g>\n<!-- 143 -->\n<g id=\"node12\" class=\"node\">\n<title>143</title>\n<path fill=\"#e99559\" stroke=\"black\" d=\"M592.5,-155C592.5,-155 469.5,-155 469.5,-155 463.5,-155 457.5,-149 457.5,-143 457.5,-143 457.5,-84 457.5,-84 457.5,-78 463.5,-72 469.5,-72 469.5,-72 592.5,-72 592.5,-72 598.5,-72 604.5,-78 604.5,-84 604.5,-84 604.5,-143 604.5,-143 604.5,-149 598.5,-155 592.5,-155\"/>\n<text text-anchor=\"middle\" x=\"531\" y=\"-139.8\" font-family=\"Helvetica,sans-Serif\" font-size=\"14.00\">night_calls &lt;= 103.5</text>\n<text text-anchor=\"middle\" x=\"531\" y=\"-124.8\" font-family=\"Helvetica,sans-Serif\" font-size=\"14.00\">gini = 0.237</text>\n<text text-anchor=\"middle\" x=\"531\" y=\"-109.8\" font-family=\"Helvetica,sans-Serif\" font-size=\"14.00\">samples = 7.8%</text>\n<text text-anchor=\"middle\" x=\"531\" y=\"-94.8\" font-family=\"Helvetica,sans-Serif\" font-size=\"14.00\">value = [0.862, 0.138]</text>\n<text text-anchor=\"middle\" x=\"531\" y=\"-79.8\" font-family=\"Helvetica,sans-Serif\" font-size=\"14.00\">class = False.</text>\n</g>\n<!-- 141&#45;&gt;143 -->\n<g id=\"edge11\" class=\"edge\">\n<title>141&#45;&gt;143</title>\n<path fill=\"none\" stroke=\"black\" d=\"M435.65,-190.91C447.54,-181.38 460.31,-171.15 472.51,-161.37\"/>\n<polygon fill=\"black\" stroke=\"black\" points=\"474.82,-164.01 480.44,-155.02 470.44,-158.54 474.82,-164.01\"/>\n</g>\n<!-- 144 -->\n<g id=\"node13\" class=\"node\">\n<title>144</title>\n<path fill=\"#c0c0c0\" stroke=\"black\" d=\"M510,-36C510,-36 480,-36 480,-36 474,-36 468,-30 468,-24 468,-24 468,-12 468,-12 468,-6 474,0 480,0 480,0 510,0 510,0 516,0 522,-6 522,-12 522,-12 522,-24 522,-24 522,-30 516,-36 510,-36\"/>\n<text text-anchor=\"middle\" x=\"495\" y=\"-14.3\" font-family=\"Helvetica,sans-Serif\" font-size=\"14.00\">(...)</text>\n</g>\n<!-- 143&#45;&gt;144 -->\n<g id=\"edge12\" class=\"edge\">\n<title>143&#45;&gt;144</title>\n<path fill=\"none\" stroke=\"black\" d=\"M515.31,-71.76C511.96,-63.04 508.49,-54.04 505.39,-45.99\"/>\n<polygon fill=\"black\" stroke=\"black\" points=\"508.56,-44.48 501.7,-36.41 502.03,-46.99 508.56,-44.48\"/>\n</g>\n<!-- 153 -->\n<g id=\"node14\" class=\"node\">\n<title>153</title>\n<path fill=\"#c0c0c0\" stroke=\"black\" d=\"M582,-36C582,-36 552,-36 552,-36 546,-36 540,-30 540,-24 540,-24 540,-12 540,-12 540,-6 546,0 552,0 552,0 582,0 582,0 588,0 594,-6 594,-12 594,-12 594,-24 594,-24 594,-30 588,-36 582,-36\"/>\n<text text-anchor=\"middle\" x=\"567\" y=\"-14.3\" font-family=\"Helvetica,sans-Serif\" font-size=\"14.00\">(...)</text>\n</g>\n<!-- 143&#45;&gt;153 -->\n<g id=\"edge13\" class=\"edge\">\n<title>143&#45;&gt;153</title>\n<path fill=\"none\" stroke=\"black\" d=\"M546.69,-71.76C550.04,-63.04 553.51,-54.04 556.61,-45.99\"/>\n<polygon fill=\"black\" stroke=\"black\" points=\"559.97,-46.99 560.3,-36.41 553.44,-44.48 559.97,-46.99\"/>\n</g>\n<!-- 155 -->\n<g id=\"node16\" class=\"node\">\n<title>155</title>\n<path fill=\"#c6e3f8\" stroke=\"black\" d=\"M611.5,-266.5C611.5,-266.5 488.5,-266.5 488.5,-266.5 482.5,-266.5 476.5,-260.5 476.5,-254.5 476.5,-254.5 476.5,-210.5 476.5,-210.5 476.5,-204.5 482.5,-198.5 488.5,-198.5 488.5,-198.5 611.5,-198.5 611.5,-198.5 617.5,-198.5 623.5,-204.5 623.5,-210.5 623.5,-210.5 623.5,-254.5 623.5,-254.5 623.5,-260.5 617.5,-266.5 611.5,-266.5\"/>\n<text text-anchor=\"middle\" x=\"550\" y=\"-251.3\" font-family=\"Helvetica,sans-Serif\" font-size=\"14.00\">gini = 0.486</text>\n<text text-anchor=\"middle\" x=\"550\" y=\"-236.3\" font-family=\"Helvetica,sans-Serif\" font-size=\"14.00\">samples = 0.9%</text>\n<text text-anchor=\"middle\" x=\"550\" y=\"-221.3\" font-family=\"Helvetica,sans-Serif\" font-size=\"14.00\">value = [0.417, 0.583]</text>\n<text text-anchor=\"middle\" x=\"550\" y=\"-206.3\" font-family=\"Helvetica,sans-Serif\" font-size=\"14.00\">class = True.</text>\n</g>\n<!-- 154&#45;&gt;155 -->\n<g id=\"edge15\" class=\"edge\">\n<title>154&#45;&gt;155</title>\n<path fill=\"none\" stroke=\"black\" d=\"M550,-309.91C550,-299.2 550,-287.62 550,-276.78\"/>\n<polygon fill=\"black\" stroke=\"black\" points=\"553.5,-276.67 550,-266.67 546.5,-276.67 553.5,-276.67\"/>\n</g>\n<!-- 156 -->\n<g id=\"node17\" class=\"node\">\n<title>156</title>\n<path fill=\"#ea9a61\" stroke=\"black\" d=\"M776.5,-266.5C776.5,-266.5 653.5,-266.5 653.5,-266.5 647.5,-266.5 641.5,-260.5 641.5,-254.5 641.5,-254.5 641.5,-210.5 641.5,-210.5 641.5,-204.5 647.5,-198.5 653.5,-198.5 653.5,-198.5 776.5,-198.5 776.5,-198.5 782.5,-198.5 788.5,-204.5 788.5,-210.5 788.5,-210.5 788.5,-254.5 788.5,-254.5 788.5,-260.5 782.5,-266.5 776.5,-266.5\"/>\n<text text-anchor=\"middle\" x=\"715\" y=\"-251.3\" font-family=\"Helvetica,sans-Serif\" font-size=\"14.00\">gini = 0.278</text>\n<text text-anchor=\"middle\" x=\"715\" y=\"-236.3\" font-family=\"Helvetica,sans-Serif\" font-size=\"14.00\">samples = 0.9%</text>\n<text text-anchor=\"middle\" x=\"715\" y=\"-221.3\" font-family=\"Helvetica,sans-Serif\" font-size=\"14.00\">value = [0.833, 0.167]</text>\n<text text-anchor=\"middle\" x=\"715\" y=\"-206.3\" font-family=\"Helvetica,sans-Serif\" font-size=\"14.00\">class = False.</text>\n</g>\n<!-- 154&#45;&gt;156 -->\n<g id=\"edge16\" class=\"edge\">\n<title>154&#45;&gt;156</title>\n<path fill=\"none\" stroke=\"black\" d=\"M607.25,-309.91C624.36,-297.77 643.09,-284.49 660.05,-272.46\"/>\n<polygon fill=\"black\" stroke=\"black\" points=\"662.09,-275.31 668.23,-266.67 658.04,-269.6 662.09,-275.31\"/>\n</g>\n</g>\n</svg>\n",
            "text/plain": [
              "<graphviz.sources.Source at 0x7b2bfbd46590>"
            ]
          },
          "metadata": {},
          "execution_count": 78
        }
      ],
      "source": [
        "dot_data = tree.export_graphviz(tree2,\n",
        "                                out_file=None,\n",
        "                                feature_names=tree2_features,\n",
        "                                class_names = [\"False.\", \"True.\"],\n",
        "                                filled=True,\n",
        "                                max_depth=3,\n",
        "                                impurity=True,\n",
        "                                proportion=True,\n",
        "                                rounded=True,\n",
        "                                  special_characters=False)\n",
        "graph = graphviz.Source(dot_data)\n",
        "graph"
      ]
    },
    {
      "cell_type": "code",
      "execution_count": null,
      "metadata": {
        "colab": {
          "base_uri": "https://localhost:8080/",
          "height": 734
        },
        "id": "8-eS9cBN1Fl5",
        "outputId": "7ea90a20-ff06-442c-f00a-bea88ed0d1ab"
      },
      "outputs": [
        {
          "output_type": "execute_result",
          "data": {
            "image/svg+xml": "<?xml version=\"1.0\" encoding=\"UTF-8\" standalone=\"no\"?>\n<!DOCTYPE svg PUBLIC \"-//W3C//DTD SVG 1.1//EN\"\n \"http://www.w3.org/Graphics/SVG/1.1/DTD/svg11.dtd\">\n<!-- Generated by graphviz version 2.43.0 (0)\n -->\n<!-- Title: Tree Pages: 1 -->\n<svg width=\"1250pt\" height=\"520pt\"\n viewBox=\"0.00 0.00 1250.00 520.00\" xmlns=\"http://www.w3.org/2000/svg\" xmlns:xlink=\"http://www.w3.org/1999/xlink\">\n<g id=\"graph0\" class=\"graph\" transform=\"scale(1 1) rotate(0) translate(4 516)\">\n<title>Tree</title>\n<polygon fill=\"white\" stroke=\"transparent\" points=\"-4,4 -4,-516 1246,-516 1246,4 -4,4\"/>\n<!-- 0 -->\n<g id=\"node1\" class=\"node\">\n<title>0</title>\n<path fill=\"#ea9a60\" stroke=\"black\" d=\"M637,-512C637,-512 514,-512 514,-512 508,-512 502,-506 502,-500 502,-500 502,-441 502,-441 502,-435 508,-429 514,-429 514,-429 637,-429 637,-429 643,-429 649,-435 649,-441 649,-441 649,-500 649,-500 649,-506 643,-512 637,-512\"/>\n<text text-anchor=\"middle\" x=\"575.5\" y=\"-496.8\" font-family=\"Helvetica,sans-Serif\" font-size=\"14.00\">eve_mins &lt;= 157.55</text>\n<text text-anchor=\"middle\" x=\"575.5\" y=\"-481.8\" font-family=\"Helvetica,sans-Serif\" font-size=\"14.00\">gini = 0.273</text>\n<text text-anchor=\"middle\" x=\"575.5\" y=\"-466.8\" font-family=\"Helvetica,sans-Serif\" font-size=\"14.00\">samples = 100.0%</text>\n<text text-anchor=\"middle\" x=\"575.5\" y=\"-451.8\" font-family=\"Helvetica,sans-Serif\" font-size=\"14.00\">value = [0.837, 0.163]</text>\n<text text-anchor=\"middle\" x=\"575.5\" y=\"-436.8\" font-family=\"Helvetica,sans-Serif\" font-size=\"14.00\">class = False.</text>\n</g>\n<!-- 1 -->\n<g id=\"node2\" class=\"node\">\n<title>1</title>\n<path fill=\"#e78b48\" stroke=\"black\" d=\"M547.5,-393C547.5,-393 439.5,-393 439.5,-393 433.5,-393 427.5,-387 427.5,-381 427.5,-381 427.5,-322 427.5,-322 427.5,-316 433.5,-310 439.5,-310 439.5,-310 547.5,-310 547.5,-310 553.5,-310 559.5,-316 559.5,-322 559.5,-322 559.5,-381 559.5,-381 559.5,-387 553.5,-393 547.5,-393\"/>\n<text text-anchor=\"middle\" x=\"493.5\" y=\"-377.8\" font-family=\"Helvetica,sans-Serif\" font-size=\"14.00\">intl_mins &lt;= 7.35</text>\n<text text-anchor=\"middle\" x=\"493.5\" y=\"-362.8\" font-family=\"Helvetica,sans-Serif\" font-size=\"14.00\">gini = 0.131</text>\n<text text-anchor=\"middle\" x=\"493.5\" y=\"-347.8\" font-family=\"Helvetica,sans-Serif\" font-size=\"14.00\">samples = 18.3%</text>\n<text text-anchor=\"middle\" x=\"493.5\" y=\"-332.8\" font-family=\"Helvetica,sans-Serif\" font-size=\"14.00\">value = [0.93, 0.07]</text>\n<text text-anchor=\"middle\" x=\"493.5\" y=\"-317.8\" font-family=\"Helvetica,sans-Serif\" font-size=\"14.00\">class = False.</text>\n</g>\n<!-- 0&#45;&gt;1 -->\n<g id=\"edge1\" class=\"edge\">\n<title>0&#45;&gt;1</title>\n<path fill=\"none\" stroke=\"black\" d=\"M547.05,-428.91C540.82,-420.01 534.16,-410.51 527.72,-401.33\"/>\n<polygon fill=\"black\" stroke=\"black\" points=\"530.5,-399.2 521.9,-393.02 524.77,-403.22 530.5,-399.2\"/>\n<text text-anchor=\"middle\" x=\"517.57\" y=\"-413.94\" font-family=\"Helvetica,sans-Serif\" font-size=\"14.00\">True</text>\n</g>\n<!-- 28 -->\n<g id=\"node13\" class=\"node\">\n<title>28</title>\n<path fill=\"#eb9d66\" stroke=\"black\" d=\"M795,-393C795,-393 672,-393 672,-393 666,-393 660,-387 660,-381 660,-381 660,-322 660,-322 660,-316 666,-310 672,-310 672,-310 795,-310 795,-310 801,-310 807,-316 807,-322 807,-322 807,-381 807,-381 807,-387 801,-393 795,-393\"/>\n<text text-anchor=\"middle\" x=\"733.5\" y=\"-377.8\" font-family=\"Helvetica,sans-Serif\" font-size=\"14.00\">intl_mins &lt;= 13.15</text>\n<text text-anchor=\"middle\" x=\"733.5\" y=\"-362.8\" font-family=\"Helvetica,sans-Serif\" font-size=\"14.00\">gini = 0.3</text>\n<text text-anchor=\"middle\" x=\"733.5\" y=\"-347.8\" font-family=\"Helvetica,sans-Serif\" font-size=\"14.00\">samples = 81.7%</text>\n<text text-anchor=\"middle\" x=\"733.5\" y=\"-332.8\" font-family=\"Helvetica,sans-Serif\" font-size=\"14.00\">value = [0.816, 0.184]</text>\n<text text-anchor=\"middle\" x=\"733.5\" y=\"-317.8\" font-family=\"Helvetica,sans-Serif\" font-size=\"14.00\">class = False.</text>\n</g>\n<!-- 0&#45;&gt;28 -->\n<g id=\"edge12\" class=\"edge\">\n<title>0&#45;&gt;28</title>\n<path fill=\"none\" stroke=\"black\" d=\"M630.32,-428.91C643.31,-419.29 657.26,-408.95 670.58,-399.09\"/>\n<polygon fill=\"black\" stroke=\"black\" points=\"672.83,-401.78 678.78,-393.02 668.66,-396.16 672.83,-401.78\"/>\n<text text-anchor=\"middle\" x=\"675.09\" y=\"-414.05\" font-family=\"Helvetica,sans-Serif\" font-size=\"14.00\">False</text>\n</g>\n<!-- 2 -->\n<g id=\"node3\" class=\"node\">\n<title>2</title>\n<path fill=\"#e9965a\" stroke=\"black\" d=\"M270,-274C270,-274 147,-274 147,-274 141,-274 135,-268 135,-262 135,-262 135,-203 135,-203 135,-197 141,-191 147,-191 147,-191 270,-191 270,-191 276,-191 282,-197 282,-203 282,-203 282,-262 282,-262 282,-268 276,-274 270,-274\"/>\n<text text-anchor=\"middle\" x=\"208.5\" y=\"-258.8\" font-family=\"Helvetica,sans-Serif\" font-size=\"14.00\">intl_mins &lt;= 6.1</text>\n<text text-anchor=\"middle\" x=\"208.5\" y=\"-243.8\" font-family=\"Helvetica,sans-Serif\" font-size=\"14.00\">gini = 0.245</text>\n<text text-anchor=\"middle\" x=\"208.5\" y=\"-228.8\" font-family=\"Helvetica,sans-Serif\" font-size=\"14.00\">samples = 2.5%</text>\n<text text-anchor=\"middle\" x=\"208.5\" y=\"-213.8\" font-family=\"Helvetica,sans-Serif\" font-size=\"14.00\">value = [0.857, 0.143]</text>\n<text text-anchor=\"middle\" x=\"208.5\" y=\"-198.8\" font-family=\"Helvetica,sans-Serif\" font-size=\"14.00\">class = False.</text>\n</g>\n<!-- 1&#45;&gt;2 -->\n<g id=\"edge2\" class=\"edge\">\n<title>1&#45;&gt;2</title>\n<path fill=\"none\" stroke=\"black\" d=\"M427.4,-323.36C386.88,-306.73 334.66,-285.29 291.38,-267.53\"/>\n<polygon fill=\"black\" stroke=\"black\" points=\"292.59,-264.24 282.01,-263.68 289.93,-270.71 292.59,-264.24\"/>\n</g>\n<!-- 5 -->\n<g id=\"node6\" class=\"node\">\n<title>5</title>\n<path fill=\"#e78945\" stroke=\"black\" d=\"M555,-274C555,-274 432,-274 432,-274 426,-274 420,-268 420,-262 420,-262 420,-203 420,-203 420,-197 426,-191 432,-191 432,-191 555,-191 555,-191 561,-191 567,-197 567,-203 567,-203 567,-262 567,-262 567,-268 561,-274 555,-274\"/>\n<text text-anchor=\"middle\" x=\"493.5\" y=\"-258.8\" font-family=\"Helvetica,sans-Serif\" font-size=\"14.00\">intl_mins &lt;= 10.25</text>\n<text text-anchor=\"middle\" x=\"493.5\" y=\"-243.8\" font-family=\"Helvetica,sans-Serif\" font-size=\"14.00\">gini = 0.111</text>\n<text text-anchor=\"middle\" x=\"493.5\" y=\"-228.8\" font-family=\"Helvetica,sans-Serif\" font-size=\"14.00\">samples = 15.8%</text>\n<text text-anchor=\"middle\" x=\"493.5\" y=\"-213.8\" font-family=\"Helvetica,sans-Serif\" font-size=\"14.00\">value = [0.941, 0.059]</text>\n<text text-anchor=\"middle\" x=\"493.5\" y=\"-198.8\" font-family=\"Helvetica,sans-Serif\" font-size=\"14.00\">class = False.</text>\n</g>\n<!-- 1&#45;&gt;5 -->\n<g id=\"edge5\" class=\"edge\">\n<title>1&#45;&gt;5</title>\n<path fill=\"none\" stroke=\"black\" d=\"M493.5,-309.91C493.5,-301.65 493.5,-292.86 493.5,-284.3\"/>\n<polygon fill=\"black\" stroke=\"black\" points=\"497,-284.02 493.5,-274.02 490,-284.02 497,-284.02\"/>\n</g>\n<!-- 3 -->\n<g id=\"node4\" class=\"node\">\n<title>3</title>\n<path fill=\"#e58139\" stroke=\"black\" d=\"M105,-147.5C105,-147.5 12,-147.5 12,-147.5 6,-147.5 0,-141.5 0,-135.5 0,-135.5 0,-91.5 0,-91.5 0,-85.5 6,-79.5 12,-79.5 12,-79.5 105,-79.5 105,-79.5 111,-79.5 117,-85.5 117,-91.5 117,-91.5 117,-135.5 117,-135.5 117,-141.5 111,-147.5 105,-147.5\"/>\n<text text-anchor=\"middle\" x=\"58.5\" y=\"-132.3\" font-family=\"Helvetica,sans-Serif\" font-size=\"14.00\">gini = 0.0</text>\n<text text-anchor=\"middle\" x=\"58.5\" y=\"-117.3\" font-family=\"Helvetica,sans-Serif\" font-size=\"14.00\">samples = 1.1%</text>\n<text text-anchor=\"middle\" x=\"58.5\" y=\"-102.3\" font-family=\"Helvetica,sans-Serif\" font-size=\"14.00\">value = [1.0, 0.0]</text>\n<text text-anchor=\"middle\" x=\"58.5\" y=\"-87.3\" font-family=\"Helvetica,sans-Serif\" font-size=\"14.00\">class = False.</text>\n</g>\n<!-- 2&#45;&gt;3 -->\n<g id=\"edge3\" class=\"edge\">\n<title>2&#45;&gt;3</title>\n<path fill=\"none\" stroke=\"black\" d=\"M156.46,-190.91C141.18,-178.99 124.49,-165.98 109.29,-154.12\"/>\n<polygon fill=\"black\" stroke=\"black\" points=\"111.06,-151.06 101.02,-147.67 106.75,-156.58 111.06,-151.06\"/>\n</g>\n<!-- 4 -->\n<g id=\"node5\" class=\"node\">\n<title>4</title>\n<path fill=\"#eeae80\" stroke=\"black\" d=\"M270,-147.5C270,-147.5 147,-147.5 147,-147.5 141,-147.5 135,-141.5 135,-135.5 135,-135.5 135,-91.5 135,-91.5 135,-85.5 141,-79.5 147,-79.5 147,-79.5 270,-79.5 270,-79.5 276,-79.5 282,-85.5 282,-91.5 282,-91.5 282,-135.5 282,-135.5 282,-141.5 276,-147.5 270,-147.5\"/>\n<text text-anchor=\"middle\" x=\"208.5\" y=\"-132.3\" font-family=\"Helvetica,sans-Serif\" font-size=\"14.00\">gini = 0.388</text>\n<text text-anchor=\"middle\" x=\"208.5\" y=\"-117.3\" font-family=\"Helvetica,sans-Serif\" font-size=\"14.00\">samples = 1.4%</text>\n<text text-anchor=\"middle\" x=\"208.5\" y=\"-102.3\" font-family=\"Helvetica,sans-Serif\" font-size=\"14.00\">value = [0.737, 0.263]</text>\n<text text-anchor=\"middle\" x=\"208.5\" y=\"-87.3\" font-family=\"Helvetica,sans-Serif\" font-size=\"14.00\">class = False.</text>\n</g>\n<!-- 2&#45;&gt;4 -->\n<g id=\"edge4\" class=\"edge\">\n<title>2&#45;&gt;4</title>\n<path fill=\"none\" stroke=\"black\" d=\"M208.5,-190.91C208.5,-180.2 208.5,-168.62 208.5,-157.78\"/>\n<polygon fill=\"black\" stroke=\"black\" points=\"212,-157.67 208.5,-147.67 205,-157.67 212,-157.67\"/>\n</g>\n<!-- 6 -->\n<g id=\"node7\" class=\"node\">\n<title>6</title>\n<path fill=\"#e5833c\" stroke=\"black\" d=\"M435,-155C435,-155 312,-155 312,-155 306,-155 300,-149 300,-143 300,-143 300,-84 300,-84 300,-78 306,-72 312,-72 312,-72 435,-72 435,-72 441,-72 447,-78 447,-84 447,-84 447,-143 447,-143 447,-149 441,-155 435,-155\"/>\n<text text-anchor=\"middle\" x=\"373.5\" y=\"-139.8\" font-family=\"Helvetica,sans-Serif\" font-size=\"14.00\">eve_mins &lt;= 151.35</text>\n<text text-anchor=\"middle\" x=\"373.5\" y=\"-124.8\" font-family=\"Helvetica,sans-Serif\" font-size=\"14.00\">gini = 0.025</text>\n<text text-anchor=\"middle\" x=\"373.5\" y=\"-109.8\" font-family=\"Helvetica,sans-Serif\" font-size=\"14.00\">samples = 5.6%</text>\n<text text-anchor=\"middle\" x=\"373.5\" y=\"-94.8\" font-family=\"Helvetica,sans-Serif\" font-size=\"14.00\">value = [0.987, 0.013]</text>\n<text text-anchor=\"middle\" x=\"373.5\" y=\"-79.8\" font-family=\"Helvetica,sans-Serif\" font-size=\"14.00\">class = False.</text>\n</g>\n<!-- 5&#45;&gt;6 -->\n<g id=\"edge6\" class=\"edge\">\n<title>5&#45;&gt;6</title>\n<path fill=\"none\" stroke=\"black\" d=\"M451.87,-190.91C442.37,-181.65 432.2,-171.73 422.43,-162.21\"/>\n<polygon fill=\"black\" stroke=\"black\" points=\"424.66,-159.5 415.06,-155.02 419.78,-164.51 424.66,-159.5\"/>\n</g>\n<!-- 11 -->\n<g id=\"node10\" class=\"node\">\n<title>11</title>\n<path fill=\"#e78d4b\" stroke=\"black\" d=\"M600,-155C600,-155 477,-155 477,-155 471,-155 465,-149 465,-143 465,-143 465,-84 465,-84 465,-78 471,-72 477,-72 477,-72 600,-72 600,-72 606,-72 612,-78 612,-84 612,-84 612,-143 612,-143 612,-149 606,-155 600,-155\"/>\n<text text-anchor=\"middle\" x=\"538.5\" y=\"-139.8\" font-family=\"Helvetica,sans-Serif\" font-size=\"14.00\">intl_mins &lt;= 10.65</text>\n<text text-anchor=\"middle\" x=\"538.5\" y=\"-124.8\" font-family=\"Helvetica,sans-Serif\" font-size=\"14.00\">gini = 0.154</text>\n<text text-anchor=\"middle\" x=\"538.5\" y=\"-109.8\" font-family=\"Helvetica,sans-Serif\" font-size=\"14.00\">samples = 10.2%</text>\n<text text-anchor=\"middle\" x=\"538.5\" y=\"-94.8\" font-family=\"Helvetica,sans-Serif\" font-size=\"14.00\">value = [0.916, 0.084]</text>\n<text text-anchor=\"middle\" x=\"538.5\" y=\"-79.8\" font-family=\"Helvetica,sans-Serif\" font-size=\"14.00\">class = False.</text>\n</g>\n<!-- 5&#45;&gt;11 -->\n<g id=\"edge9\" class=\"edge\">\n<title>5&#45;&gt;11</title>\n<path fill=\"none\" stroke=\"black\" d=\"M509.11,-190.91C512.39,-182.38 515.89,-173.28 519.29,-164.46\"/>\n<polygon fill=\"black\" stroke=\"black\" points=\"522.59,-165.61 522.92,-155.02 516.06,-163.1 522.59,-165.61\"/>\n</g>\n<!-- 7 -->\n<g id=\"node8\" class=\"node\">\n<title>7</title>\n<path fill=\"#c0c0c0\" stroke=\"black\" d=\"M326.5,-36C326.5,-36 296.5,-36 296.5,-36 290.5,-36 284.5,-30 284.5,-24 284.5,-24 284.5,-12 284.5,-12 284.5,-6 290.5,0 296.5,0 296.5,0 326.5,0 326.5,0 332.5,0 338.5,-6 338.5,-12 338.5,-12 338.5,-24 338.5,-24 338.5,-30 332.5,-36 326.5,-36\"/>\n<text text-anchor=\"middle\" x=\"311.5\" y=\"-14.3\" font-family=\"Helvetica,sans-Serif\" font-size=\"14.00\">(...)</text>\n</g>\n<!-- 6&#45;&gt;7 -->\n<g id=\"edge7\" class=\"edge\">\n<title>6&#45;&gt;7</title>\n<path fill=\"none\" stroke=\"black\" d=\"M346.49,-71.76C340.45,-62.65 334.2,-53.24 328.69,-44.92\"/>\n<polygon fill=\"black\" stroke=\"black\" points=\"331.48,-42.81 323.04,-36.41 325.65,-46.67 331.48,-42.81\"/>\n</g>\n<!-- 8 -->\n<g id=\"node9\" class=\"node\">\n<title>8</title>\n<path fill=\"#c0c0c0\" stroke=\"black\" d=\"M398.5,-36C398.5,-36 368.5,-36 368.5,-36 362.5,-36 356.5,-30 356.5,-24 356.5,-24 356.5,-12 356.5,-12 356.5,-6 362.5,0 368.5,0 368.5,0 398.5,0 398.5,0 404.5,0 410.5,-6 410.5,-12 410.5,-12 410.5,-24 410.5,-24 410.5,-30 404.5,-36 398.5,-36\"/>\n<text text-anchor=\"middle\" x=\"383.5\" y=\"-14.3\" font-family=\"Helvetica,sans-Serif\" font-size=\"14.00\">(...)</text>\n</g>\n<!-- 6&#45;&gt;8 -->\n<g id=\"edge8\" class=\"edge\">\n<title>6&#45;&gt;8</title>\n<path fill=\"none\" stroke=\"black\" d=\"M377.86,-71.76C378.77,-63.24 379.71,-54.44 380.56,-46.53\"/>\n<polygon fill=\"black\" stroke=\"black\" points=\"384.06,-46.72 381.64,-36.41 377.09,-45.98 384.06,-46.72\"/>\n</g>\n<!-- 12 -->\n<g id=\"node11\" class=\"node\">\n<title>12</title>\n<path fill=\"#c0c0c0\" stroke=\"black\" d=\"M517.5,-36C517.5,-36 487.5,-36 487.5,-36 481.5,-36 475.5,-30 475.5,-24 475.5,-24 475.5,-12 475.5,-12 475.5,-6 481.5,0 487.5,0 487.5,0 517.5,0 517.5,0 523.5,0 529.5,-6 529.5,-12 529.5,-12 529.5,-24 529.5,-24 529.5,-30 523.5,-36 517.5,-36\"/>\n<text text-anchor=\"middle\" x=\"502.5\" y=\"-14.3\" font-family=\"Helvetica,sans-Serif\" font-size=\"14.00\">(...)</text>\n</g>\n<!-- 11&#45;&gt;12 -->\n<g id=\"edge10\" class=\"edge\">\n<title>11&#45;&gt;12</title>\n<path fill=\"none\" stroke=\"black\" d=\"M522.81,-71.76C519.46,-63.04 515.99,-54.04 512.89,-45.99\"/>\n<polygon fill=\"black\" stroke=\"black\" points=\"516.06,-44.48 509.2,-36.41 509.53,-46.99 516.06,-44.48\"/>\n</g>\n<!-- 13 -->\n<g id=\"node12\" class=\"node\">\n<title>13</title>\n<path fill=\"#c0c0c0\" stroke=\"black\" d=\"M589.5,-36C589.5,-36 559.5,-36 559.5,-36 553.5,-36 547.5,-30 547.5,-24 547.5,-24 547.5,-12 547.5,-12 547.5,-6 553.5,0 559.5,0 559.5,0 589.5,0 589.5,0 595.5,0 601.5,-6 601.5,-12 601.5,-12 601.5,-24 601.5,-24 601.5,-30 595.5,-36 589.5,-36\"/>\n<text text-anchor=\"middle\" x=\"574.5\" y=\"-14.3\" font-family=\"Helvetica,sans-Serif\" font-size=\"14.00\">(...)</text>\n</g>\n<!-- 11&#45;&gt;13 -->\n<g id=\"edge11\" class=\"edge\">\n<title>11&#45;&gt;13</title>\n<path fill=\"none\" stroke=\"black\" d=\"M554.19,-71.76C557.54,-63.04 561.01,-54.04 564.11,-45.99\"/>\n<polygon fill=\"black\" stroke=\"black\" points=\"567.47,-46.99 567.8,-36.41 560.94,-44.48 567.47,-46.99\"/>\n</g>\n<!-- 29 -->\n<g id=\"node14\" class=\"node\">\n<title>29</title>\n<path fill=\"#ea9a61\" stroke=\"black\" d=\"M795,-274C795,-274 672,-274 672,-274 666,-274 660,-268 660,-262 660,-262 660,-203 660,-203 660,-197 666,-191 672,-191 672,-191 795,-191 795,-191 801,-191 807,-197 807,-203 807,-203 807,-262 807,-262 807,-268 801,-274 795,-274\"/>\n<text text-anchor=\"middle\" x=\"733.5\" y=\"-258.8\" font-family=\"Helvetica,sans-Serif\" font-size=\"14.00\">eve_mins &lt;= 159.0</text>\n<text text-anchor=\"middle\" x=\"733.5\" y=\"-243.8\" font-family=\"Helvetica,sans-Serif\" font-size=\"14.00\">gini = 0.279</text>\n<text text-anchor=\"middle\" x=\"733.5\" y=\"-228.8\" font-family=\"Helvetica,sans-Serif\" font-size=\"14.00\">samples = 69.9%</text>\n<text text-anchor=\"middle\" x=\"733.5\" y=\"-213.8\" font-family=\"Helvetica,sans-Serif\" font-size=\"14.00\">value = [0.832, 0.168]</text>\n<text text-anchor=\"middle\" x=\"733.5\" y=\"-198.8\" font-family=\"Helvetica,sans-Serif\" font-size=\"14.00\">class = False.</text>\n</g>\n<!-- 28&#45;&gt;29 -->\n<g id=\"edge13\" class=\"edge\">\n<title>28&#45;&gt;29</title>\n<path fill=\"none\" stroke=\"black\" d=\"M733.5,-309.91C733.5,-301.65 733.5,-292.86 733.5,-284.3\"/>\n<polygon fill=\"black\" stroke=\"black\" points=\"737,-284.02 733.5,-274.02 730,-284.02 737,-284.02\"/>\n</g>\n<!-- 168 -->\n<g id=\"node19\" class=\"node\">\n<title>168</title>\n<path fill=\"#efb286\" stroke=\"black\" d=\"M1065,-274C1065,-274 942,-274 942,-274 936,-274 930,-268 930,-262 930,-262 930,-203 930,-203 930,-197 936,-191 942,-191 942,-191 1065,-191 1065,-191 1071,-191 1077,-197 1077,-203 1077,-203 1077,-262 1077,-262 1077,-268 1071,-274 1065,-274\"/>\n<text text-anchor=\"middle\" x=\"1003.5\" y=\"-258.8\" font-family=\"Helvetica,sans-Serif\" font-size=\"14.00\">intl_mins &lt;= 14.55</text>\n<text text-anchor=\"middle\" x=\"1003.5\" y=\"-243.8\" font-family=\"Helvetica,sans-Serif\" font-size=\"14.00\">gini = 0.402</text>\n<text text-anchor=\"middle\" x=\"1003.5\" y=\"-228.8\" font-family=\"Helvetica,sans-Serif\" font-size=\"14.00\">samples = 11.8%</text>\n<text text-anchor=\"middle\" x=\"1003.5\" y=\"-213.8\" font-family=\"Helvetica,sans-Serif\" font-size=\"14.00\">value = [0.721, 0.279]</text>\n<text text-anchor=\"middle\" x=\"1003.5\" y=\"-198.8\" font-family=\"Helvetica,sans-Serif\" font-size=\"14.00\">class = False.</text>\n</g>\n<!-- 28&#45;&gt;168 -->\n<g id=\"edge18\" class=\"edge\">\n<title>28&#45;&gt;168</title>\n<path fill=\"none\" stroke=\"black\" d=\"M807.28,-318.53C842.25,-303.37 884.18,-285.21 920.28,-269.56\"/>\n<polygon fill=\"black\" stroke=\"black\" points=\"922.03,-272.62 929.81,-265.43 919.24,-266.2 922.03,-272.62\"/>\n</g>\n<!-- 30 -->\n<g id=\"node15\" class=\"node\">\n<title>30</title>\n<path fill=\"#ffffff\" stroke=\"black\" d=\"M735,-147.5C735,-147.5 642,-147.5 642,-147.5 636,-147.5 630,-141.5 630,-135.5 630,-135.5 630,-91.5 630,-91.5 630,-85.5 636,-79.5 642,-79.5 642,-79.5 735,-79.5 735,-79.5 741,-79.5 747,-85.5 747,-91.5 747,-91.5 747,-135.5 747,-135.5 747,-141.5 741,-147.5 735,-147.5\"/>\n<text text-anchor=\"middle\" x=\"688.5\" y=\"-132.3\" font-family=\"Helvetica,sans-Serif\" font-size=\"14.00\">gini = 0.5</text>\n<text text-anchor=\"middle\" x=\"688.5\" y=\"-117.3\" font-family=\"Helvetica,sans-Serif\" font-size=\"14.00\">samples = 0.7%</text>\n<text text-anchor=\"middle\" x=\"688.5\" y=\"-102.3\" font-family=\"Helvetica,sans-Serif\" font-size=\"14.00\">value = [0.5, 0.5]</text>\n<text text-anchor=\"middle\" x=\"688.5\" y=\"-87.3\" font-family=\"Helvetica,sans-Serif\" font-size=\"14.00\">class = False.</text>\n</g>\n<!-- 29&#45;&gt;30 -->\n<g id=\"edge14\" class=\"edge\">\n<title>29&#45;&gt;30</title>\n<path fill=\"none\" stroke=\"black\" d=\"M717.89,-190.91C713.69,-179.98 709.13,-168.14 704.89,-157.11\"/>\n<polygon fill=\"black\" stroke=\"black\" points=\"708.11,-155.74 701.26,-147.67 701.58,-158.26 708.11,-155.74\"/>\n</g>\n<!-- 31 -->\n<g id=\"node16\" class=\"node\">\n<title>31</title>\n<path fill=\"#ea9a60\" stroke=\"black\" d=\"M900,-155C900,-155 777,-155 777,-155 771,-155 765,-149 765,-143 765,-143 765,-84 765,-84 765,-78 771,-72 777,-72 777,-72 900,-72 900,-72 906,-72 912,-78 912,-84 912,-84 912,-143 912,-143 912,-149 906,-155 900,-155\"/>\n<text text-anchor=\"middle\" x=\"838.5\" y=\"-139.8\" font-family=\"Helvetica,sans-Serif\" font-size=\"14.00\">intl_mins &lt;= 9.75</text>\n<text text-anchor=\"middle\" x=\"838.5\" y=\"-124.8\" font-family=\"Helvetica,sans-Serif\" font-size=\"14.00\">gini = 0.274</text>\n<text text-anchor=\"middle\" x=\"838.5\" y=\"-109.8\" font-family=\"Helvetica,sans-Serif\" font-size=\"14.00\">samples = 69.2%</text>\n<text text-anchor=\"middle\" x=\"838.5\" y=\"-94.8\" font-family=\"Helvetica,sans-Serif\" font-size=\"14.00\">value = [0.836, 0.164]</text>\n<text text-anchor=\"middle\" x=\"838.5\" y=\"-79.8\" font-family=\"Helvetica,sans-Serif\" font-size=\"14.00\">class = False.</text>\n</g>\n<!-- 29&#45;&gt;31 -->\n<g id=\"edge15\" class=\"edge\">\n<title>29&#45;&gt;31</title>\n<path fill=\"none\" stroke=\"black\" d=\"M769.93,-190.91C778.15,-181.74 786.96,-171.93 795.43,-162.49\"/>\n<polygon fill=\"black\" stroke=\"black\" points=\"798.06,-164.8 802.14,-155.02 792.85,-160.13 798.06,-164.8\"/>\n</g>\n<!-- 32 -->\n<g id=\"node17\" class=\"node\">\n<title>32</title>\n<path fill=\"#c0c0c0\" stroke=\"black\" d=\"M791.5,-36C791.5,-36 761.5,-36 761.5,-36 755.5,-36 749.5,-30 749.5,-24 749.5,-24 749.5,-12 749.5,-12 749.5,-6 755.5,0 761.5,0 761.5,0 791.5,0 791.5,0 797.5,0 803.5,-6 803.5,-12 803.5,-12 803.5,-24 803.5,-24 803.5,-30 797.5,-36 791.5,-36\"/>\n<text text-anchor=\"middle\" x=\"776.5\" y=\"-14.3\" font-family=\"Helvetica,sans-Serif\" font-size=\"14.00\">(...)</text>\n</g>\n<!-- 31&#45;&gt;32 -->\n<g id=\"edge16\" class=\"edge\">\n<title>31&#45;&gt;32</title>\n<path fill=\"none\" stroke=\"black\" d=\"M811.49,-71.76C805.45,-62.65 799.2,-53.24 793.69,-44.92\"/>\n<polygon fill=\"black\" stroke=\"black\" points=\"796.48,-42.81 788.04,-36.41 790.65,-46.67 796.48,-42.81\"/>\n</g>\n<!-- 111 -->\n<g id=\"node18\" class=\"node\">\n<title>111</title>\n<path fill=\"#c0c0c0\" stroke=\"black\" d=\"M863.5,-36C863.5,-36 833.5,-36 833.5,-36 827.5,-36 821.5,-30 821.5,-24 821.5,-24 821.5,-12 821.5,-12 821.5,-6 827.5,0 833.5,0 833.5,0 863.5,0 863.5,0 869.5,0 875.5,-6 875.5,-12 875.5,-12 875.5,-24 875.5,-24 875.5,-30 869.5,-36 863.5,-36\"/>\n<text text-anchor=\"middle\" x=\"848.5\" y=\"-14.3\" font-family=\"Helvetica,sans-Serif\" font-size=\"14.00\">(...)</text>\n</g>\n<!-- 31&#45;&gt;111 -->\n<g id=\"edge17\" class=\"edge\">\n<title>31&#45;&gt;111</title>\n<path fill=\"none\" stroke=\"black\" d=\"M842.86,-71.76C843.77,-63.24 844.71,-54.44 845.56,-46.53\"/>\n<polygon fill=\"black\" stroke=\"black\" points=\"849.06,-46.72 846.64,-36.41 842.09,-45.98 849.06,-46.72\"/>\n</g>\n<!-- 169 -->\n<g id=\"node20\" class=\"node\">\n<title>169</title>\n<path fill=\"#f6d6be\" stroke=\"black\" d=\"M1065,-155C1065,-155 942,-155 942,-155 936,-155 930,-149 930,-143 930,-143 930,-84 930,-84 930,-78 936,-72 942,-72 942,-72 1065,-72 1065,-72 1071,-72 1077,-78 1077,-84 1077,-84 1077,-143 1077,-143 1077,-149 1071,-155 1065,-155\"/>\n<text text-anchor=\"middle\" x=\"1003.5\" y=\"-139.8\" font-family=\"Helvetica,sans-Serif\" font-size=\"14.00\">intl_mins &lt;= 13.25</text>\n<text text-anchor=\"middle\" x=\"1003.5\" y=\"-124.8\" font-family=\"Helvetica,sans-Serif\" font-size=\"14.00\">gini = 0.481</text>\n<text text-anchor=\"middle\" x=\"1003.5\" y=\"-109.8\" font-family=\"Helvetica,sans-Serif\" font-size=\"14.00\">samples = 6.9%</text>\n<text text-anchor=\"middle\" x=\"1003.5\" y=\"-94.8\" font-family=\"Helvetica,sans-Serif\" font-size=\"14.00\">value = [0.598, 0.402]</text>\n<text text-anchor=\"middle\" x=\"1003.5\" y=\"-79.8\" font-family=\"Helvetica,sans-Serif\" font-size=\"14.00\">class = False.</text>\n</g>\n<!-- 168&#45;&gt;169 -->\n<g id=\"edge19\" class=\"edge\">\n<title>168&#45;&gt;169</title>\n<path fill=\"none\" stroke=\"black\" d=\"M1003.5,-190.91C1003.5,-182.65 1003.5,-173.86 1003.5,-165.3\"/>\n<polygon fill=\"black\" stroke=\"black\" points=\"1007,-165.02 1003.5,-155.02 1000,-165.02 1007,-165.02\"/>\n</g>\n<!-- 184 -->\n<g id=\"node23\" class=\"node\">\n<title>184</title>\n<path fill=\"#e88f50\" stroke=\"black\" d=\"M1230,-155C1230,-155 1107,-155 1107,-155 1101,-155 1095,-149 1095,-143 1095,-143 1095,-84 1095,-84 1095,-78 1101,-72 1107,-72 1107,-72 1230,-72 1230,-72 1236,-72 1242,-78 1242,-84 1242,-84 1242,-143 1242,-143 1242,-149 1236,-155 1230,-155\"/>\n<text text-anchor=\"middle\" x=\"1168.5\" y=\"-139.8\" font-family=\"Helvetica,sans-Serif\" font-size=\"14.00\">eve_mins &lt;= 188.05</text>\n<text text-anchor=\"middle\" x=\"1168.5\" y=\"-124.8\" font-family=\"Helvetica,sans-Serif\" font-size=\"14.00\">gini = 0.185</text>\n<text text-anchor=\"middle\" x=\"1168.5\" y=\"-109.8\" font-family=\"Helvetica,sans-Serif\" font-size=\"14.00\">samples = 4.9%</text>\n<text text-anchor=\"middle\" x=\"1168.5\" y=\"-94.8\" font-family=\"Helvetica,sans-Serif\" font-size=\"14.00\">value = [0.897, 0.103]</text>\n<text text-anchor=\"middle\" x=\"1168.5\" y=\"-79.8\" font-family=\"Helvetica,sans-Serif\" font-size=\"14.00\">class = False.</text>\n</g>\n<!-- 168&#45;&gt;184 -->\n<g id=\"edge22\" class=\"edge\">\n<title>168&#45;&gt;184</title>\n<path fill=\"none\" stroke=\"black\" d=\"M1060.75,-190.91C1074.44,-181.2 1089.16,-170.76 1103.19,-160.81\"/>\n<polygon fill=\"black\" stroke=\"black\" points=\"1105.22,-163.66 1111.36,-155.02 1101.17,-157.95 1105.22,-163.66\"/>\n</g>\n<!-- 170 -->\n<g id=\"node21\" class=\"node\">\n<title>170</title>\n<path fill=\"#c0c0c0\" stroke=\"black\" d=\"M974.5,-36C974.5,-36 944.5,-36 944.5,-36 938.5,-36 932.5,-30 932.5,-24 932.5,-24 932.5,-12 932.5,-12 932.5,-6 938.5,0 944.5,0 944.5,0 974.5,0 974.5,0 980.5,0 986.5,-6 986.5,-12 986.5,-12 986.5,-24 986.5,-24 986.5,-30 980.5,-36 974.5,-36\"/>\n<text text-anchor=\"middle\" x=\"959.5\" y=\"-14.3\" font-family=\"Helvetica,sans-Serif\" font-size=\"14.00\">(...)</text>\n</g>\n<!-- 169&#45;&gt;170 -->\n<g id=\"edge20\" class=\"edge\">\n<title>169&#45;&gt;170</title>\n<path fill=\"none\" stroke=\"black\" d=\"M984.33,-71.76C980.13,-62.85 975.8,-53.64 971.95,-45.46\"/>\n<polygon fill=\"black\" stroke=\"black\" points=\"975.12,-43.96 967.69,-36.41 968.78,-46.94 975.12,-43.96\"/>\n</g>\n<!-- 173 -->\n<g id=\"node22\" class=\"node\">\n<title>173</title>\n<path fill=\"#c0c0c0\" stroke=\"black\" d=\"M1046.5,-36C1046.5,-36 1016.5,-36 1016.5,-36 1010.5,-36 1004.5,-30 1004.5,-24 1004.5,-24 1004.5,-12 1004.5,-12 1004.5,-6 1010.5,0 1016.5,0 1016.5,0 1046.5,0 1046.5,0 1052.5,0 1058.5,-6 1058.5,-12 1058.5,-12 1058.5,-24 1058.5,-24 1058.5,-30 1052.5,-36 1046.5,-36\"/>\n<text text-anchor=\"middle\" x=\"1031.5\" y=\"-14.3\" font-family=\"Helvetica,sans-Serif\" font-size=\"14.00\">(...)</text>\n</g>\n<!-- 169&#45;&gt;173 -->\n<g id=\"edge21\" class=\"edge\">\n<title>169&#45;&gt;173</title>\n<path fill=\"none\" stroke=\"black\" d=\"M1015.7,-71.76C1018.31,-63.04 1021.01,-54.04 1023.42,-45.99\"/>\n<polygon fill=\"black\" stroke=\"black\" points=\"1026.77,-46.99 1026.29,-36.41 1020.07,-44.98 1026.77,-46.99\"/>\n</g>\n<!-- 185 -->\n<g id=\"node24\" class=\"node\">\n<title>185</title>\n<path fill=\"#c0c0c0\" stroke=\"black\" d=\"M1147.5,-36C1147.5,-36 1117.5,-36 1117.5,-36 1111.5,-36 1105.5,-30 1105.5,-24 1105.5,-24 1105.5,-12 1105.5,-12 1105.5,-6 1111.5,0 1117.5,0 1117.5,0 1147.5,0 1147.5,0 1153.5,0 1159.5,-6 1159.5,-12 1159.5,-12 1159.5,-24 1159.5,-24 1159.5,-30 1153.5,-36 1147.5,-36\"/>\n<text text-anchor=\"middle\" x=\"1132.5\" y=\"-14.3\" font-family=\"Helvetica,sans-Serif\" font-size=\"14.00\">(...)</text>\n</g>\n<!-- 184&#45;&gt;185 -->\n<g id=\"edge23\" class=\"edge\">\n<title>184&#45;&gt;185</title>\n<path fill=\"none\" stroke=\"black\" d=\"M1152.81,-71.76C1149.46,-63.04 1145.99,-54.04 1142.89,-45.99\"/>\n<polygon fill=\"black\" stroke=\"black\" points=\"1146.06,-44.48 1139.2,-36.41 1139.53,-46.99 1146.06,-44.48\"/>\n</g>\n<!-- 186 -->\n<g id=\"node25\" class=\"node\">\n<title>186</title>\n<path fill=\"#c0c0c0\" stroke=\"black\" d=\"M1219.5,-36C1219.5,-36 1189.5,-36 1189.5,-36 1183.5,-36 1177.5,-30 1177.5,-24 1177.5,-24 1177.5,-12 1177.5,-12 1177.5,-6 1183.5,0 1189.5,0 1189.5,0 1219.5,0 1219.5,0 1225.5,0 1231.5,-6 1231.5,-12 1231.5,-12 1231.5,-24 1231.5,-24 1231.5,-30 1225.5,-36 1219.5,-36\"/>\n<text text-anchor=\"middle\" x=\"1204.5\" y=\"-14.3\" font-family=\"Helvetica,sans-Serif\" font-size=\"14.00\">(...)</text>\n</g>\n<!-- 184&#45;&gt;186 -->\n<g id=\"edge24\" class=\"edge\">\n<title>184&#45;&gt;186</title>\n<path fill=\"none\" stroke=\"black\" d=\"M1184.19,-71.76C1187.54,-63.04 1191.01,-54.04 1194.11,-45.99\"/>\n<polygon fill=\"black\" stroke=\"black\" points=\"1197.47,-46.99 1197.8,-36.41 1190.94,-44.48 1197.47,-46.99\"/>\n</g>\n</g>\n</svg>\n",
            "text/plain": [
              "<graphviz.sources.Source at 0x7b2bfed8fac0>"
            ]
          },
          "metadata": {},
          "execution_count": 79
        }
      ],
      "source": [
        "dot_data = tree.export_graphviz(tree3,\n",
        "                                out_file=None,\n",
        "                                feature_names=tree3_features,\n",
        "                                class_names = [\"False.\", \"True.\"],\n",
        "                                filled=True,\n",
        "                                max_depth=3,\n",
        "                                impurity=True,\n",
        "                                proportion=True,\n",
        "                                rounded=True,\n",
        "                                  special_characters=False)\n",
        "graph = graphviz.Source(dot_data)\n",
        "graph"
      ]
    },
    {
      "cell_type": "markdown",
      "metadata": {
        "id": "beMDfGEO1Fl5"
      },
      "source": [
        "### Did you know you can Extract rules from tree!\n",
        "---\n",
        "Here is a handy function to extract business rules \"export_text\"\n",
        "\n",
        "https://scikit-learn.org/stable/modules/generated/sklearn.tree.export_text.html\n"
      ]
    },
    {
      "cell_type": "code",
      "execution_count": null,
      "metadata": {
        "colab": {
          "base_uri": "https://localhost:8080/"
        },
        "id": "CzC2p9uS1Fl5",
        "outputId": "4d2a9942-b6a9-4d44-c525-500dc85e4722"
      },
      "outputs": [
        {
          "output_type": "stream",
          "name": "stdout",
          "text": [
            "|--- eve_mins <= 157.55\n",
            "|   |--- intl_mins <= 7.35\n",
            "|   |   |--- intl_mins <= 6.10\n",
            "|   |   |   |--- class: False.\n",
            "|   |   |--- intl_mins >  6.10\n",
            "|   |   |   |--- class: False.\n",
            "|   |--- intl_mins >  7.35\n",
            "|   |   |--- intl_mins <= 10.25\n",
            "|   |   |   |--- eve_mins <= 151.35\n",
            "|   |   |   |   |--- class: False.\n",
            "|   |   |   |--- eve_mins >  151.35\n",
            "|   |   |   |   |--- truncated branch of depth 2\n",
            "|   |   |--- intl_mins >  10.25\n",
            "|   |   |   |--- intl_mins <= 10.65\n",
            "|   |   |   |   |--- class: False.\n",
            "|   |   |   |--- intl_mins >  10.65\n",
            "|   |   |   |   |--- truncated branch of depth 6\n",
            "|--- eve_mins >  157.55\n",
            "|   |--- intl_mins <= 13.15\n",
            "|   |   |--- eve_mins <= 159.00\n",
            "|   |   |   |--- class: False.\n",
            "|   |   |--- eve_mins >  159.00\n",
            "|   |   |   |--- intl_mins <= 9.75\n",
            "|   |   |   |   |--- truncated branch of depth 16\n",
            "|   |   |   |--- intl_mins >  9.75\n",
            "|   |   |   |   |--- truncated branch of depth 12\n",
            "|   |--- intl_mins >  13.15\n",
            "|   |   |--- intl_mins <= 14.55\n",
            "|   |   |   |--- intl_mins <= 13.25\n",
            "|   |   |   |   |--- truncated branch of depth 2\n",
            "|   |   |   |--- intl_mins >  13.25\n",
            "|   |   |   |   |--- truncated branch of depth 4\n",
            "|   |   |--- intl_mins >  14.55\n",
            "|   |   |   |--- eve_mins <= 188.05\n",
            "|   |   |   |   |--- class: False.\n",
            "|   |   |   |--- eve_mins >  188.05\n",
            "|   |   |   |   |--- truncated branch of depth 4\n",
            "\n"
          ]
        }
      ],
      "source": [
        "r = export_text(tree3, feature_names=tree3_features, max_depth=3)\n",
        "print(r)"
      ]
    },
    {
      "cell_type": "markdown",
      "metadata": {
        "id": "LomLRG231Fl5"
      },
      "source": [
        "## 4 & 5 Random Forest works by Averaging or Voting on the Predictions\n",
        "----\n",
        "\n",
        "Here we make predictions for each tree, then we use mode to vote on the winning prediction.\n"
      ]
    },
    {
      "cell_type": "code",
      "source": [],
      "metadata": {
        "id": "uQcigIQm3K77"
      },
      "execution_count": null,
      "outputs": []
    },
    {
      "cell_type": "code",
      "source": [
        "tree1.predict(tree1_sample[tree1_features])"
      ],
      "metadata": {
        "colab": {
          "base_uri": "https://localhost:8080/"
        },
        "id": "Ch6Fe11S3fY4",
        "outputId": "8a771572-ec06-4615-ffd7-f46b40e08cf8"
      },
      "execution_count": null,
      "outputs": [
        {
          "output_type": "execute_result",
          "data": {
            "text/plain": [
              "array(['True.', 'False.', 'False.', ..., 'False.', 'False.', 'False.'],\n",
              "      dtype=object)"
            ]
          },
          "metadata": {},
          "execution_count": 81
        }
      ]
    },
    {
      "cell_type": "code",
      "execution_count": null,
      "metadata": {
        "id": "rnt6fZ4m1Fl6"
      },
      "outputs": [],
      "source": [
        "X_train[\"pred_tree1\"] = tree1.predict(X_train[tree1_features])\n",
        "X_train[\"pred_tree2\"] = tree2.predict(X_train[tree2_features])\n",
        "X_train[\"pred_tree3\"] = tree3.predict(X_train[tree3_features])\n",
        "# voting\n",
        "X_train[\"pred_mode\"] = X_train[[\"pred_tree1\",\"pred_tree2\",\"pred_tree3\"]].mode(axis=1)\n",
        "\n",
        "X_test[\"pred_tree1\"] = tree1.predict(X_test[tree1_features])\n",
        "X_test[\"pred_tree2\"] = tree2.predict(X_test[tree2_features])\n",
        "X_test[\"pred_tree3\"] = tree3.predict(X_test[tree3_features])\n",
        "# vote\n",
        "X_test[\"pred_mode\"] = X_test[[\"pred_tree1\",\"pred_tree2\",\"pred_tree3\"]].mode(axis=1)\n"
      ]
    },
    {
      "cell_type": "code",
      "execution_count": null,
      "metadata": {
        "id": "Og1HnmDR1Fl6"
      },
      "outputs": [],
      "source": []
    },
    {
      "cell_type": "markdown",
      "metadata": {
        "id": "lna_aolt1Fl6"
      },
      "source": [
        "## Next we evaluate how we did"
      ]
    },
    {
      "cell_type": "code",
      "execution_count": null,
      "metadata": {
        "colab": {
          "base_uri": "https://localhost:8080/"
        },
        "id": "0eTKqhe_1Fl6",
        "outputId": "59a829d2-0274-4112-8371-4ff85267e875"
      },
      "outputs": [
        {
          "output_type": "stream",
          "name": "stdout",
          "text": [
            "Default Accuracy : 85.51%\n",
            "model: pred_tree1\n",
            "\t Train Accuracy   : 86.93%\n",
            "\t Test Accuracy    : 85.10%\n",
            "model: pred_tree2\n",
            "\t Train Accuracy   : 84.01%\n",
            "\t Test Accuracy    : 82.30%\n",
            "model: pred_tree3\n",
            "\t Train Accuracy   : 83.75%\n",
            "\t Test Accuracy    : 81.80%\n",
            "model: pred_mode\n",
            "\t Train Accuracy   : 85.86%\n",
            "\t Test Accuracy    : 85.20%\n"
          ]
        }
      ],
      "source": [
        "accuracy_default = df['churn'].value_counts(normalize='True')[0]\n",
        "print(\"Default Accuracy : {:2.2%}\".format(accuracy_default))\n",
        "for col in [\"pred_tree1\",\"pred_tree2\",\"pred_tree3\",\"pred_mode\"]:\n",
        "    accuracy_train = accuracy_score(X_train[target], X_train[col])\n",
        "    accuracy_test = accuracy_score(X_test[target], X_test[col])\n",
        "    print(\"model: {}\".format(col))\n",
        "    print(\"\\t Train Accuracy   : {:2.2%}\".format(accuracy_train))\n",
        "    print(\"\\t Test Accuracy    : {:2.2%}\".format(accuracy_test))"
      ]
    },
    {
      "cell_type": "markdown",
      "metadata": {
        "id": "D1A7PEAd1Fl6"
      },
      "source": [
        "## RANDOM FOREST\n",
        "----\n",
        "IF one tree is good, then a hundred would be better right?\n",
        "\n",
        "https://scikit-learn.org/stable/modules/generated/sklearn.ensemble.RandomForestClassifier.html\n",
        "\n"
      ]
    },
    {
      "cell_type": "code",
      "execution_count": null,
      "metadata": {
        "colab": {
          "base_uri": "https://localhost:8080/",
          "height": 74
        },
        "id": "G72VHD-K1Fl6",
        "outputId": "ba5aade1-fc8e-4f16-8be2-50a1184b8069"
      },
      "outputs": [
        {
          "output_type": "execute_result",
          "data": {
            "text/plain": [
              "RandomForestClassifier(n_estimators=50)"
            ],
            "text/html": [
              "<style>#sk-container-id-17 {color: black;background-color: white;}#sk-container-id-17 pre{padding: 0;}#sk-container-id-17 div.sk-toggleable {background-color: white;}#sk-container-id-17 label.sk-toggleable__label {cursor: pointer;display: block;width: 100%;margin-bottom: 0;padding: 0.3em;box-sizing: border-box;text-align: center;}#sk-container-id-17 label.sk-toggleable__label-arrow:before {content: \"▸\";float: left;margin-right: 0.25em;color: #696969;}#sk-container-id-17 label.sk-toggleable__label-arrow:hover:before {color: black;}#sk-container-id-17 div.sk-estimator:hover label.sk-toggleable__label-arrow:before {color: black;}#sk-container-id-17 div.sk-toggleable__content {max-height: 0;max-width: 0;overflow: hidden;text-align: left;background-color: #f0f8ff;}#sk-container-id-17 div.sk-toggleable__content pre {margin: 0.2em;color: black;border-radius: 0.25em;background-color: #f0f8ff;}#sk-container-id-17 input.sk-toggleable__control:checked~div.sk-toggleable__content {max-height: 200px;max-width: 100%;overflow: auto;}#sk-container-id-17 input.sk-toggleable__control:checked~label.sk-toggleable__label-arrow:before {content: \"▾\";}#sk-container-id-17 div.sk-estimator input.sk-toggleable__control:checked~label.sk-toggleable__label {background-color: #d4ebff;}#sk-container-id-17 div.sk-label input.sk-toggleable__control:checked~label.sk-toggleable__label {background-color: #d4ebff;}#sk-container-id-17 input.sk-hidden--visually {border: 0;clip: rect(1px 1px 1px 1px);clip: rect(1px, 1px, 1px, 1px);height: 1px;margin: -1px;overflow: hidden;padding: 0;position: absolute;width: 1px;}#sk-container-id-17 div.sk-estimator {font-family: monospace;background-color: #f0f8ff;border: 1px dotted black;border-radius: 0.25em;box-sizing: border-box;margin-bottom: 0.5em;}#sk-container-id-17 div.sk-estimator:hover {background-color: #d4ebff;}#sk-container-id-17 div.sk-parallel-item::after {content: \"\";width: 100%;border-bottom: 1px solid gray;flex-grow: 1;}#sk-container-id-17 div.sk-label:hover label.sk-toggleable__label {background-color: #d4ebff;}#sk-container-id-17 div.sk-serial::before {content: \"\";position: absolute;border-left: 1px solid gray;box-sizing: border-box;top: 0;bottom: 0;left: 50%;z-index: 0;}#sk-container-id-17 div.sk-serial {display: flex;flex-direction: column;align-items: center;background-color: white;padding-right: 0.2em;padding-left: 0.2em;position: relative;}#sk-container-id-17 div.sk-item {position: relative;z-index: 1;}#sk-container-id-17 div.sk-parallel {display: flex;align-items: stretch;justify-content: center;background-color: white;position: relative;}#sk-container-id-17 div.sk-item::before, #sk-container-id-17 div.sk-parallel-item::before {content: \"\";position: absolute;border-left: 1px solid gray;box-sizing: border-box;top: 0;bottom: 0;left: 50%;z-index: -1;}#sk-container-id-17 div.sk-parallel-item {display: flex;flex-direction: column;z-index: 1;position: relative;background-color: white;}#sk-container-id-17 div.sk-parallel-item:first-child::after {align-self: flex-end;width: 50%;}#sk-container-id-17 div.sk-parallel-item:last-child::after {align-self: flex-start;width: 50%;}#sk-container-id-17 div.sk-parallel-item:only-child::after {width: 0;}#sk-container-id-17 div.sk-dashed-wrapped {border: 1px dashed gray;margin: 0 0.4em 0.5em 0.4em;box-sizing: border-box;padding-bottom: 0.4em;background-color: white;}#sk-container-id-17 div.sk-label label {font-family: monospace;font-weight: bold;display: inline-block;line-height: 1.2em;}#sk-container-id-17 div.sk-label-container {text-align: center;}#sk-container-id-17 div.sk-container {/* jupyter's `normalize.less` sets `[hidden] { display: none; }` but bootstrap.min.css set `[hidden] { display: none !important; }` so we also need the `!important` here to be able to override the default hidden behavior on the sphinx rendered scikit-learn.org. See: https://github.com/scikit-learn/scikit-learn/issues/21755 */display: inline-block !important;position: relative;}#sk-container-id-17 div.sk-text-repr-fallback {display: none;}</style><div id=\"sk-container-id-17\" class=\"sk-top-container\"><div class=\"sk-text-repr-fallback\"><pre>RandomForestClassifier(n_estimators=50)</pre><b>In a Jupyter environment, please rerun this cell to show the HTML representation or trust the notebook. <br />On GitHub, the HTML representation is unable to render, please try loading this page with nbviewer.org.</b></div><div class=\"sk-container\" hidden><div class=\"sk-item\"><div class=\"sk-estimator sk-toggleable\"><input class=\"sk-toggleable__control sk-hidden--visually\" id=\"sk-estimator-id-17\" type=\"checkbox\" checked><label for=\"sk-estimator-id-17\" class=\"sk-toggleable__label sk-toggleable__label-arrow\">RandomForestClassifier</label><div class=\"sk-toggleable__content\"><pre>RandomForestClassifier(n_estimators=50)</pre></div></div></div></div></div>"
            ]
          },
          "metadata": {},
          "execution_count": 95
        }
      ],
      "source": [
        "rf_clf = RandomForestClassifier(n_estimators= 50)\n",
        "rf_clf.fit(X_train[feature_names], X_train[target])"
      ]
    },
    {
      "cell_type": "code",
      "execution_count": null,
      "metadata": {
        "colab": {
          "base_uri": "https://localhost:8080/"
        },
        "id": "GdHPOWUb1Fl6",
        "outputId": "06730e0d-36f8-4148-e577-0ff50d6bd5df"
      },
      "outputs": [
        {
          "output_type": "stream",
          "name": "stdout",
          "text": [
            "Default Accuracy : 85.51%\n",
            "model: forest_pred\n",
            "\t Train Accuracy   : 100.00%\n",
            "\t Test Accuracy    : 94.60%\n"
          ]
        }
      ],
      "source": [
        "X_train[\"forest_pred\"] = rf_clf.predict(X_train[feature_names])\n",
        "X_test[\"forest_pred\"] = rf_clf.predict(X_test[feature_names])\n",
        "\n",
        "print(\"Default Accuracy : {:2.2%}\".format(accuracy_default))\n",
        "for col in [\"forest_pred\"]:\n",
        "    accuracy_train = accuracy_score(X_train[target], X_train[col])\n",
        "    accuracy_test = accuracy_score(X_test[target], X_test[col])\n",
        "    print(\"model: {}\".format(col))\n",
        "    print(\"\\t Train Accuracy   : {:2.2%}\".format(accuracy_train))\n",
        "    print(\"\\t Test Accuracy    : {:2.2%}\".format(accuracy_test))"
      ]
    },
    {
      "cell_type": "markdown",
      "metadata": {
        "id": "74WDTm6J1Fl6"
      },
      "source": [
        "## Prediction Probabilities\n",
        "----\n",
        "by default we use a score threshold of 0.5, meaning if the probabliy of churn is >= to 0.5 we classifiy this as churn=True. othewise churn=False.\n",
        "\n",
        "as the predicted probably increases our precision increases but our recall decreases."
      ]
    },
    {
      "cell_type": "code",
      "execution_count": null,
      "metadata": {
        "colab": {
          "base_uri": "https://localhost:8080/",
          "height": 331
        },
        "id": "WbK6GdP61Fl6",
        "outputId": "7464f0fc-2ca5-4cae-9d31-0259a21d018d"
      },
      "outputs": [
        {
          "output_type": "display_data",
          "data": {
            "text/plain": [
              "<Figure size 2000x500 with 1 Axes>"
            ],
            "image/png": "[encoded data removed]"
          },
          "metadata": {}
        }
      ],
      "source": [
        "X_test[\"forest_churn_probability\"] = rf_clf.predict_proba(X_test[feature_names])[:,1]\n",
        "\n",
        "#- plot\n",
        "plt.figure(figsize=(20, 5))\n",
        "sns.histplot(X_test,bins=50, x=\"forest_churn_probability\",hue=\"churn\")\n",
        "plt.axvline(x=0.5, color=\"red\")\n",
        "plt.title(\"predicted probabilites of churn \")\n",
        "plt.show()"
      ]
    },
    {
      "cell_type": "code",
      "execution_count": null,
      "metadata": {
        "colab": {
          "base_uri": "https://localhost:8080/",
          "height": 74
        },
        "id": "qn0rkEr21Fl6",
        "outputId": "00e2e661-4a81-4f7e-cedb-3e4945627011"
      },
      "outputs": [
        {
          "output_type": "execute_result",
          "data": {
            "text/plain": [
              "DecisionTreeClassifier(max_features='sqrt', random_state=2006628176)"
            ],
            "text/html": [
              "<style>#sk-container-id-18 {color: black;background-color: white;}#sk-container-id-18 pre{padding: 0;}#sk-container-id-18 div.sk-toggleable {background-color: white;}#sk-container-id-18 label.sk-toggleable__label {cursor: pointer;display: block;width: 100%;margin-bottom: 0;padding: 0.3em;box-sizing: border-box;text-align: center;}#sk-container-id-18 label.sk-toggleable__label-arrow:before {content: \"▸\";float: left;margin-right: 0.25em;color: #696969;}#sk-container-id-18 label.sk-toggleable__label-arrow:hover:before {color: black;}#sk-container-id-18 div.sk-estimator:hover label.sk-toggleable__label-arrow:before {color: black;}#sk-container-id-18 div.sk-toggleable__content {max-height: 0;max-width: 0;overflow: hidden;text-align: left;background-color: #f0f8ff;}#sk-container-id-18 div.sk-toggleable__content pre {margin: 0.2em;color: black;border-radius: 0.25em;background-color: #f0f8ff;}#sk-container-id-18 input.sk-toggleable__control:checked~div.sk-toggleable__content {max-height: 200px;max-width: 100%;overflow: auto;}#sk-container-id-18 input.sk-toggleable__control:checked~label.sk-toggleable__label-arrow:before {content: \"▾\";}#sk-container-id-18 div.sk-estimator input.sk-toggleable__control:checked~label.sk-toggleable__label {background-color: #d4ebff;}#sk-container-id-18 div.sk-label input.sk-toggleable__control:checked~label.sk-toggleable__label {background-color: #d4ebff;}#sk-container-id-18 input.sk-hidden--visually {border: 0;clip: rect(1px 1px 1px 1px);clip: rect(1px, 1px, 1px, 1px);height: 1px;margin: -1px;overflow: hidden;padding: 0;position: absolute;width: 1px;}#sk-container-id-18 div.sk-estimator {font-family: monospace;background-color: #f0f8ff;border: 1px dotted black;border-radius: 0.25em;box-sizing: border-box;margin-bottom: 0.5em;}#sk-container-id-18 div.sk-estimator:hover {background-color: #d4ebff;}#sk-container-id-18 div.sk-parallel-item::after {content: \"\";width: 100%;border-bottom: 1px solid gray;flex-grow: 1;}#sk-container-id-18 div.sk-label:hover label.sk-toggleable__label {background-color: #d4ebff;}#sk-container-id-18 div.sk-serial::before {content: \"\";position: absolute;border-left: 1px solid gray;box-sizing: border-box;top: 0;bottom: 0;left: 50%;z-index: 0;}#sk-container-id-18 div.sk-serial {display: flex;flex-direction: column;align-items: center;background-color: white;padding-right: 0.2em;padding-left: 0.2em;position: relative;}#sk-container-id-18 div.sk-item {position: relative;z-index: 1;}#sk-container-id-18 div.sk-parallel {display: flex;align-items: stretch;justify-content: center;background-color: white;position: relative;}#sk-container-id-18 div.sk-item::before, #sk-container-id-18 div.sk-parallel-item::before {content: \"\";position: absolute;border-left: 1px solid gray;box-sizing: border-box;top: 0;bottom: 0;left: 50%;z-index: -1;}#sk-container-id-18 div.sk-parallel-item {display: flex;flex-direction: column;z-index: 1;position: relative;background-color: white;}#sk-container-id-18 div.sk-parallel-item:first-child::after {align-self: flex-end;width: 50%;}#sk-container-id-18 div.sk-parallel-item:last-child::after {align-self: flex-start;width: 50%;}#sk-container-id-18 div.sk-parallel-item:only-child::after {width: 0;}#sk-container-id-18 div.sk-dashed-wrapped {border: 1px dashed gray;margin: 0 0.4em 0.5em 0.4em;box-sizing: border-box;padding-bottom: 0.4em;background-color: white;}#sk-container-id-18 div.sk-label label {font-family: monospace;font-weight: bold;display: inline-block;line-height: 1.2em;}#sk-container-id-18 div.sk-label-container {text-align: center;}#sk-container-id-18 div.sk-container {/* jupyter's `normalize.less` sets `[hidden] { display: none; }` but bootstrap.min.css set `[hidden] { display: none !important; }` so we also need the `!important` here to be able to override the default hidden behavior on the sphinx rendered scikit-learn.org. See: https://github.com/scikit-learn/scikit-learn/issues/21755 */display: inline-block !important;position: relative;}#sk-container-id-18 div.sk-text-repr-fallback {display: none;}</style><div id=\"sk-container-id-18\" class=\"sk-top-container\"><div class=\"sk-text-repr-fallback\"><pre>DecisionTreeClassifier(max_features=&#x27;sqrt&#x27;, random_state=2006628176)</pre><b>In a Jupyter environment, please rerun this cell to show the HTML representation or trust the notebook. <br />On GitHub, the HTML representation is unable to render, please try loading this page with nbviewer.org.</b></div><div class=\"sk-container\" hidden><div class=\"sk-item\"><div class=\"sk-estimator sk-toggleable\"><input class=\"sk-toggleable__control sk-hidden--visually\" id=\"sk-estimator-id-18\" type=\"checkbox\" checked><label for=\"sk-estimator-id-18\" class=\"sk-toggleable__label sk-toggleable__label-arrow\">DecisionTreeClassifier</label><div class=\"sk-toggleable__content\"><pre>DecisionTreeClassifier(max_features=&#x27;sqrt&#x27;, random_state=2006628176)</pre></div></div></div></div></div>"
            ]
          },
          "metadata": {},
          "execution_count": 98
        }
      ],
      "source": [
        "estimators = rf_clf.estimators_\n",
        "estimators[0]"
      ]
    },
    {
      "cell_type": "code",
      "execution_count": null,
      "metadata": {
        "colab": {
          "base_uri": "https://localhost:8080/",
          "height": 734
        },
        "id": "CMm9Pxog1Fl6",
        "outputId": "7695b2d1-eeb3-4586-c92a-93ad547be1b8"
      },
      "outputs": [
        {
          "output_type": "execute_result",
          "data": {
            "image/svg+xml": "<?xml version=\"1.0\" encoding=\"UTF-8\" standalone=\"no\"?>\n<!DOCTYPE svg PUBLIC \"-//W3C//DTD SVG 1.1//EN\"\n \"http://www.w3.org/Graphics/SVG/1.1/DTD/svg11.dtd\">\n<!-- Generated by graphviz version 2.43.0 (0)\n -->\n<!-- Title: Tree Pages: 1 -->\n<svg width=\"946pt\" height=\"520pt\"\n viewBox=\"0.00 0.00 945.50 520.00\" xmlns=\"http://www.w3.org/2000/svg\" xmlns:xlink=\"http://www.w3.org/1999/xlink\">\n<g id=\"graph0\" class=\"graph\" transform=\"scale(1 1) rotate(0) translate(4 516)\">\n<title>Tree</title>\n<polygon fill=\"white\" stroke=\"transparent\" points=\"-4,4 -4,-516 941.5,-516 941.5,4 -4,4\"/>\n<!-- 0 -->\n<g id=\"node1\" class=\"node\">\n<title>0</title>\n<path fill=\"#ea985d\" stroke=\"black\" d=\"M619.5,-512C619.5,-512 496.5,-512 496.5,-512 490.5,-512 484.5,-506 484.5,-500 484.5,-500 484.5,-441 484.5,-441 484.5,-435 490.5,-429 496.5,-429 496.5,-429 619.5,-429 619.5,-429 625.5,-429 631.5,-435 631.5,-441 631.5,-441 631.5,-500 631.5,-500 631.5,-506 625.5,-512 619.5,-512\"/>\n<text text-anchor=\"middle\" x=\"558\" y=\"-496.8\" font-family=\"Helvetica,sans-Serif\" font-size=\"14.00\">intl_plan_yes &lt;= 0.5</text>\n<text text-anchor=\"middle\" x=\"558\" y=\"-481.8\" font-family=\"Helvetica,sans-Serif\" font-size=\"14.00\">gini = 0.258</text>\n<text text-anchor=\"middle\" x=\"558\" y=\"-466.8\" font-family=\"Helvetica,sans-Serif\" font-size=\"14.00\">samples = 100.0%</text>\n<text text-anchor=\"middle\" x=\"558\" y=\"-451.8\" font-family=\"Helvetica,sans-Serif\" font-size=\"14.00\">value = [0.848, 0.152]</text>\n<text text-anchor=\"middle\" x=\"558\" y=\"-436.8\" font-family=\"Helvetica,sans-Serif\" font-size=\"14.00\">class = False.</text>\n</g>\n<!-- 1 -->\n<g id=\"node2\" class=\"node\">\n<title>1</title>\n<path fill=\"#e89253\" stroke=\"black\" d=\"M533.5,-393C533.5,-393 410.5,-393 410.5,-393 404.5,-393 398.5,-387 398.5,-381 398.5,-381 398.5,-322 398.5,-322 398.5,-316 404.5,-310 410.5,-310 410.5,-310 533.5,-310 533.5,-310 539.5,-310 545.5,-316 545.5,-322 545.5,-322 545.5,-381 545.5,-381 545.5,-387 539.5,-393 533.5,-393\"/>\n<text text-anchor=\"middle\" x=\"472\" y=\"-377.8\" font-family=\"Helvetica,sans-Serif\" font-size=\"14.00\">state_TX &lt;= 0.5</text>\n<text text-anchor=\"middle\" x=\"472\" y=\"-362.8\" font-family=\"Helvetica,sans-Serif\" font-size=\"14.00\">gini = 0.206</text>\n<text text-anchor=\"middle\" x=\"472\" y=\"-347.8\" font-family=\"Helvetica,sans-Serif\" font-size=\"14.00\">samples = 90.4%</text>\n<text text-anchor=\"middle\" x=\"472\" y=\"-332.8\" font-family=\"Helvetica,sans-Serif\" font-size=\"14.00\">value = [0.883, 0.117]</text>\n<text text-anchor=\"middle\" x=\"472\" y=\"-317.8\" font-family=\"Helvetica,sans-Serif\" font-size=\"14.00\">class = False.</text>\n</g>\n<!-- 0&#45;&gt;1 -->\n<g id=\"edge1\" class=\"edge\">\n<title>0&#45;&gt;1</title>\n<path fill=\"none\" stroke=\"black\" d=\"M528.16,-428.91C521.63,-420.01 514.64,-410.51 507.89,-401.33\"/>\n<polygon fill=\"black\" stroke=\"black\" points=\"510.53,-399.01 501.78,-393.02 504.89,-403.15 510.53,-399.01\"/>\n<text text-anchor=\"middle\" x=\"498.01\" y=\"-414.03\" font-family=\"Helvetica,sans-Serif\" font-size=\"14.00\">True</text>\n</g>\n<!-- 346 -->\n<g id=\"node15\" class=\"node\">\n<title>346</title>\n<path fill=\"#fcf2ea\" stroke=\"black\" d=\"M765.5,-393C765.5,-393 642.5,-393 642.5,-393 636.5,-393 630.5,-387 630.5,-381 630.5,-381 630.5,-322 630.5,-322 630.5,-316 636.5,-310 642.5,-310 642.5,-310 765.5,-310 765.5,-310 771.5,-310 777.5,-316 777.5,-322 777.5,-322 777.5,-381 777.5,-381 777.5,-387 771.5,-393 765.5,-393\"/>\n<text text-anchor=\"middle\" x=\"704\" y=\"-377.8\" font-family=\"Helvetica,sans-Serif\" font-size=\"14.00\">intl_charge &lt;= 3.535</text>\n<text text-anchor=\"middle\" x=\"704\" y=\"-362.8\" font-family=\"Helvetica,sans-Serif\" font-size=\"14.00\">gini = 0.498</text>\n<text text-anchor=\"middle\" x=\"704\" y=\"-347.8\" font-family=\"Helvetica,sans-Serif\" font-size=\"14.00\">samples = 9.6%</text>\n<text text-anchor=\"middle\" x=\"704\" y=\"-332.8\" font-family=\"Helvetica,sans-Serif\" font-size=\"14.00\">value = [0.528, 0.472]</text>\n<text text-anchor=\"middle\" x=\"704\" y=\"-317.8\" font-family=\"Helvetica,sans-Serif\" font-size=\"14.00\">class = False.</text>\n</g>\n<!-- 0&#45;&gt;346 -->\n<g id=\"edge14\" class=\"edge\">\n<title>0&#45;&gt;346</title>\n<path fill=\"none\" stroke=\"black\" d=\"M608.65,-428.91C620.54,-419.38 633.31,-409.15 645.51,-399.37\"/>\n<polygon fill=\"black\" stroke=\"black\" points=\"647.82,-402.01 653.44,-393.02 643.44,-396.54 647.82,-402.01\"/>\n<text text-anchor=\"middle\" x=\"650.7\" y=\"-414.17\" font-family=\"Helvetica,sans-Serif\" font-size=\"14.00\">False</text>\n</g>\n<!-- 2 -->\n<g id=\"node3\" class=\"node\">\n<title>2</title>\n<path fill=\"#e89151\" stroke=\"black\" d=\"M308,-274C308,-274 200,-274 200,-274 194,-274 188,-268 188,-262 188,-262 188,-203 188,-203 188,-197 194,-191 200,-191 200,-191 308,-191 308,-191 314,-191 320,-197 320,-203 320,-203 320,-262 320,-262 320,-268 314,-274 308,-274\"/>\n<text text-anchor=\"middle\" x=\"254\" y=\"-258.8\" font-family=\"Helvetica,sans-Serif\" font-size=\"14.00\">state_SC &lt;= 0.5</text>\n<text text-anchor=\"middle\" x=\"254\" y=\"-243.8\" font-family=\"Helvetica,sans-Serif\" font-size=\"14.00\">gini = 0.196</text>\n<text text-anchor=\"middle\" x=\"254\" y=\"-228.8\" font-family=\"Helvetica,sans-Serif\" font-size=\"14.00\">samples = 88.1%</text>\n<text text-anchor=\"middle\" x=\"254\" y=\"-213.8\" font-family=\"Helvetica,sans-Serif\" font-size=\"14.00\">value = [0.89, 0.11]</text>\n<text text-anchor=\"middle\" x=\"254\" y=\"-198.8\" font-family=\"Helvetica,sans-Serif\" font-size=\"14.00\">class = False.</text>\n</g>\n<!-- 1&#45;&gt;2 -->\n<g id=\"edge2\" class=\"edge\">\n<title>1&#45;&gt;2</title>\n<path fill=\"none\" stroke=\"black\" d=\"M398.5,-311.05C376.13,-299.05 351.52,-285.84 329.05,-273.78\"/>\n<polygon fill=\"black\" stroke=\"black\" points=\"330.69,-270.69 320.22,-269.04 327.38,-276.85 330.69,-270.69\"/>\n</g>\n<!-- 329 -->\n<g id=\"node10\" class=\"node\">\n<title>329</title>\n<path fill=\"#f3c3a1\" stroke=\"black\" d=\"M533.5,-274C533.5,-274 410.5,-274 410.5,-274 404.5,-274 398.5,-268 398.5,-262 398.5,-262 398.5,-203 398.5,-203 398.5,-197 404.5,-191 410.5,-191 410.5,-191 533.5,-191 533.5,-191 539.5,-191 545.5,-197 545.5,-203 545.5,-203 545.5,-262 545.5,-262 545.5,-268 539.5,-274 533.5,-274\"/>\n<text text-anchor=\"middle\" x=\"472\" y=\"-258.8\" font-family=\"Helvetica,sans-Serif\" font-size=\"14.00\">vmail_plan_no &lt;= 0.5</text>\n<text text-anchor=\"middle\" x=\"472\" y=\"-243.8\" font-family=\"Helvetica,sans-Serif\" font-size=\"14.00\">gini = 0.451</text>\n<text text-anchor=\"middle\" x=\"472\" y=\"-228.8\" font-family=\"Helvetica,sans-Serif\" font-size=\"14.00\">samples = 2.3%</text>\n<text text-anchor=\"middle\" x=\"472\" y=\"-213.8\" font-family=\"Helvetica,sans-Serif\" font-size=\"14.00\">value = [0.656, 0.344]</text>\n<text text-anchor=\"middle\" x=\"472\" y=\"-198.8\" font-family=\"Helvetica,sans-Serif\" font-size=\"14.00\">class = False.</text>\n</g>\n<!-- 1&#45;&gt;329 -->\n<g id=\"edge9\" class=\"edge\">\n<title>1&#45;&gt;329</title>\n<path fill=\"none\" stroke=\"black\" d=\"M472,-309.91C472,-301.65 472,-292.86 472,-284.3\"/>\n<polygon fill=\"black\" stroke=\"black\" points=\"475.5,-284.02 472,-274.02 468.5,-284.02 475.5,-284.02\"/>\n</g>\n<!-- 3 -->\n<g id=\"node4\" class=\"node\">\n<title>3</title>\n<path fill=\"#e89050\" stroke=\"black\" d=\"M150,-155C150,-155 12,-155 12,-155 6,-155 0,-149 0,-143 0,-143 0,-84 0,-84 0,-78 6,-72 12,-72 12,-72 150,-72 150,-72 156,-72 162,-78 162,-84 162,-84 162,-143 162,-143 162,-149 156,-155 150,-155\"/>\n<text text-anchor=\"middle\" x=\"81\" y=\"-139.8\" font-family=\"Helvetica,sans-Serif\" font-size=\"14.00\">vmail_message &lt;= 18.5</text>\n<text text-anchor=\"middle\" x=\"81\" y=\"-124.8\" font-family=\"Helvetica,sans-Serif\" font-size=\"14.00\">gini = 0.189</text>\n<text text-anchor=\"middle\" x=\"81\" y=\"-109.8\" font-family=\"Helvetica,sans-Serif\" font-size=\"14.00\">samples = 86.7%</text>\n<text text-anchor=\"middle\" x=\"81\" y=\"-94.8\" font-family=\"Helvetica,sans-Serif\" font-size=\"14.00\">value = [0.894, 0.106]</text>\n<text text-anchor=\"middle\" x=\"81\" y=\"-79.8\" font-family=\"Helvetica,sans-Serif\" font-size=\"14.00\">class = False.</text>\n</g>\n<!-- 2&#45;&gt;3 -->\n<g id=\"edge3\" class=\"edge\">\n<title>2&#45;&gt;3</title>\n<path fill=\"none\" stroke=\"black\" d=\"M193.98,-190.91C179.62,-181.2 164.19,-170.76 149.48,-160.81\"/>\n<polygon fill=\"black\" stroke=\"black\" points=\"151.16,-157.72 140.92,-155.02 147.24,-163.52 151.16,-157.72\"/>\n</g>\n<!-- 320 -->\n<g id=\"node7\" class=\"node\">\n<title>320</title>\n<path fill=\"#f1bb94\" stroke=\"black\" d=\"M315.5,-155C315.5,-155 192.5,-155 192.5,-155 186.5,-155 180.5,-149 180.5,-143 180.5,-143 180.5,-84 180.5,-84 180.5,-78 186.5,-72 192.5,-72 192.5,-72 315.5,-72 315.5,-72 321.5,-72 327.5,-78 327.5,-84 327.5,-84 327.5,-143 327.5,-143 327.5,-149 321.5,-155 315.5,-155\"/>\n<text text-anchor=\"middle\" x=\"254\" y=\"-139.8\" font-family=\"Helvetica,sans-Serif\" font-size=\"14.00\">custserv_calls &lt;= 3.5</text>\n<text text-anchor=\"middle\" x=\"254\" y=\"-124.8\" font-family=\"Helvetica,sans-Serif\" font-size=\"14.00\">gini = 0.432</text>\n<text text-anchor=\"middle\" x=\"254\" y=\"-109.8\" font-family=\"Helvetica,sans-Serif\" font-size=\"14.00\">samples = 1.4%</text>\n<text text-anchor=\"middle\" x=\"254\" y=\"-94.8\" font-family=\"Helvetica,sans-Serif\" font-size=\"14.00\">value = [0.684, 0.316]</text>\n<text text-anchor=\"middle\" x=\"254\" y=\"-79.8\" font-family=\"Helvetica,sans-Serif\" font-size=\"14.00\">class = False.</text>\n</g>\n<!-- 2&#45;&gt;320 -->\n<g id=\"edge6\" class=\"edge\">\n<title>2&#45;&gt;320</title>\n<path fill=\"none\" stroke=\"black\" d=\"M254,-190.91C254,-182.65 254,-173.86 254,-165.3\"/>\n<polygon fill=\"black\" stroke=\"black\" points=\"257.5,-165.02 254,-155.02 250.5,-165.02 257.5,-165.02\"/>\n</g>\n<!-- 4 -->\n<g id=\"node5\" class=\"node\">\n<title>4</title>\n<path fill=\"#c0c0c0\" stroke=\"black\" d=\"M60,-36C60,-36 30,-36 30,-36 24,-36 18,-30 18,-24 18,-24 18,-12 18,-12 18,-6 24,0 30,0 30,0 60,0 60,0 66,0 72,-6 72,-12 72,-12 72,-24 72,-24 72,-30 66,-36 60,-36\"/>\n<text text-anchor=\"middle\" x=\"45\" y=\"-14.3\" font-family=\"Helvetica,sans-Serif\" font-size=\"14.00\">(...)</text>\n</g>\n<!-- 3&#45;&gt;4 -->\n<g id=\"edge4\" class=\"edge\">\n<title>3&#45;&gt;4</title>\n<path fill=\"none\" stroke=\"black\" d=\"M65.31,-71.76C61.96,-63.04 58.49,-54.04 55.39,-45.99\"/>\n<polygon fill=\"black\" stroke=\"black\" points=\"58.56,-44.48 51.7,-36.41 52.03,-46.99 58.56,-44.48\"/>\n</g>\n<!-- 261 -->\n<g id=\"node6\" class=\"node\">\n<title>261</title>\n<path fill=\"#c0c0c0\" stroke=\"black\" d=\"M132,-36C132,-36 102,-36 102,-36 96,-36 90,-30 90,-24 90,-24 90,-12 90,-12 90,-6 96,0 102,0 102,0 132,0 132,0 138,0 144,-6 144,-12 144,-12 144,-24 144,-24 144,-30 138,-36 132,-36\"/>\n<text text-anchor=\"middle\" x=\"117\" y=\"-14.3\" font-family=\"Helvetica,sans-Serif\" font-size=\"14.00\">(...)</text>\n</g>\n<!-- 3&#45;&gt;261 -->\n<g id=\"edge5\" class=\"edge\">\n<title>3&#45;&gt;261</title>\n<path fill=\"none\" stroke=\"black\" d=\"M96.69,-71.76C100.04,-63.04 103.51,-54.04 106.61,-45.99\"/>\n<polygon fill=\"black\" stroke=\"black\" points=\"109.97,-46.99 110.3,-36.41 103.44,-44.48 109.97,-46.99\"/>\n</g>\n<!-- 321 -->\n<g id=\"node8\" class=\"node\">\n<title>321</title>\n<path fill=\"#c0c0c0\" stroke=\"black\" d=\"M237,-36C237,-36 207,-36 207,-36 201,-36 195,-30 195,-24 195,-24 195,-12 195,-12 195,-6 201,0 207,0 207,0 237,0 237,0 243,0 249,-6 249,-12 249,-12 249,-24 249,-24 249,-30 243,-36 237,-36\"/>\n<text text-anchor=\"middle\" x=\"222\" y=\"-14.3\" font-family=\"Helvetica,sans-Serif\" font-size=\"14.00\">(...)</text>\n</g>\n<!-- 320&#45;&gt;321 -->\n<g id=\"edge7\" class=\"edge\">\n<title>320&#45;&gt;321</title>\n<path fill=\"none\" stroke=\"black\" d=\"M240.06,-71.76C237.07,-63.04 233.99,-54.04 231.24,-45.99\"/>\n<polygon fill=\"black\" stroke=\"black\" points=\"234.51,-44.73 227.96,-36.41 227.88,-47 234.51,-44.73\"/>\n</g>\n<!-- 326 -->\n<g id=\"node9\" class=\"node\">\n<title>326</title>\n<path fill=\"#c0c0c0\" stroke=\"black\" d=\"M309,-36C309,-36 279,-36 279,-36 273,-36 267,-30 267,-24 267,-24 267,-12 267,-12 267,-6 273,0 279,0 279,0 309,0 309,0 315,0 321,-6 321,-12 321,-12 321,-24 321,-24 321,-30 315,-36 309,-36\"/>\n<text text-anchor=\"middle\" x=\"294\" y=\"-14.3\" font-family=\"Helvetica,sans-Serif\" font-size=\"14.00\">(...)</text>\n</g>\n<!-- 320&#45;&gt;326 -->\n<g id=\"edge8\" class=\"edge\">\n<title>320&#45;&gt;326</title>\n<path fill=\"none\" stroke=\"black\" d=\"M271.43,-71.76C275.2,-62.94 279.1,-53.84 282.57,-45.72\"/>\n<polygon fill=\"black\" stroke=\"black\" points=\"285.84,-46.98 286.55,-36.41 279.4,-44.22 285.84,-46.98\"/>\n</g>\n<!-- 330 -->\n<g id=\"node11\" class=\"node\">\n<title>330</title>\n<path fill=\"#e58139\" stroke=\"black\" d=\"M450.5,-147.5C450.5,-147.5 357.5,-147.5 357.5,-147.5 351.5,-147.5 345.5,-141.5 345.5,-135.5 345.5,-135.5 345.5,-91.5 345.5,-91.5 345.5,-85.5 351.5,-79.5 357.5,-79.5 357.5,-79.5 450.5,-79.5 450.5,-79.5 456.5,-79.5 462.5,-85.5 462.5,-91.5 462.5,-91.5 462.5,-135.5 462.5,-135.5 462.5,-141.5 456.5,-147.5 450.5,-147.5\"/>\n<text text-anchor=\"middle\" x=\"404\" y=\"-132.3\" font-family=\"Helvetica,sans-Serif\" font-size=\"14.00\">gini = 0.0</text>\n<text text-anchor=\"middle\" x=\"404\" y=\"-117.3\" font-family=\"Helvetica,sans-Serif\" font-size=\"14.00\">samples = 0.5%</text>\n<text text-anchor=\"middle\" x=\"404\" y=\"-102.3\" font-family=\"Helvetica,sans-Serif\" font-size=\"14.00\">value = [1.0, 0.0]</text>\n<text text-anchor=\"middle\" x=\"404\" y=\"-87.3\" font-family=\"Helvetica,sans-Serif\" font-size=\"14.00\">class = False.</text>\n</g>\n<!-- 329&#45;&gt;330 -->\n<g id=\"edge10\" class=\"edge\">\n<title>329&#45;&gt;330</title>\n<path fill=\"none\" stroke=\"black\" d=\"M448.41,-190.91C441.93,-179.76 434.9,-167.66 428.37,-156.44\"/>\n<polygon fill=\"black\" stroke=\"black\" points=\"431.33,-154.55 423.28,-147.67 425.28,-158.07 431.33,-154.55\"/>\n</g>\n<!-- 331 -->\n<g id=\"node12\" class=\"node\">\n<title>331</title>\n<path fill=\"#f8dcc8\" stroke=\"black\" d=\"M605.5,-155C605.5,-155 492.5,-155 492.5,-155 486.5,-155 480.5,-149 480.5,-143 480.5,-143 480.5,-84 480.5,-84 480.5,-78 486.5,-72 492.5,-72 492.5,-72 605.5,-72 605.5,-72 611.5,-72 617.5,-78 617.5,-84 617.5,-84 617.5,-143 617.5,-143 617.5,-149 611.5,-155 605.5,-155\"/>\n<text text-anchor=\"middle\" x=\"549\" y=\"-139.8\" font-family=\"Helvetica,sans-Serif\" font-size=\"14.00\">night_charge &lt;= 9.5</text>\n<text text-anchor=\"middle\" x=\"549\" y=\"-124.8\" font-family=\"Helvetica,sans-Serif\" font-size=\"14.00\">gini = 0.487</text>\n<text text-anchor=\"middle\" x=\"549\" y=\"-109.8\" font-family=\"Helvetica,sans-Serif\" font-size=\"14.00\">samples = 1.8%</text>\n<text text-anchor=\"middle\" x=\"549\" y=\"-94.8\" font-family=\"Helvetica,sans-Serif\" font-size=\"14.00\">value = [0.58, 0.42]</text>\n<text text-anchor=\"middle\" x=\"549\" y=\"-79.8\" font-family=\"Helvetica,sans-Serif\" font-size=\"14.00\">class = False.</text>\n</g>\n<!-- 329&#45;&gt;331 -->\n<g id=\"edge11\" class=\"edge\">\n<title>329&#45;&gt;331</title>\n<path fill=\"none\" stroke=\"black\" d=\"M498.71,-190.91C504.51,-182.1 510.7,-172.7 516.68,-163.61\"/>\n<polygon fill=\"black\" stroke=\"black\" points=\"519.76,-165.3 522.33,-155.02 513.91,-161.45 519.76,-165.3\"/>\n</g>\n<!-- 332 -->\n<g id=\"node13\" class=\"node\">\n<title>332</title>\n<path fill=\"#c0c0c0\" stroke=\"black\" d=\"M497,-36C497,-36 467,-36 467,-36 461,-36 455,-30 455,-24 455,-24 455,-12 455,-12 455,-6 461,0 467,0 467,0 497,0 497,0 503,0 509,-6 509,-12 509,-12 509,-24 509,-24 509,-30 503,-36 497,-36\"/>\n<text text-anchor=\"middle\" x=\"482\" y=\"-14.3\" font-family=\"Helvetica,sans-Serif\" font-size=\"14.00\">(...)</text>\n</g>\n<!-- 331&#45;&gt;332 -->\n<g id=\"edge12\" class=\"edge\">\n<title>331&#45;&gt;332</title>\n<path fill=\"none\" stroke=\"black\" d=\"M519.81,-71.76C513.21,-62.56 506.39,-53.04 500.39,-44.66\"/>\n<polygon fill=\"black\" stroke=\"black\" points=\"503.14,-42.49 494.47,-36.41 497.45,-46.57 503.14,-42.49\"/>\n</g>\n<!-- 341 -->\n<g id=\"node14\" class=\"node\">\n<title>341</title>\n<path fill=\"#c0c0c0\" stroke=\"black\" d=\"M569,-36C569,-36 539,-36 539,-36 533,-36 527,-30 527,-24 527,-24 527,-12 527,-12 527,-6 533,0 539,0 539,0 569,0 569,0 575,0 581,-6 581,-12 581,-12 581,-24 581,-24 581,-30 575,-36 569,-36\"/>\n<text text-anchor=\"middle\" x=\"554\" y=\"-14.3\" font-family=\"Helvetica,sans-Serif\" font-size=\"14.00\">(...)</text>\n</g>\n<!-- 331&#45;&gt;341 -->\n<g id=\"edge13\" class=\"edge\">\n<title>331&#45;&gt;341</title>\n<path fill=\"none\" stroke=\"black\" d=\"M551.18,-71.76C551.63,-63.24 552.1,-54.44 552.53,-46.53\"/>\n<polygon fill=\"black\" stroke=\"black\" points=\"556.03,-46.58 553.07,-36.41 549.04,-46.2 556.03,-46.58\"/>\n</g>\n<!-- 347 -->\n<g id=\"node16\" class=\"node\">\n<title>347</title>\n<path fill=\"#f4caab\" stroke=\"black\" d=\"M773,-274C773,-274 635,-274 635,-274 629,-274 623,-268 623,-262 623,-262 623,-203 623,-203 623,-197 629,-191 635,-191 635,-191 773,-191 773,-191 779,-191 785,-197 785,-203 785,-203 785,-262 785,-262 785,-268 779,-274 773,-274\"/>\n<text text-anchor=\"middle\" x=\"704\" y=\"-258.8\" font-family=\"Helvetica,sans-Serif\" font-size=\"14.00\">vmail_message &lt;= 16.5</text>\n<text text-anchor=\"middle\" x=\"704\" y=\"-243.8\" font-family=\"Helvetica,sans-Serif\" font-size=\"14.00\">gini = 0.464</text>\n<text text-anchor=\"middle\" x=\"704\" y=\"-228.8\" font-family=\"Helvetica,sans-Serif\" font-size=\"14.00\">samples = 7.8%</text>\n<text text-anchor=\"middle\" x=\"704\" y=\"-213.8\" font-family=\"Helvetica,sans-Serif\" font-size=\"14.00\">value = [0.634, 0.366]</text>\n<text text-anchor=\"middle\" x=\"704\" y=\"-198.8\" font-family=\"Helvetica,sans-Serif\" font-size=\"14.00\">class = False.</text>\n</g>\n<!-- 346&#45;&gt;347 -->\n<g id=\"edge15\" class=\"edge\">\n<title>346&#45;&gt;347</title>\n<path fill=\"none\" stroke=\"black\" d=\"M704,-309.91C704,-301.65 704,-292.86 704,-284.3\"/>\n<polygon fill=\"black\" stroke=\"black\" points=\"707.5,-284.02 704,-274.02 700.5,-284.02 707.5,-284.02\"/>\n</g>\n<!-- 378 -->\n<g id=\"node23\" class=\"node\">\n<title>378</title>\n<path fill=\"#399de5\" stroke=\"black\" d=\"M908.5,-266.5C908.5,-266.5 815.5,-266.5 815.5,-266.5 809.5,-266.5 803.5,-260.5 803.5,-254.5 803.5,-254.5 803.5,-210.5 803.5,-210.5 803.5,-204.5 809.5,-198.5 815.5,-198.5 815.5,-198.5 908.5,-198.5 908.5,-198.5 914.5,-198.5 920.5,-204.5 920.5,-210.5 920.5,-210.5 920.5,-254.5 920.5,-254.5 920.5,-260.5 914.5,-266.5 908.5,-266.5\"/>\n<text text-anchor=\"middle\" x=\"862\" y=\"-251.3\" font-family=\"Helvetica,sans-Serif\" font-size=\"14.00\">gini = 0.0</text>\n<text text-anchor=\"middle\" x=\"862\" y=\"-236.3\" font-family=\"Helvetica,sans-Serif\" font-size=\"14.00\">samples = 1.8%</text>\n<text text-anchor=\"middle\" x=\"862\" y=\"-221.3\" font-family=\"Helvetica,sans-Serif\" font-size=\"14.00\">value = [0.0, 1.0]</text>\n<text text-anchor=\"middle\" x=\"862\" y=\"-206.3\" font-family=\"Helvetica,sans-Serif\" font-size=\"14.00\">class = True.</text>\n</g>\n<!-- 346&#45;&gt;378 -->\n<g id=\"edge22\" class=\"edge\">\n<title>346&#45;&gt;378</title>\n<path fill=\"none\" stroke=\"black\" d=\"M758.82,-309.91C775.06,-297.88 792.81,-284.73 808.94,-272.79\"/>\n<polygon fill=\"black\" stroke=\"black\" points=\"811.26,-275.43 817.21,-266.67 807.09,-269.81 811.26,-275.43\"/>\n</g>\n<!-- 348 -->\n<g id=\"node17\" class=\"node\">\n<title>348</title>\n<path fill=\"#f9e0ce\" stroke=\"black\" d=\"M760.5,-155C760.5,-155 647.5,-155 647.5,-155 641.5,-155 635.5,-149 635.5,-143 635.5,-143 635.5,-84 635.5,-84 635.5,-78 641.5,-72 647.5,-72 647.5,-72 760.5,-72 760.5,-72 766.5,-72 772.5,-78 772.5,-84 772.5,-84 772.5,-143 772.5,-143 772.5,-149 766.5,-155 760.5,-155\"/>\n<text text-anchor=\"middle\" x=\"704\" y=\"-139.8\" font-family=\"Helvetica,sans-Serif\" font-size=\"14.00\">eve_charge &lt;= 21.4</text>\n<text text-anchor=\"middle\" x=\"704\" y=\"-124.8\" font-family=\"Helvetica,sans-Serif\" font-size=\"14.00\">gini = 0.49</text>\n<text text-anchor=\"middle\" x=\"704\" y=\"-109.8\" font-family=\"Helvetica,sans-Serif\" font-size=\"14.00\">samples = 5.6%</text>\n<text text-anchor=\"middle\" x=\"704\" y=\"-94.8\" font-family=\"Helvetica,sans-Serif\" font-size=\"14.00\">value = [0.57, 0.43]</text>\n<text text-anchor=\"middle\" x=\"704\" y=\"-79.8\" font-family=\"Helvetica,sans-Serif\" font-size=\"14.00\">class = False.</text>\n</g>\n<!-- 347&#45;&gt;348 -->\n<g id=\"edge16\" class=\"edge\">\n<title>347&#45;&gt;348</title>\n<path fill=\"none\" stroke=\"black\" d=\"M704,-190.91C704,-182.65 704,-173.86 704,-165.3\"/>\n<polygon fill=\"black\" stroke=\"black\" points=\"707.5,-165.02 704,-155.02 700.5,-165.02 707.5,-165.02\"/>\n</g>\n<!-- 375 -->\n<g id=\"node20\" class=\"node\">\n<title>375</title>\n<path fill=\"#eb9f68\" stroke=\"black\" d=\"M925.5,-155C925.5,-155 802.5,-155 802.5,-155 796.5,-155 790.5,-149 790.5,-143 790.5,-143 790.5,-84 790.5,-84 790.5,-78 796.5,-72 802.5,-72 802.5,-72 925.5,-72 925.5,-72 931.5,-72 937.5,-78 937.5,-84 937.5,-84 937.5,-143 937.5,-143 937.5,-149 931.5,-155 925.5,-155\"/>\n<text text-anchor=\"middle\" x=\"864\" y=\"-139.8\" font-family=\"Helvetica,sans-Serif\" font-size=\"14.00\">intl_calls &lt;= 2.5</text>\n<text text-anchor=\"middle\" x=\"864\" y=\"-124.8\" font-family=\"Helvetica,sans-Serif\" font-size=\"14.00\">gini = 0.311</text>\n<text text-anchor=\"middle\" x=\"864\" y=\"-109.8\" font-family=\"Helvetica,sans-Serif\" font-size=\"14.00\">samples = 2.2%</text>\n<text text-anchor=\"middle\" x=\"864\" y=\"-94.8\" font-family=\"Helvetica,sans-Serif\" font-size=\"14.00\">value = [0.808, 0.192]</text>\n<text text-anchor=\"middle\" x=\"864\" y=\"-79.8\" font-family=\"Helvetica,sans-Serif\" font-size=\"14.00\">class = False.</text>\n</g>\n<!-- 347&#45;&gt;375 -->\n<g id=\"edge19\" class=\"edge\">\n<title>347&#45;&gt;375</title>\n<path fill=\"none\" stroke=\"black\" d=\"M759.51,-190.91C772.67,-181.29 786.8,-170.95 800.29,-161.09\"/>\n<polygon fill=\"black\" stroke=\"black\" points=\"802.58,-163.75 808.59,-155.02 798.45,-158.1 802.58,-163.75\"/>\n</g>\n<!-- 349 -->\n<g id=\"node18\" class=\"node\">\n<title>349</title>\n<path fill=\"#c0c0c0\" stroke=\"black\" d=\"M673,-36C673,-36 643,-36 643,-36 637,-36 631,-30 631,-24 631,-24 631,-12 631,-12 631,-6 637,0 643,0 643,0 673,0 673,0 679,0 685,-6 685,-12 685,-12 685,-24 685,-24 685,-30 679,-36 673,-36\"/>\n<text text-anchor=\"middle\" x=\"658\" y=\"-14.3\" font-family=\"Helvetica,sans-Serif\" font-size=\"14.00\">(...)</text>\n</g>\n<!-- 348&#45;&gt;349 -->\n<g id=\"edge17\" class=\"edge\">\n<title>348&#45;&gt;349</title>\n<path fill=\"none\" stroke=\"black\" d=\"M683.96,-71.76C679.57,-62.85 675.04,-53.64 671.02,-45.46\"/>\n<polygon fill=\"black\" stroke=\"black\" points=\"674.12,-43.83 666.56,-36.41 667.84,-46.92 674.12,-43.83\"/>\n</g>\n<!-- 362 -->\n<g id=\"node19\" class=\"node\">\n<title>362</title>\n<path fill=\"#c0c0c0\" stroke=\"black\" d=\"M745,-36C745,-36 715,-36 715,-36 709,-36 703,-30 703,-24 703,-24 703,-12 703,-12 703,-6 709,0 715,0 715,0 745,0 745,0 751,0 757,-6 757,-12 757,-12 757,-24 757,-24 757,-30 751,-36 745,-36\"/>\n<text text-anchor=\"middle\" x=\"730\" y=\"-14.3\" font-family=\"Helvetica,sans-Serif\" font-size=\"14.00\">(...)</text>\n</g>\n<!-- 348&#45;&gt;362 -->\n<g id=\"edge18\" class=\"edge\">\n<title>348&#45;&gt;362</title>\n<path fill=\"none\" stroke=\"black\" d=\"M715.33,-71.76C717.73,-63.14 720.2,-54.24 722.42,-46.26\"/>\n<polygon fill=\"black\" stroke=\"black\" points=\"725.85,-46.98 725.16,-36.41 719.11,-45.1 725.85,-46.98\"/>\n</g>\n<!-- 376 -->\n<g id=\"node21\" class=\"node\">\n<title>376</title>\n<path fill=\"#c0c0c0\" stroke=\"black\" d=\"M843,-36C843,-36 813,-36 813,-36 807,-36 801,-30 801,-24 801,-24 801,-12 801,-12 801,-6 807,0 813,0 813,0 843,0 843,0 849,0 855,-6 855,-12 855,-12 855,-24 855,-24 855,-30 849,-36 843,-36\"/>\n<text text-anchor=\"middle\" x=\"828\" y=\"-14.3\" font-family=\"Helvetica,sans-Serif\" font-size=\"14.00\">(...)</text>\n</g>\n<!-- 375&#45;&gt;376 -->\n<g id=\"edge20\" class=\"edge\">\n<title>375&#45;&gt;376</title>\n<path fill=\"none\" stroke=\"black\" d=\"M848.31,-71.76C844.96,-63.04 841.49,-54.04 838.39,-45.99\"/>\n<polygon fill=\"black\" stroke=\"black\" points=\"841.56,-44.48 834.7,-36.41 835.03,-46.99 841.56,-44.48\"/>\n</g>\n<!-- 377 -->\n<g id=\"node22\" class=\"node\">\n<title>377</title>\n<path fill=\"#c0c0c0\" stroke=\"black\" d=\"M915,-36C915,-36 885,-36 885,-36 879,-36 873,-30 873,-24 873,-24 873,-12 873,-12 873,-6 879,0 885,0 885,0 915,0 915,0 921,0 927,-6 927,-12 927,-12 927,-24 927,-24 927,-30 921,-36 915,-36\"/>\n<text text-anchor=\"middle\" x=\"900\" y=\"-14.3\" font-family=\"Helvetica,sans-Serif\" font-size=\"14.00\">(...)</text>\n</g>\n<!-- 375&#45;&gt;377 -->\n<g id=\"edge21\" class=\"edge\">\n<title>375&#45;&gt;377</title>\n<path fill=\"none\" stroke=\"black\" d=\"M879.69,-71.76C883.04,-63.04 886.51,-54.04 889.61,-45.99\"/>\n<polygon fill=\"black\" stroke=\"black\" points=\"892.97,-46.99 893.3,-36.41 886.44,-44.48 892.97,-46.99\"/>\n</g>\n</g>\n</svg>\n",
            "text/plain": [
              "<graphviz.sources.Source at 0x7b2bfbbea650>"
            ]
          },
          "metadata": {},
          "execution_count": 99
        }
      ],
      "source": [
        "# Extract the trees in the forest\n",
        "estimators = rf_clf.estimators_\n",
        "\n",
        "dot_data = tree.export_graphviz(estimators[10],\n",
        "                                out_file=None,\n",
        "                                feature_names=feature_names,\n",
        "                                class_names = [\"False.\", \"True.\"],\n",
        "                                filled=True,\n",
        "                                max_depth=3,\n",
        "                                impurity=True,\n",
        "                                proportion=True,\n",
        "                                rounded=True,\n",
        "                                  special_characters=False)\n",
        "graph = graphviz.Source(dot_data)\n",
        "graph\n",
        "\n"
      ]
    },
    {
      "cell_type": "code",
      "execution_count": null,
      "metadata": {
        "colab": {
          "base_uri": "https://localhost:8080/",
          "height": 734
        },
        "id": "j83lEBWr1Fl6",
        "outputId": "ce400179-e0a5-466d-c1d7-e840ebcf47c9"
      },
      "outputs": [
        {
          "output_type": "execute_result",
          "data": {
            "image/svg+xml": "<?xml version=\"1.0\" encoding=\"UTF-8\" standalone=\"no\"?>\n<!DOCTYPE svg PUBLIC \"-//W3C//DTD SVG 1.1//EN\"\n \"http://www.w3.org/Graphics/SVG/1.1/DTD/svg11.dtd\">\n<!-- Generated by graphviz version 2.43.0 (0)\n -->\n<!-- Title: Tree Pages: 1 -->\n<svg width=\"1184pt\" height=\"520pt\"\n viewBox=\"0.00 0.00 1184.00 520.00\" xmlns=\"http://www.w3.org/2000/svg\" xmlns:xlink=\"http://www.w3.org/1999/xlink\">\n<g id=\"graph0\" class=\"graph\" transform=\"scale(1 1) rotate(0) translate(4 516)\">\n<title>Tree</title>\n<polygon fill=\"white\" stroke=\"transparent\" points=\"-4,4 -4,-516 1180,-516 1180,4 -4,4\"/>\n<!-- 0 -->\n<g id=\"node1\" class=\"node\">\n<title>0</title>\n<path fill=\"#e9965b\" stroke=\"black\" d=\"M674,-512C674,-512 551,-512 551,-512 545,-512 539,-506 539,-500 539,-500 539,-441 539,-441 539,-435 545,-429 551,-429 551,-429 674,-429 674,-429 680,-429 686,-435 686,-441 686,-441 686,-500 686,-500 686,-506 680,-512 674,-512\"/>\n<text text-anchor=\"middle\" x=\"612.5\" y=\"-496.8\" font-family=\"Helvetica,sans-Serif\" font-size=\"14.00\">intl_plan_yes &lt;= 0.5</text>\n<text text-anchor=\"middle\" x=\"612.5\" y=\"-481.8\" font-family=\"Helvetica,sans-Serif\" font-size=\"14.00\">gini = 0.248</text>\n<text text-anchor=\"middle\" x=\"612.5\" y=\"-466.8\" font-family=\"Helvetica,sans-Serif\" font-size=\"14.00\">samples = 100.0%</text>\n<text text-anchor=\"middle\" x=\"612.5\" y=\"-451.8\" font-family=\"Helvetica,sans-Serif\" font-size=\"14.00\">value = [0.855, 0.145]</text>\n<text text-anchor=\"middle\" x=\"612.5\" y=\"-436.8\" font-family=\"Helvetica,sans-Serif\" font-size=\"14.00\">class = False.</text>\n</g>\n<!-- 1 -->\n<g id=\"node2\" class=\"node\">\n<title>1</title>\n<path fill=\"#e89253\" stroke=\"black\" d=\"M524,-393C524,-393 393,-393 393,-393 387,-393 381,-387 381,-381 381,-381 381,-322 381,-322 381,-316 387,-310 393,-310 393,-310 524,-310 524,-310 530,-310 536,-316 536,-322 536,-322 536,-381 536,-381 536,-387 530,-393 524,-393\"/>\n<text text-anchor=\"middle\" x=\"458.5\" y=\"-377.8\" font-family=\"Helvetica,sans-Serif\" font-size=\"14.00\">vmail_message &lt;= 2.0</text>\n<text text-anchor=\"middle\" x=\"458.5\" y=\"-362.8\" font-family=\"Helvetica,sans-Serif\" font-size=\"14.00\">gini = 0.207</text>\n<text text-anchor=\"middle\" x=\"458.5\" y=\"-347.8\" font-family=\"Helvetica,sans-Serif\" font-size=\"14.00\">samples = 91.8%</text>\n<text text-anchor=\"middle\" x=\"458.5\" y=\"-332.8\" font-family=\"Helvetica,sans-Serif\" font-size=\"14.00\">value = [0.883, 0.117]</text>\n<text text-anchor=\"middle\" x=\"458.5\" y=\"-317.8\" font-family=\"Helvetica,sans-Serif\" font-size=\"14.00\">class = False.</text>\n</g>\n<!-- 0&#45;&gt;1 -->\n<g id=\"edge1\" class=\"edge\">\n<title>0&#45;&gt;1</title>\n<path fill=\"none\" stroke=\"black\" d=\"M559.07,-428.91C546.41,-419.29 532.81,-408.95 519.82,-399.09\"/>\n<polygon fill=\"black\" stroke=\"black\" points=\"521.92,-396.28 511.84,-393.02 517.68,-401.86 521.92,-396.28\"/>\n<text text-anchor=\"middle\" x=\"515.22\" y=\"-414.09\" font-family=\"Helvetica,sans-Serif\" font-size=\"14.00\">True</text>\n</g>\n<!-- 314 -->\n<g id=\"node15\" class=\"node\">\n<title>314</title>\n<path fill=\"#f9e1cf\" stroke=\"black\" d=\"M819,-393C819,-393 696,-393 696,-393 690,-393 684,-387 684,-381 684,-381 684,-322 684,-322 684,-316 690,-310 696,-310 696,-310 819,-310 819,-310 825,-310 831,-316 831,-322 831,-322 831,-381 831,-381 831,-387 825,-393 819,-393\"/>\n<text text-anchor=\"middle\" x=\"757.5\" y=\"-377.8\" font-family=\"Helvetica,sans-Serif\" font-size=\"14.00\">intl_mins &lt;= 12.85</text>\n<text text-anchor=\"middle\" x=\"757.5\" y=\"-362.8\" font-family=\"Helvetica,sans-Serif\" font-size=\"14.00\">gini = 0.491</text>\n<text text-anchor=\"middle\" x=\"757.5\" y=\"-347.8\" font-family=\"Helvetica,sans-Serif\" font-size=\"14.00\">samples = 8.2%</text>\n<text text-anchor=\"middle\" x=\"757.5\" y=\"-332.8\" font-family=\"Helvetica,sans-Serif\" font-size=\"14.00\">value = [0.569, 0.431]</text>\n<text text-anchor=\"middle\" x=\"757.5\" y=\"-317.8\" font-family=\"Helvetica,sans-Serif\" font-size=\"14.00\">class = False.</text>\n</g>\n<!-- 0&#45;&gt;314 -->\n<g id=\"edge14\" class=\"edge\">\n<title>0&#45;&gt;314</title>\n<path fill=\"none\" stroke=\"black\" d=\"M662.81,-428.91C674.62,-419.38 687.29,-409.15 699.41,-399.37\"/>\n<polygon fill=\"black\" stroke=\"black\" points=\"701.7,-402.02 707.28,-393.02 697.3,-396.58 701.7,-402.02\"/>\n<text text-anchor=\"middle\" x=\"704.63\" y=\"-414.18\" font-family=\"Helvetica,sans-Serif\" font-size=\"14.00\">False</text>\n</g>\n<!-- 2 -->\n<g id=\"node3\" class=\"node\">\n<title>2</title>\n<path fill=\"#e99559\" stroke=\"black\" d=\"M285,-274C285,-274 162,-274 162,-274 156,-274 150,-268 150,-262 150,-262 150,-203 150,-203 150,-197 156,-191 162,-191 162,-191 285,-191 285,-191 291,-191 297,-197 297,-203 297,-203 297,-262 297,-262 297,-268 291,-274 285,-274\"/>\n<text text-anchor=\"middle\" x=\"223.5\" y=\"-258.8\" font-family=\"Helvetica,sans-Serif\" font-size=\"14.00\">eve_calls &lt;= 162.0</text>\n<text text-anchor=\"middle\" x=\"223.5\" y=\"-243.8\" font-family=\"Helvetica,sans-Serif\" font-size=\"14.00\">gini = 0.239</text>\n<text text-anchor=\"middle\" x=\"223.5\" y=\"-228.8\" font-family=\"Helvetica,sans-Serif\" font-size=\"14.00\">samples = 66.4%</text>\n<text text-anchor=\"middle\" x=\"223.5\" y=\"-213.8\" font-family=\"Helvetica,sans-Serif\" font-size=\"14.00\">value = [0.861, 0.139]</text>\n<text text-anchor=\"middle\" x=\"223.5\" y=\"-198.8\" font-family=\"Helvetica,sans-Serif\" font-size=\"14.00\">class = False.</text>\n</g>\n<!-- 1&#45;&gt;2 -->\n<g id=\"edge2\" class=\"edge\">\n<title>1&#45;&gt;2</title>\n<path fill=\"none\" stroke=\"black\" d=\"M380.9,-311.87C356.95,-299.94 330.5,-286.77 306.22,-274.68\"/>\n<polygon fill=\"black\" stroke=\"black\" points=\"307.54,-271.43 297.03,-270.11 304.42,-277.7 307.54,-271.43\"/>\n</g>\n<!-- 239 -->\n<g id=\"node8\" class=\"node\">\n<title>239</title>\n<path fill=\"#e78946\" stroke=\"black\" d=\"M520,-274C520,-274 397,-274 397,-274 391,-274 385,-268 385,-262 385,-262 385,-203 385,-203 385,-197 391,-191 397,-191 397,-191 520,-191 520,-191 526,-191 532,-197 532,-203 532,-203 532,-262 532,-262 532,-268 526,-274 520,-274\"/>\n<text text-anchor=\"middle\" x=\"458.5\" y=\"-258.8\" font-family=\"Helvetica,sans-Serif\" font-size=\"14.00\">state_LA &lt;= 0.5</text>\n<text text-anchor=\"middle\" x=\"458.5\" y=\"-243.8\" font-family=\"Helvetica,sans-Serif\" font-size=\"14.00\">gini = 0.115</text>\n<text text-anchor=\"middle\" x=\"458.5\" y=\"-228.8\" font-family=\"Helvetica,sans-Serif\" font-size=\"14.00\">samples = 25.3%</text>\n<text text-anchor=\"middle\" x=\"458.5\" y=\"-213.8\" font-family=\"Helvetica,sans-Serif\" font-size=\"14.00\">value = [0.939, 0.061]</text>\n<text text-anchor=\"middle\" x=\"458.5\" y=\"-198.8\" font-family=\"Helvetica,sans-Serif\" font-size=\"14.00\">class = False.</text>\n</g>\n<!-- 1&#45;&gt;239 -->\n<g id=\"edge7\" class=\"edge\">\n<title>1&#45;&gt;239</title>\n<path fill=\"none\" stroke=\"black\" d=\"M458.5,-309.91C458.5,-301.65 458.5,-292.86 458.5,-284.3\"/>\n<polygon fill=\"black\" stroke=\"black\" points=\"462,-284.02 458.5,-274.02 455,-284.02 462,-284.02\"/>\n</g>\n<!-- 3 -->\n<g id=\"node4\" class=\"node\">\n<title>3</title>\n<path fill=\"#e99559\" stroke=\"black\" d=\"M135,-155C135,-155 12,-155 12,-155 6,-155 0,-149 0,-143 0,-143 0,-84 0,-84 0,-78 6,-72 12,-72 12,-72 135,-72 135,-72 141,-72 147,-78 147,-84 147,-84 147,-143 147,-143 147,-149 141,-155 135,-155\"/>\n<text text-anchor=\"middle\" x=\"73.5\" y=\"-139.8\" font-family=\"Helvetica,sans-Serif\" font-size=\"14.00\">state_SC &lt;= 0.5</text>\n<text text-anchor=\"middle\" x=\"73.5\" y=\"-124.8\" font-family=\"Helvetica,sans-Serif\" font-size=\"14.00\">gini = 0.238</text>\n<text text-anchor=\"middle\" x=\"73.5\" y=\"-109.8\" font-family=\"Helvetica,sans-Serif\" font-size=\"14.00\">samples = 66.3%</text>\n<text text-anchor=\"middle\" x=\"73.5\" y=\"-94.8\" font-family=\"Helvetica,sans-Serif\" font-size=\"14.00\">value = [0.862, 0.138]</text>\n<text text-anchor=\"middle\" x=\"73.5\" y=\"-79.8\" font-family=\"Helvetica,sans-Serif\" font-size=\"14.00\">class = False.</text>\n</g>\n<!-- 2&#45;&gt;3 -->\n<g id=\"edge3\" class=\"edge\">\n<title>2&#45;&gt;3</title>\n<path fill=\"none\" stroke=\"black\" d=\"M171.46,-190.91C159.24,-181.38 146.13,-171.15 133.59,-161.37\"/>\n<polygon fill=\"black\" stroke=\"black\" points=\"135.49,-158.41 125.45,-155.02 131.18,-163.93 135.49,-158.41\"/>\n</g>\n<!-- 238 -->\n<g id=\"node7\" class=\"node\">\n<title>238</title>\n<path fill=\"#399de5\" stroke=\"black\" d=\"M270,-147.5C270,-147.5 177,-147.5 177,-147.5 171,-147.5 165,-141.5 165,-135.5 165,-135.5 165,-91.5 165,-91.5 165,-85.5 171,-79.5 177,-79.5 177,-79.5 270,-79.5 270,-79.5 276,-79.5 282,-85.5 282,-91.5 282,-91.5 282,-135.5 282,-135.5 282,-141.5 276,-147.5 270,-147.5\"/>\n<text text-anchor=\"middle\" x=\"223.5\" y=\"-132.3\" font-family=\"Helvetica,sans-Serif\" font-size=\"14.00\">gini = 0.0</text>\n<text text-anchor=\"middle\" x=\"223.5\" y=\"-117.3\" font-family=\"Helvetica,sans-Serif\" font-size=\"14.00\">samples = 0.1%</text>\n<text text-anchor=\"middle\" x=\"223.5\" y=\"-102.3\" font-family=\"Helvetica,sans-Serif\" font-size=\"14.00\">value = [0.0, 1.0]</text>\n<text text-anchor=\"middle\" x=\"223.5\" y=\"-87.3\" font-family=\"Helvetica,sans-Serif\" font-size=\"14.00\">class = True.</text>\n</g>\n<!-- 2&#45;&gt;238 -->\n<g id=\"edge6\" class=\"edge\">\n<title>2&#45;&gt;238</title>\n<path fill=\"none\" stroke=\"black\" d=\"M223.5,-190.91C223.5,-180.2 223.5,-168.62 223.5,-157.78\"/>\n<polygon fill=\"black\" stroke=\"black\" points=\"227,-157.67 223.5,-147.67 220,-157.67 227,-157.67\"/>\n</g>\n<!-- 4 -->\n<g id=\"node5\" class=\"node\">\n<title>4</title>\n<path fill=\"#c0c0c0\" stroke=\"black\" d=\"M52.5,-36C52.5,-36 22.5,-36 22.5,-36 16.5,-36 10.5,-30 10.5,-24 10.5,-24 10.5,-12 10.5,-12 10.5,-6 16.5,0 22.5,0 22.5,0 52.5,0 52.5,0 58.5,0 64.5,-6 64.5,-12 64.5,-12 64.5,-24 64.5,-24 64.5,-30 58.5,-36 52.5,-36\"/>\n<text text-anchor=\"middle\" x=\"37.5\" y=\"-14.3\" font-family=\"Helvetica,sans-Serif\" font-size=\"14.00\">(...)</text>\n</g>\n<!-- 3&#45;&gt;4 -->\n<g id=\"edge4\" class=\"edge\">\n<title>3&#45;&gt;4</title>\n<path fill=\"none\" stroke=\"black\" d=\"M57.81,-71.76C54.46,-63.04 50.99,-54.04 47.89,-45.99\"/>\n<polygon fill=\"black\" stroke=\"black\" points=\"51.06,-44.48 44.2,-36.41 44.53,-46.99 51.06,-44.48\"/>\n</g>\n<!-- 227 -->\n<g id=\"node6\" class=\"node\">\n<title>227</title>\n<path fill=\"#c0c0c0\" stroke=\"black\" d=\"M124.5,-36C124.5,-36 94.5,-36 94.5,-36 88.5,-36 82.5,-30 82.5,-24 82.5,-24 82.5,-12 82.5,-12 82.5,-6 88.5,0 94.5,0 94.5,0 124.5,0 124.5,0 130.5,0 136.5,-6 136.5,-12 136.5,-12 136.5,-24 136.5,-24 136.5,-30 130.5,-36 124.5,-36\"/>\n<text text-anchor=\"middle\" x=\"109.5\" y=\"-14.3\" font-family=\"Helvetica,sans-Serif\" font-size=\"14.00\">(...)</text>\n</g>\n<!-- 3&#45;&gt;227 -->\n<g id=\"edge5\" class=\"edge\">\n<title>3&#45;&gt;227</title>\n<path fill=\"none\" stroke=\"black\" d=\"M89.19,-71.76C92.54,-63.04 96.01,-54.04 99.11,-45.99\"/>\n<polygon fill=\"black\" stroke=\"black\" points=\"102.47,-46.99 102.8,-36.41 95.94,-44.48 102.47,-46.99\"/>\n</g>\n<!-- 240 -->\n<g id=\"node9\" class=\"node\">\n<title>240</title>\n<path fill=\"#e78845\" stroke=\"black\" d=\"M435,-155C435,-155 312,-155 312,-155 306,-155 300,-149 300,-143 300,-143 300,-84 300,-84 300,-78 306,-72 312,-72 312,-72 435,-72 435,-72 441,-72 447,-78 447,-84 447,-84 447,-143 447,-143 447,-149 441,-155 435,-155\"/>\n<text text-anchor=\"middle\" x=\"373.5\" y=\"-139.8\" font-family=\"Helvetica,sans-Serif\" font-size=\"14.00\">state_KY &lt;= 0.5</text>\n<text text-anchor=\"middle\" x=\"373.5\" y=\"-124.8\" font-family=\"Helvetica,sans-Serif\" font-size=\"14.00\">gini = 0.104</text>\n<text text-anchor=\"middle\" x=\"373.5\" y=\"-109.8\" font-family=\"Helvetica,sans-Serif\" font-size=\"14.00\">samples = 25.1%</text>\n<text text-anchor=\"middle\" x=\"373.5\" y=\"-94.8\" font-family=\"Helvetica,sans-Serif\" font-size=\"14.00\">value = [0.945, 0.055]</text>\n<text text-anchor=\"middle\" x=\"373.5\" y=\"-79.8\" font-family=\"Helvetica,sans-Serif\" font-size=\"14.00\">class = False.</text>\n</g>\n<!-- 239&#45;&gt;240 -->\n<g id=\"edge8\" class=\"edge\">\n<title>239&#45;&gt;240</title>\n<path fill=\"none\" stroke=\"black\" d=\"M429.01,-190.91C422.55,-182.01 415.64,-172.51 408.98,-163.33\"/>\n<polygon fill=\"black\" stroke=\"black\" points=\"411.65,-161.05 402.94,-155.02 405.98,-165.17 411.65,-161.05\"/>\n</g>\n<!-- 309 -->\n<g id=\"node12\" class=\"node\">\n<title>309</title>\n<path fill=\"#f6d5bd\" stroke=\"black\" d=\"M593.5,-155C593.5,-155 477.5,-155 477.5,-155 471.5,-155 465.5,-149 465.5,-143 465.5,-143 465.5,-84 465.5,-84 465.5,-78 471.5,-72 477.5,-72 477.5,-72 593.5,-72 593.5,-72 599.5,-72 605.5,-78 605.5,-84 605.5,-84 605.5,-143 605.5,-143 605.5,-149 599.5,-155 593.5,-155\"/>\n<text text-anchor=\"middle\" x=\"535.5\" y=\"-139.8\" font-family=\"Helvetica,sans-Serif\" font-size=\"14.00\">eve_mins &lt;= 227.35</text>\n<text text-anchor=\"middle\" x=\"535.5\" y=\"-124.8\" font-family=\"Helvetica,sans-Serif\" font-size=\"14.00\">gini = 0.48</text>\n<text text-anchor=\"middle\" x=\"535.5\" y=\"-109.8\" font-family=\"Helvetica,sans-Serif\" font-size=\"14.00\">samples = 0.3%</text>\n<text text-anchor=\"middle\" x=\"535.5\" y=\"-94.8\" font-family=\"Helvetica,sans-Serif\" font-size=\"14.00\">value = [0.6, 0.4]</text>\n<text text-anchor=\"middle\" x=\"535.5\" y=\"-79.8\" font-family=\"Helvetica,sans-Serif\" font-size=\"14.00\">class = False.</text>\n</g>\n<!-- 239&#45;&gt;309 -->\n<g id=\"edge11\" class=\"edge\">\n<title>239&#45;&gt;309</title>\n<path fill=\"none\" stroke=\"black\" d=\"M485.21,-190.91C491.01,-182.1 497.2,-172.7 503.18,-163.61\"/>\n<polygon fill=\"black\" stroke=\"black\" points=\"506.26,-165.3 508.83,-155.02 500.41,-161.45 506.26,-165.3\"/>\n</g>\n<!-- 241 -->\n<g id=\"node10\" class=\"node\">\n<title>241</title>\n<path fill=\"#c0c0c0\" stroke=\"black\" d=\"M325.5,-36C325.5,-36 295.5,-36 295.5,-36 289.5,-36 283.5,-30 283.5,-24 283.5,-24 283.5,-12 283.5,-12 283.5,-6 289.5,0 295.5,0 295.5,0 325.5,0 325.5,0 331.5,0 337.5,-6 337.5,-12 337.5,-12 337.5,-24 337.5,-24 337.5,-30 331.5,-36 325.5,-36\"/>\n<text text-anchor=\"middle\" x=\"310.5\" y=\"-14.3\" font-family=\"Helvetica,sans-Serif\" font-size=\"14.00\">(...)</text>\n</g>\n<!-- 240&#45;&gt;241 -->\n<g id=\"edge9\" class=\"edge\">\n<title>240&#45;&gt;241</title>\n<path fill=\"none\" stroke=\"black\" d=\"M346.05,-71.76C339.91,-62.65 333.57,-53.24 327.97,-44.92\"/>\n<polygon fill=\"black\" stroke=\"black\" points=\"330.72,-42.74 322.23,-36.41 324.91,-46.65 330.72,-42.74\"/>\n</g>\n<!-- 306 -->\n<g id=\"node11\" class=\"node\">\n<title>306</title>\n<path fill=\"#c0c0c0\" stroke=\"black\" d=\"M397.5,-36C397.5,-36 367.5,-36 367.5,-36 361.5,-36 355.5,-30 355.5,-24 355.5,-24 355.5,-12 355.5,-12 355.5,-6 361.5,0 367.5,0 367.5,0 397.5,0 397.5,0 403.5,0 409.5,-6 409.5,-12 409.5,-12 409.5,-24 409.5,-24 409.5,-30 403.5,-36 397.5,-36\"/>\n<text text-anchor=\"middle\" x=\"382.5\" y=\"-14.3\" font-family=\"Helvetica,sans-Serif\" font-size=\"14.00\">(...)</text>\n</g>\n<!-- 240&#45;&gt;306 -->\n<g id=\"edge10\" class=\"edge\">\n<title>240&#45;&gt;306</title>\n<path fill=\"none\" stroke=\"black\" d=\"M377.42,-71.76C378.24,-63.24 379.09,-54.44 379.85,-46.53\"/>\n<polygon fill=\"black\" stroke=\"black\" points=\"383.35,-46.69 380.82,-36.41 376.38,-46.02 383.35,-46.69\"/>\n</g>\n<!-- 310 -->\n<g id=\"node13\" class=\"node\">\n<title>310</title>\n<path fill=\"#c0c0c0\" stroke=\"black\" d=\"M487.5,-36C487.5,-36 457.5,-36 457.5,-36 451.5,-36 445.5,-30 445.5,-24 445.5,-24 445.5,-12 445.5,-12 445.5,-6 451.5,0 457.5,0 457.5,0 487.5,0 487.5,0 493.5,0 499.5,-6 499.5,-12 499.5,-12 499.5,-24 499.5,-24 499.5,-30 493.5,-36 487.5,-36\"/>\n<text text-anchor=\"middle\" x=\"472.5\" y=\"-14.3\" font-family=\"Helvetica,sans-Serif\" font-size=\"14.00\">(...)</text>\n</g>\n<!-- 309&#45;&gt;310 -->\n<g id=\"edge12\" class=\"edge\">\n<title>309&#45;&gt;310</title>\n<path fill=\"none\" stroke=\"black\" d=\"M508.05,-71.76C501.91,-62.65 495.57,-53.24 489.97,-44.92\"/>\n<polygon fill=\"black\" stroke=\"black\" points=\"492.72,-42.74 484.23,-36.41 486.91,-46.65 492.72,-42.74\"/>\n</g>\n<!-- 313 -->\n<g id=\"node14\" class=\"node\">\n<title>313</title>\n<path fill=\"#c0c0c0\" stroke=\"black\" d=\"M559.5,-36C559.5,-36 529.5,-36 529.5,-36 523.5,-36 517.5,-30 517.5,-24 517.5,-24 517.5,-12 517.5,-12 517.5,-6 523.5,0 529.5,0 529.5,0 559.5,0 559.5,0 565.5,0 571.5,-6 571.5,-12 571.5,-12 571.5,-24 571.5,-24 571.5,-30 565.5,-36 559.5,-36\"/>\n<text text-anchor=\"middle\" x=\"544.5\" y=\"-14.3\" font-family=\"Helvetica,sans-Serif\" font-size=\"14.00\">(...)</text>\n</g>\n<!-- 309&#45;&gt;313 -->\n<g id=\"edge13\" class=\"edge\">\n<title>309&#45;&gt;313</title>\n<path fill=\"none\" stroke=\"black\" d=\"M539.42,-71.76C540.24,-63.24 541.09,-54.44 541.85,-46.53\"/>\n<polygon fill=\"black\" stroke=\"black\" points=\"545.35,-46.69 542.82,-36.41 538.38,-46.02 545.35,-46.69\"/>\n</g>\n<!-- 315 -->\n<g id=\"node16\" class=\"node\">\n<title>315</title>\n<path fill=\"#eeae80\" stroke=\"black\" d=\"M819,-274C819,-274 696,-274 696,-274 690,-274 684,-268 684,-262 684,-262 684,-203 684,-203 684,-197 690,-191 696,-191 696,-191 819,-191 819,-191 825,-191 831,-197 831,-203 831,-203 831,-262 831,-262 831,-268 825,-274 819,-274\"/>\n<text text-anchor=\"middle\" x=\"757.5\" y=\"-258.8\" font-family=\"Helvetica,sans-Serif\" font-size=\"14.00\">state_SD &lt;= 0.5</text>\n<text text-anchor=\"middle\" x=\"757.5\" y=\"-243.8\" font-family=\"Helvetica,sans-Serif\" font-size=\"14.00\">gini = 0.387</text>\n<text text-anchor=\"middle\" x=\"757.5\" y=\"-228.8\" font-family=\"Helvetica,sans-Serif\" font-size=\"14.00\">samples = 6.3%</text>\n<text text-anchor=\"middle\" x=\"757.5\" y=\"-213.8\" font-family=\"Helvetica,sans-Serif\" font-size=\"14.00\">value = [0.737, 0.263]</text>\n<text text-anchor=\"middle\" x=\"757.5\" y=\"-198.8\" font-family=\"Helvetica,sans-Serif\" font-size=\"14.00\">class = False.</text>\n</g>\n<!-- 314&#45;&gt;315 -->\n<g id=\"edge15\" class=\"edge\">\n<title>314&#45;&gt;315</title>\n<path fill=\"none\" stroke=\"black\" d=\"M757.5,-309.91C757.5,-301.65 757.5,-292.86 757.5,-284.3\"/>\n<polygon fill=\"black\" stroke=\"black\" points=\"761,-284.02 757.5,-274.02 754,-284.02 761,-284.02\"/>\n</g>\n<!-- 370 -->\n<g id=\"node21\" class=\"node\">\n<title>370</title>\n<path fill=\"#3d9fe6\" stroke=\"black\" d=\"M1044,-274C1044,-274 921,-274 921,-274 915,-274 909,-268 909,-262 909,-262 909,-203 909,-203 909,-197 915,-191 921,-191 921,-191 1044,-191 1044,-191 1050,-191 1056,-197 1056,-203 1056,-203 1056,-262 1056,-262 1056,-268 1050,-274 1044,-274\"/>\n<text text-anchor=\"middle\" x=\"982.5\" y=\"-258.8\" font-family=\"Helvetica,sans-Serif\" font-size=\"14.00\">state_OR &lt;= 0.5</text>\n<text text-anchor=\"middle\" x=\"982.5\" y=\"-243.8\" font-family=\"Helvetica,sans-Serif\" font-size=\"14.00\">gini = 0.041</text>\n<text text-anchor=\"middle\" x=\"982.5\" y=\"-228.8\" font-family=\"Helvetica,sans-Serif\" font-size=\"14.00\">samples = 1.9%</text>\n<text text-anchor=\"middle\" x=\"982.5\" y=\"-213.8\" font-family=\"Helvetica,sans-Serif\" font-size=\"14.00\">value = [0.021, 0.979]</text>\n<text text-anchor=\"middle\" x=\"982.5\" y=\"-198.8\" font-family=\"Helvetica,sans-Serif\" font-size=\"14.00\">class = True.</text>\n</g>\n<!-- 314&#45;&gt;370 -->\n<g id=\"edge20\" class=\"edge\">\n<title>314&#45;&gt;370</title>\n<path fill=\"none\" stroke=\"black\" d=\"M831.17,-312.19C853.03,-300.83 877.11,-288.3 899.51,-276.66\"/>\n<polygon fill=\"black\" stroke=\"black\" points=\"901.4,-279.62 908.66,-271.9 898.17,-273.4 901.4,-279.62\"/>\n</g>\n<!-- 316 -->\n<g id=\"node17\" class=\"node\">\n<title>316</title>\n<path fill=\"#edaa79\" stroke=\"black\" d=\"M759,-155C759,-155 636,-155 636,-155 630,-155 624,-149 624,-143 624,-143 624,-84 624,-84 624,-78 630,-72 636,-72 636,-72 759,-72 759,-72 765,-72 771,-78 771,-84 771,-84 771,-143 771,-143 771,-149 765,-155 759,-155\"/>\n<text text-anchor=\"middle\" x=\"697.5\" y=\"-139.8\" font-family=\"Helvetica,sans-Serif\" font-size=\"14.00\">state_ME &lt;= 0.5</text>\n<text text-anchor=\"middle\" x=\"697.5\" y=\"-124.8\" font-family=\"Helvetica,sans-Serif\" font-size=\"14.00\">gini = 0.368</text>\n<text text-anchor=\"middle\" x=\"697.5\" y=\"-109.8\" font-family=\"Helvetica,sans-Serif\" font-size=\"14.00\">samples = 6.2%</text>\n<text text-anchor=\"middle\" x=\"697.5\" y=\"-94.8\" font-family=\"Helvetica,sans-Serif\" font-size=\"14.00\">value = [0.757, 0.243]</text>\n<text text-anchor=\"middle\" x=\"697.5\" y=\"-79.8\" font-family=\"Helvetica,sans-Serif\" font-size=\"14.00\">class = False.</text>\n</g>\n<!-- 315&#45;&gt;316 -->\n<g id=\"edge16\" class=\"edge\">\n<title>315&#45;&gt;316</title>\n<path fill=\"none\" stroke=\"black\" d=\"M736.68,-190.91C732.26,-182.29 727.55,-173.09 722.97,-164.17\"/>\n<polygon fill=\"black\" stroke=\"black\" points=\"725.96,-162.32 718.28,-155.02 719.73,-165.52 725.96,-162.32\"/>\n</g>\n<!-- 369 -->\n<g id=\"node20\" class=\"node\">\n<title>369</title>\n<path fill=\"#399de5\" stroke=\"black\" d=\"M894,-147.5C894,-147.5 801,-147.5 801,-147.5 795,-147.5 789,-141.5 789,-135.5 789,-135.5 789,-91.5 789,-91.5 789,-85.5 795,-79.5 801,-79.5 801,-79.5 894,-79.5 894,-79.5 900,-79.5 906,-85.5 906,-91.5 906,-91.5 906,-135.5 906,-135.5 906,-141.5 900,-147.5 894,-147.5\"/>\n<text text-anchor=\"middle\" x=\"847.5\" y=\"-132.3\" font-family=\"Helvetica,sans-Serif\" font-size=\"14.00\">gini = 0.0</text>\n<text text-anchor=\"middle\" x=\"847.5\" y=\"-117.3\" font-family=\"Helvetica,sans-Serif\" font-size=\"14.00\">samples = 0.1%</text>\n<text text-anchor=\"middle\" x=\"847.5\" y=\"-102.3\" font-family=\"Helvetica,sans-Serif\" font-size=\"14.00\">value = [0.0, 1.0]</text>\n<text text-anchor=\"middle\" x=\"847.5\" y=\"-87.3\" font-family=\"Helvetica,sans-Serif\" font-size=\"14.00\">class = True.</text>\n</g>\n<!-- 315&#45;&gt;369 -->\n<g id=\"edge19\" class=\"edge\">\n<title>315&#45;&gt;369</title>\n<path fill=\"none\" stroke=\"black\" d=\"M788.73,-190.91C797.47,-179.54 806.98,-167.18 815.75,-155.77\"/>\n<polygon fill=\"black\" stroke=\"black\" points=\"818.66,-157.73 821.99,-147.67 813.12,-153.46 818.66,-157.73\"/>\n</g>\n<!-- 317 -->\n<g id=\"node18\" class=\"node\">\n<title>317</title>\n<path fill=\"#c0c0c0\" stroke=\"black\" d=\"M676.5,-36C676.5,-36 646.5,-36 646.5,-36 640.5,-36 634.5,-30 634.5,-24 634.5,-24 634.5,-12 634.5,-12 634.5,-6 640.5,0 646.5,0 646.5,0 676.5,0 676.5,0 682.5,0 688.5,-6 688.5,-12 688.5,-12 688.5,-24 688.5,-24 688.5,-30 682.5,-36 676.5,-36\"/>\n<text text-anchor=\"middle\" x=\"661.5\" y=\"-14.3\" font-family=\"Helvetica,sans-Serif\" font-size=\"14.00\">(...)</text>\n</g>\n<!-- 316&#45;&gt;317 -->\n<g id=\"edge17\" class=\"edge\">\n<title>316&#45;&gt;317</title>\n<path fill=\"none\" stroke=\"black\" d=\"M681.81,-71.76C678.46,-63.04 674.99,-54.04 671.89,-45.99\"/>\n<polygon fill=\"black\" stroke=\"black\" points=\"675.06,-44.48 668.2,-36.41 668.53,-46.99 675.06,-44.48\"/>\n</g>\n<!-- 368 -->\n<g id=\"node19\" class=\"node\">\n<title>368</title>\n<path fill=\"#c0c0c0\" stroke=\"black\" d=\"M748.5,-36C748.5,-36 718.5,-36 718.5,-36 712.5,-36 706.5,-30 706.5,-24 706.5,-24 706.5,-12 706.5,-12 706.5,-6 712.5,0 718.5,0 718.5,0 748.5,0 748.5,0 754.5,0 760.5,-6 760.5,-12 760.5,-12 760.5,-24 760.5,-24 760.5,-30 754.5,-36 748.5,-36\"/>\n<text text-anchor=\"middle\" x=\"733.5\" y=\"-14.3\" font-family=\"Helvetica,sans-Serif\" font-size=\"14.00\">(...)</text>\n</g>\n<!-- 316&#45;&gt;368 -->\n<g id=\"edge18\" class=\"edge\">\n<title>316&#45;&gt;368</title>\n<path fill=\"none\" stroke=\"black\" d=\"M713.19,-71.76C716.54,-63.04 720.01,-54.04 723.11,-45.99\"/>\n<polygon fill=\"black\" stroke=\"black\" points=\"726.47,-46.99 726.8,-36.41 719.94,-44.48 726.47,-46.99\"/>\n</g>\n<!-- 371 -->\n<g id=\"node22\" class=\"node\">\n<title>371</title>\n<path fill=\"#399de5\" stroke=\"black\" d=\"M1029,-147.5C1029,-147.5 936,-147.5 936,-147.5 930,-147.5 924,-141.5 924,-135.5 924,-135.5 924,-91.5 924,-91.5 924,-85.5 930,-79.5 936,-79.5 936,-79.5 1029,-79.5 1029,-79.5 1035,-79.5 1041,-85.5 1041,-91.5 1041,-91.5 1041,-135.5 1041,-135.5 1041,-141.5 1035,-147.5 1029,-147.5\"/>\n<text text-anchor=\"middle\" x=\"982.5\" y=\"-132.3\" font-family=\"Helvetica,sans-Serif\" font-size=\"14.00\">gini = 0.0</text>\n<text text-anchor=\"middle\" x=\"982.5\" y=\"-117.3\" font-family=\"Helvetica,sans-Serif\" font-size=\"14.00\">samples = 1.8%</text>\n<text text-anchor=\"middle\" x=\"982.5\" y=\"-102.3\" font-family=\"Helvetica,sans-Serif\" font-size=\"14.00\">value = [0.0, 1.0]</text>\n<text text-anchor=\"middle\" x=\"982.5\" y=\"-87.3\" font-family=\"Helvetica,sans-Serif\" font-size=\"14.00\">class = True.</text>\n</g>\n<!-- 370&#45;&gt;371 -->\n<g id=\"edge21\" class=\"edge\">\n<title>370&#45;&gt;371</title>\n<path fill=\"none\" stroke=\"black\" d=\"M982.5,-190.91C982.5,-180.2 982.5,-168.62 982.5,-157.78\"/>\n<polygon fill=\"black\" stroke=\"black\" points=\"986,-157.67 982.5,-147.67 979,-157.67 986,-157.67\"/>\n</g>\n<!-- 372 -->\n<g id=\"node23\" class=\"node\">\n<title>372</title>\n<path fill=\"#e58139\" stroke=\"black\" d=\"M1164,-147.5C1164,-147.5 1071,-147.5 1071,-147.5 1065,-147.5 1059,-141.5 1059,-135.5 1059,-135.5 1059,-91.5 1059,-91.5 1059,-85.5 1065,-79.5 1071,-79.5 1071,-79.5 1164,-79.5 1164,-79.5 1170,-79.5 1176,-85.5 1176,-91.5 1176,-91.5 1176,-135.5 1176,-135.5 1176,-141.5 1170,-147.5 1164,-147.5\"/>\n<text text-anchor=\"middle\" x=\"1117.5\" y=\"-132.3\" font-family=\"Helvetica,sans-Serif\" font-size=\"14.00\">gini = 0.0</text>\n<text text-anchor=\"middle\" x=\"1117.5\" y=\"-117.3\" font-family=\"Helvetica,sans-Serif\" font-size=\"14.00\">samples = 0.1%</text>\n<text text-anchor=\"middle\" x=\"1117.5\" y=\"-102.3\" font-family=\"Helvetica,sans-Serif\" font-size=\"14.00\">value = [1.0, 0.0]</text>\n<text text-anchor=\"middle\" x=\"1117.5\" y=\"-87.3\" font-family=\"Helvetica,sans-Serif\" font-size=\"14.00\">class = False.</text>\n</g>\n<!-- 370&#45;&gt;372 -->\n<g id=\"edge22\" class=\"edge\">\n<title>370&#45;&gt;372</title>\n<path fill=\"none\" stroke=\"black\" d=\"M1029.34,-190.91C1042.96,-179.1 1057.83,-166.22 1071.4,-154.45\"/>\n<polygon fill=\"black\" stroke=\"black\" points=\"1073.97,-156.86 1079.23,-147.67 1069.38,-151.57 1073.97,-156.86\"/>\n</g>\n</g>\n</svg>\n",
            "text/plain": [
              "<graphviz.sources.Source at 0x7b2bfca7a650>"
            ]
          },
          "metadata": {},
          "execution_count": 100
        }
      ],
      "source": [
        "dot_data = tree.export_graphviz(estimators[3],\n",
        "                                out_file=None,\n",
        "                                feature_names=feature_names,\n",
        "                                class_names = [\"False.\", \"True.\"],\n",
        "                                filled=True,\n",
        "                                max_depth=3,\n",
        "                                impurity=True,\n",
        "                                proportion=True,\n",
        "                                rounded=True,\n",
        "                                  special_characters=False)\n",
        "graph = graphviz.Source(dot_data)\n",
        "graph\n",
        "\n"
      ]
    },
    {
      "cell_type": "code",
      "execution_count": null,
      "metadata": {
        "id": "VADkKODR1Fl6"
      },
      "outputs": [],
      "source": []
    }
  ],
  "metadata": {
    "kernelspec": {
      "display_name": "Python 3",
      "language": "python",
      "name": "python3"
    },
    "language_info": {
      "codemirror_mode": {
        "name": "ipython",
        "version": 3
      },
      "file_extension": ".py",
      "mimetype": "text/x-python",
      "name": "python",
      "nbconvert_exporter": "python",
      "pygments_lexer": "ipython3",
      "version": "3.8.5"
    },
    "colab": {
      "provenance": [],
      "include_colab_link": true
    }
  },
  "nbformat": 4,
  "nbformat_minor": 0
}
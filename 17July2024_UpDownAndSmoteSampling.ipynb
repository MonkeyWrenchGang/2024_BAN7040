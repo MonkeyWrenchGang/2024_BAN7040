{
  "nbformat": 4,
  "nbformat_minor": 0,
  "metadata": {
    "colab": {
      "provenance": [],
      "authorship_tag": "ABX9TyMV6w82tl5JwrK24AWr6gTs",
      "include_colab_link": true
    },
    "kernelspec": {
      "name": "python3",
      "display_name": "Python 3"
    },
    "language_info": {
      "name": "python"
    }
  },
  "cells": [
    {
      "cell_type": "markdown",
      "metadata": {
        "id": "view-in-github",
        "colab_type": "text"
      },
      "source": [
        "<a href=\"https://colab.research.google.com/github/MonkeyWrenchGang/2024_BAN7040/blob/main/17July2024_UpDownAndSmoteSampling.ipynb\" target=\"_parent\"><img src=\"https://colab.research.google.com/assets/colab-badge.svg\" alt=\"Open In Colab\"/></a>"
      ]
    },
    {
      "cell_type": "markdown",
      "source": [
        "# Handling Imbalanced Datasets\n",
        "\n",
        "\n",
        "---\n",
        "\n",
        "\n",
        "## Over-sampling, Under-sampling, and SMOTE\n",
        "\n",
        "Imbalanced datasets are the STANDARD for most domains, including as fraud detection, medical diagnosis, and spam filtering;  Imbalanced data is simply where the number of examples in one class significantly outnumbers the other. This imbalance **can lead to poor** model performance, particularly for the minority class.\n",
        "\n",
        "Let's explore three three techniques to address this issue: over-sampling, under-sampling, and Synthetic Minority Over-sampling Technique AKA SMOTE.\n",
        "\n",
        "\n",
        "## Install Imbalanced Learn\n",
        "\n",
        "`!pip install imbalanced-learn`\n",
        "\n",
        "\n",
        "---\n",
        "\n",
        "\n",
        "## 1. Setup\n",
        "\n",
        "Import the necessary libraries\n",
        "\n",
        "## 2. Generate a dataset\n",
        "\n",
        "Here we'll use make synthetic to generate a synthetic dataset.\n",
        "\n",
        "## 3. Train Test Plit the data\n",
        "\n",
        "## 4. apply different imbalanced data handling to TRAINING data\n",
        "- Over Sample\n",
        "- Under Sample\n",
        "- SMOTE\n",
        "\n",
        "## 5. Train Models\n",
        "\n",
        "## 6. Evalute\n"
      ],
      "metadata": {
        "id": "1m2as0T9i95W"
      }
    },
    {
      "cell_type": "code",
      "source": [
        "!pip install imbalanced-learn"
      ],
      "metadata": {
        "colab": {
          "base_uri": "https://localhost:8080/"
        },
        "id": "XmNuwKp5Rh0_",
        "outputId": "fb488077-0bea-426d-eb98-235d2dfbe3bb"
      },
      "execution_count": null,
      "outputs": [
        {
          "output_type": "stream",
          "name": "stdout",
          "text": [
            "Requirement already satisfied: imbalanced-learn in /usr/local/lib/python3.10/dist-packages (0.10.1)\n",
            "Requirement already satisfied: numpy>=1.17.3 in /usr/local/lib/python3.10/dist-packages (from imbalanced-learn) (1.23.5)\n",
            "Requirement already satisfied: scipy>=1.3.2 in /usr/local/lib/python3.10/dist-packages (from imbalanced-learn) (1.11.4)\n",
            "Requirement already satisfied: scikit-learn>=1.0.2 in /usr/local/lib/python3.10/dist-packages (from imbalanced-learn) (1.2.2)\n",
            "Requirement already satisfied: joblib>=1.1.1 in /usr/local/lib/python3.10/dist-packages (from imbalanced-learn) (1.3.2)\n",
            "Requirement already satisfied: threadpoolctl>=2.0.0 in /usr/local/lib/python3.10/dist-packages (from imbalanced-learn) (3.2.0)\n"
          ]
        }
      ]
    },
    {
      "cell_type": "markdown",
      "source": [
        "# 1. Setup\n",
        "---\n",
        "Import the necessary libraries"
      ],
      "metadata": {
        "id": "0JvTNyRDkcmR"
      }
    },
    {
      "cell_type": "code",
      "source": [
        "import warnings\n",
        "warnings.filterwarnings('ignore')\n",
        "# --\n",
        "import pandas as pd\n",
        "import numpy as np\n",
        "import matplotlib.pyplot as plt\n",
        "import seaborn as sns\n",
        "# --\n",
        "from collections import Counter\n",
        "from sklearn.datasets import make_classification\n",
        "from sklearn.model_selection import train_test_split\n",
        "from sklearn.linear_model import LogisticRegression\n",
        "from sklearn.metrics import roc_auc_score\n",
        "from imblearn.over_sampling import SMOTE\n",
        "from sklearn.metrics import classification_report, roc_auc_score\n",
        "from imblearn.over_sampling import RandomOverSampler, SMOTE\n",
        "from imblearn.under_sampling import RandomUnderSampler"
      ],
      "metadata": {
        "id": "o3BMkI-ISxwL"
      },
      "execution_count": null,
      "outputs": []
    },
    {
      "cell_type": "markdown",
      "source": [
        "# 2. Generate a dataset\n",
        "Here we'll use make_classification to generate a synthetic dataset.\n",
        "\n",
        "- SEE: https://scikit-learn.org/stable/modules/generated/sklearn.datasets.make_classification.html\n",
        "\n",
        "> NOTE: this is a great skill to have\n",
        "\n",
        "\n"
      ],
      "metadata": {
        "id": "YBvkYzVhkhur"
      }
    },
    {
      "cell_type": "code",
      "source": [
        "# Generate a synthetic imbalanced dataset\n",
        "X, y = make_classification(n_classes=2, class_sep=2,\n",
        "                           weights=[0.05, 0.95],\n",
        "                           n_informative=15,\n",
        "                           #n_redundant=1,\n",
        "                           flip_y=0.03,\n",
        "                           n_features=20,\n",
        "                           n_clusters_per_class=1,\n",
        "                           n_samples=10000, random_state=10)\n",
        "\n",
        "X = pd.DataFrame(X, columns=[f'feature_{i}' for i in range(X.shape[1])])\n",
        "y = pd.Series(y)\n",
        "X.head()"
      ],
      "metadata": {
        "colab": {
          "base_uri": "https://localhost:8080/",
          "height": 226
        },
        "id": "romJ18hzkxvK",
        "outputId": "65a4d745-ca58-4a07-9bbb-3958fa189d3c"
      },
      "execution_count": null,
      "outputs": [
        {
          "output_type": "execute_result",
          "data": {
            "text/plain": [
              "   feature_0  feature_1  feature_2  feature_3  feature_4  feature_5  \\\n",
              "0  -1.672498  -1.907792   2.206978  -9.826880  -4.595247   2.126290   \n",
              "1   0.113255  -4.169039   4.309246  -8.079669  -3.587533  -1.555439   \n",
              "2   1.168879  -4.858492   3.018978 -10.088395  -2.437628  -2.872048   \n",
              "3  -0.072472   0.416495   3.625380  -1.435721  -0.599763  -3.076900   \n",
              "4   0.395002  -1.772361   1.480797 -10.349795  -3.404066   0.273368   \n",
              "\n",
              "   feature_6  feature_7  feature_8  feature_9  feature_10  feature_11  \\\n",
              "0  -2.800749   3.863320   5.873095   1.069319    4.213886    7.593522   \n",
              "1  -3.606868   1.357497   3.783067   1.411738    3.465193    6.693610   \n",
              "2  -2.776988   1.882435   3.536712   0.539261    2.933683    6.695125   \n",
              "3  -6.356896   6.470822  -2.129086   4.662778    0.878029    3.260751   \n",
              "4  -5.293774   5.233769   1.838402   2.830086    5.156810    3.809602   \n",
              "\n",
              "   feature_12  feature_13  feature_14  feature_15  feature_16  feature_17  \\\n",
              "0    0.327437    4.277106    1.859815    1.494828    3.880283   -1.557668   \n",
              "1   -4.546604    2.271717    0.057014   -0.765925    2.143778   -4.527483   \n",
              "2   -4.110229    3.656268    0.774880   -2.282263    3.230669   -2.595450   \n",
              "3   -0.740602    2.950565    3.372518    0.572005   -1.456599   -3.916822   \n",
              "4    0.488340    5.191351    3.094875   -0.767806    2.586465   -0.876073   \n",
              "\n",
              "   feature_18  feature_19  \n",
              "0    1.017443   -0.015431  \n",
              "1    0.193309   -0.478227  \n",
              "2    2.088375   -0.067520  \n",
              "3    0.330798    0.324298  \n",
              "4    2.559900   -0.112852  "
            ],
            "text/html": [
              "\n",
              "  <div id=\"df-cb1a1cd0-a8ed-4986-860d-5fa6de1d2f6b\" class=\"colab-df-container\">\n",
              "    <div>\n",
              "<style scoped>\n",
              "    .dataframe tbody tr th:only-of-type {\n",
              "        vertical-align: middle;\n",
              "    }\n",
              "\n",
              "    .dataframe tbody tr th {\n",
              "        vertical-align: top;\n",
              "    }\n",
              "\n",
              "    .dataframe thead th {\n",
              "        text-align: right;\n",
              "    }\n",
              "</style>\n",
              "<table border=\"1\" class=\"dataframe\">\n",
              "  <thead>\n",
              "    <tr style=\"text-align: right;\">\n",
              "      <th></th>\n",
              "      <th>feature_0</th>\n",
              "      <th>feature_1</th>\n",
              "      <th>feature_2</th>\n",
              "      <th>feature_3</th>\n",
              "      <th>feature_4</th>\n",
              "      <th>feature_5</th>\n",
              "      <th>feature_6</th>\n",
              "      <th>feature_7</th>\n",
              "      <th>feature_8</th>\n",
              "      <th>feature_9</th>\n",
              "      <th>feature_10</th>\n",
              "      <th>feature_11</th>\n",
              "      <th>feature_12</th>\n",
              "      <th>feature_13</th>\n",
              "      <th>feature_14</th>\n",
              "      <th>feature_15</th>\n",
              "      <th>feature_16</th>\n",
              "      <th>feature_17</th>\n",
              "      <th>feature_18</th>\n",
              "      <th>feature_19</th>\n",
              "    </tr>\n",
              "  </thead>\n",
              "  <tbody>\n",
              "    <tr>\n",
              "      <th>0</th>\n",
              "      <td>-1.672498</td>\n",
              "      <td>-1.907792</td>\n",
              "      <td>2.206978</td>\n",
              "      <td>-9.826880</td>\n",
              "      <td>-4.595247</td>\n",
              "      <td>2.126290</td>\n",
              "      <td>-2.800749</td>\n",
              "      <td>3.863320</td>\n",
              "      <td>5.873095</td>\n",
              "      <td>1.069319</td>\n",
              "      <td>4.213886</td>\n",
              "      <td>7.593522</td>\n",
              "      <td>0.327437</td>\n",
              "      <td>4.277106</td>\n",
              "      <td>1.859815</td>\n",
              "      <td>1.494828</td>\n",
              "      <td>3.880283</td>\n",
              "      <td>-1.557668</td>\n",
              "      <td>1.017443</td>\n",
              "      <td>-0.015431</td>\n",
              "    </tr>\n",
              "    <tr>\n",
              "      <th>1</th>\n",
              "      <td>0.113255</td>\n",
              "      <td>-4.169039</td>\n",
              "      <td>4.309246</td>\n",
              "      <td>-8.079669</td>\n",
              "      <td>-3.587533</td>\n",
              "      <td>-1.555439</td>\n",
              "      <td>-3.606868</td>\n",
              "      <td>1.357497</td>\n",
              "      <td>3.783067</td>\n",
              "      <td>1.411738</td>\n",
              "      <td>3.465193</td>\n",
              "      <td>6.693610</td>\n",
              "      <td>-4.546604</td>\n",
              "      <td>2.271717</td>\n",
              "      <td>0.057014</td>\n",
              "      <td>-0.765925</td>\n",
              "      <td>2.143778</td>\n",
              "      <td>-4.527483</td>\n",
              "      <td>0.193309</td>\n",
              "      <td>-0.478227</td>\n",
              "    </tr>\n",
              "    <tr>\n",
              "      <th>2</th>\n",
              "      <td>1.168879</td>\n",
              "      <td>-4.858492</td>\n",
              "      <td>3.018978</td>\n",
              "      <td>-10.088395</td>\n",
              "      <td>-2.437628</td>\n",
              "      <td>-2.872048</td>\n",
              "      <td>-2.776988</td>\n",
              "      <td>1.882435</td>\n",
              "      <td>3.536712</td>\n",
              "      <td>0.539261</td>\n",
              "      <td>2.933683</td>\n",
              "      <td>6.695125</td>\n",
              "      <td>-4.110229</td>\n",
              "      <td>3.656268</td>\n",
              "      <td>0.774880</td>\n",
              "      <td>-2.282263</td>\n",
              "      <td>3.230669</td>\n",
              "      <td>-2.595450</td>\n",
              "      <td>2.088375</td>\n",
              "      <td>-0.067520</td>\n",
              "    </tr>\n",
              "    <tr>\n",
              "      <th>3</th>\n",
              "      <td>-0.072472</td>\n",
              "      <td>0.416495</td>\n",
              "      <td>3.625380</td>\n",
              "      <td>-1.435721</td>\n",
              "      <td>-0.599763</td>\n",
              "      <td>-3.076900</td>\n",
              "      <td>-6.356896</td>\n",
              "      <td>6.470822</td>\n",
              "      <td>-2.129086</td>\n",
              "      <td>4.662778</td>\n",
              "      <td>0.878029</td>\n",
              "      <td>3.260751</td>\n",
              "      <td>-0.740602</td>\n",
              "      <td>2.950565</td>\n",
              "      <td>3.372518</td>\n",
              "      <td>0.572005</td>\n",
              "      <td>-1.456599</td>\n",
              "      <td>-3.916822</td>\n",
              "      <td>0.330798</td>\n",
              "      <td>0.324298</td>\n",
              "    </tr>\n",
              "    <tr>\n",
              "      <th>4</th>\n",
              "      <td>0.395002</td>\n",
              "      <td>-1.772361</td>\n",
              "      <td>1.480797</td>\n",
              "      <td>-10.349795</td>\n",
              "      <td>-3.404066</td>\n",
              "      <td>0.273368</td>\n",
              "      <td>-5.293774</td>\n",
              "      <td>5.233769</td>\n",
              "      <td>1.838402</td>\n",
              "      <td>2.830086</td>\n",
              "      <td>5.156810</td>\n",
              "      <td>3.809602</td>\n",
              "      <td>0.488340</td>\n",
              "      <td>5.191351</td>\n",
              "      <td>3.094875</td>\n",
              "      <td>-0.767806</td>\n",
              "      <td>2.586465</td>\n",
              "      <td>-0.876073</td>\n",
              "      <td>2.559900</td>\n",
              "      <td>-0.112852</td>\n",
              "    </tr>\n",
              "  </tbody>\n",
              "</table>\n",
              "</div>\n",
              "    <div class=\"colab-df-buttons\">\n",
              "\n",
              "  <div class=\"colab-df-container\">\n",
              "    <button class=\"colab-df-convert\" onclick=\"convertToInteractive('df-cb1a1cd0-a8ed-4986-860d-5fa6de1d2f6b')\"\n",
              "            title=\"Convert this dataframe to an interactive table.\"\n",
              "            style=\"display:none;\">\n",
              "\n",
              "  <svg xmlns=\"http://www.w3.org/2000/svg\" height=\"24px\" viewBox=\"0 -960 960 960\">\n",
              "    <path d=\"M120-120v-720h720v720H120Zm60-500h600v-160H180v160Zm220 220h160v-160H400v160Zm0 220h160v-160H400v160ZM180-400h160v-160H180v160Zm440 0h160v-160H620v160ZM180-180h160v-160H180v160Zm440 0h160v-160H620v160Z\"/>\n",
              "  </svg>\n",
              "    </button>\n",
              "\n",
              "  <style>\n",
              "    .colab-df-container {\n",
              "      display:flex;\n",
              "      gap: 12px;\n",
              "    }\n",
              "\n",
              "    .colab-df-convert {\n",
              "      background-color: #E8F0FE;\n",
              "      border: none;\n",
              "      border-radius: 50%;\n",
              "      cursor: pointer;\n",
              "      display: none;\n",
              "      fill: #1967D2;\n",
              "      height: 32px;\n",
              "      padding: 0 0 0 0;\n",
              "      width: 32px;\n",
              "    }\n",
              "\n",
              "    .colab-df-convert:hover {\n",
              "      background-color: #E2EBFA;\n",
              "      box-shadow: 0px 1px 2px rgba(60, 64, 67, 0.3), 0px 1px 3px 1px rgba(60, 64, 67, 0.15);\n",
              "      fill: #174EA6;\n",
              "    }\n",
              "\n",
              "    .colab-df-buttons div {\n",
              "      margin-bottom: 4px;\n",
              "    }\n",
              "\n",
              "    [theme=dark] .colab-df-convert {\n",
              "      background-color: #3B4455;\n",
              "      fill: #D2E3FC;\n",
              "    }\n",
              "\n",
              "    [theme=dark] .colab-df-convert:hover {\n",
              "      background-color: #434B5C;\n",
              "      box-shadow: 0px 1px 3px 1px rgba(0, 0, 0, 0.15);\n",
              "      filter: drop-shadow(0px 1px 2px rgba(0, 0, 0, 0.3));\n",
              "      fill: #FFFFFF;\n",
              "    }\n",
              "  </style>\n",
              "\n",
              "    <script>\n",
              "      const buttonEl =\n",
              "        document.querySelector('#df-cb1a1cd0-a8ed-4986-860d-5fa6de1d2f6b button.colab-df-convert');\n",
              "      buttonEl.style.display =\n",
              "        google.colab.kernel.accessAllowed ? 'block' : 'none';\n",
              "\n",
              "      async function convertToInteractive(key) {\n",
              "        const element = document.querySelector('#df-cb1a1cd0-a8ed-4986-860d-5fa6de1d2f6b');\n",
              "        const dataTable =\n",
              "          await google.colab.kernel.invokeFunction('convertToInteractive',\n",
              "                                                    [key], {});\n",
              "        if (!dataTable) return;\n",
              "\n",
              "        const docLinkHtml = 'Like what you see? Visit the ' +\n",
              "          '<a target=\"_blank\" href=https://colab.research.google.com/notebooks/data_table.ipynb>data table notebook</a>'\n",
              "          + ' to learn more about interactive tables.';\n",
              "        element.innerHTML = '';\n",
              "        dataTable['output_type'] = 'display_data';\n",
              "        await google.colab.output.renderOutput(dataTable, element);\n",
              "        const docLink = document.createElement('div');\n",
              "        docLink.innerHTML = docLinkHtml;\n",
              "        element.appendChild(docLink);\n",
              "      }\n",
              "    </script>\n",
              "  </div>\n",
              "\n",
              "\n",
              "<div id=\"df-46398e16-e8e6-4dd4-b676-dbe31757f00a\">\n",
              "  <button class=\"colab-df-quickchart\" onclick=\"quickchart('df-46398e16-e8e6-4dd4-b676-dbe31757f00a')\"\n",
              "            title=\"Suggest charts\"\n",
              "            style=\"display:none;\">\n",
              "\n",
              "<svg xmlns=\"http://www.w3.org/2000/svg\" height=\"24px\"viewBox=\"0 0 24 24\"\n",
              "     width=\"24px\">\n",
              "    <g>\n",
              "        <path d=\"M19 3H5c-1.1 0-2 .9-2 2v14c0 1.1.9 2 2 2h14c1.1 0 2-.9 2-2V5c0-1.1-.9-2-2-2zM9 17H7v-7h2v7zm4 0h-2V7h2v10zm4 0h-2v-4h2v4z\"/>\n",
              "    </g>\n",
              "</svg>\n",
              "  </button>\n",
              "\n",
              "<style>\n",
              "  .colab-df-quickchart {\n",
              "      --bg-color: #E8F0FE;\n",
              "      --fill-color: #1967D2;\n",
              "      --hover-bg-color: #E2EBFA;\n",
              "      --hover-fill-color: #174EA6;\n",
              "      --disabled-fill-color: #AAA;\n",
              "      --disabled-bg-color: #DDD;\n",
              "  }\n",
              "\n",
              "  [theme=dark] .colab-df-quickchart {\n",
              "      --bg-color: #3B4455;\n",
              "      --fill-color: #D2E3FC;\n",
              "      --hover-bg-color: #434B5C;\n",
              "      --hover-fill-color: #FFFFFF;\n",
              "      --disabled-bg-color: #3B4455;\n",
              "      --disabled-fill-color: #666;\n",
              "  }\n",
              "\n",
              "  .colab-df-quickchart {\n",
              "    background-color: var(--bg-color);\n",
              "    border: none;\n",
              "    border-radius: 50%;\n",
              "    cursor: pointer;\n",
              "    display: none;\n",
              "    fill: var(--fill-color);\n",
              "    height: 32px;\n",
              "    padding: 0;\n",
              "    width: 32px;\n",
              "  }\n",
              "\n",
              "  .colab-df-quickchart:hover {\n",
              "    background-color: var(--hover-bg-color);\n",
              "    box-shadow: 0 1px 2px rgba(60, 64, 67, 0.3), 0 1px 3px 1px rgba(60, 64, 67, 0.15);\n",
              "    fill: var(--button-hover-fill-color);\n",
              "  }\n",
              "\n",
              "  .colab-df-quickchart-complete:disabled,\n",
              "  .colab-df-quickchart-complete:disabled:hover {\n",
              "    background-color: var(--disabled-bg-color);\n",
              "    fill: var(--disabled-fill-color);\n",
              "    box-shadow: none;\n",
              "  }\n",
              "\n",
              "  .colab-df-spinner {\n",
              "    border: 2px solid var(--fill-color);\n",
              "    border-color: transparent;\n",
              "    border-bottom-color: var(--fill-color);\n",
              "    animation:\n",
              "      spin 1s steps(1) infinite;\n",
              "  }\n",
              "\n",
              "  @keyframes spin {\n",
              "    0% {\n",
              "      border-color: transparent;\n",
              "      border-bottom-color: var(--fill-color);\n",
              "      border-left-color: var(--fill-color);\n",
              "    }\n",
              "    20% {\n",
              "      border-color: transparent;\n",
              "      border-left-color: var(--fill-color);\n",
              "      border-top-color: var(--fill-color);\n",
              "    }\n",
              "    30% {\n",
              "      border-color: transparent;\n",
              "      border-left-color: var(--fill-color);\n",
              "      border-top-color: var(--fill-color);\n",
              "      border-right-color: var(--fill-color);\n",
              "    }\n",
              "    40% {\n",
              "      border-color: transparent;\n",
              "      border-right-color: var(--fill-color);\n",
              "      border-top-color: var(--fill-color);\n",
              "    }\n",
              "    60% {\n",
              "      border-color: transparent;\n",
              "      border-right-color: var(--fill-color);\n",
              "    }\n",
              "    80% {\n",
              "      border-color: transparent;\n",
              "      border-right-color: var(--fill-color);\n",
              "      border-bottom-color: var(--fill-color);\n",
              "    }\n",
              "    90% {\n",
              "      border-color: transparent;\n",
              "      border-bottom-color: var(--fill-color);\n",
              "    }\n",
              "  }\n",
              "</style>\n",
              "\n",
              "  <script>\n",
              "    async function quickchart(key) {\n",
              "      const quickchartButtonEl =\n",
              "        document.querySelector('#' + key + ' button');\n",
              "      quickchartButtonEl.disabled = true;  // To prevent multiple clicks.\n",
              "      quickchartButtonEl.classList.add('colab-df-spinner');\n",
              "      try {\n",
              "        const charts = await google.colab.kernel.invokeFunction(\n",
              "            'suggestCharts', [key], {});\n",
              "      } catch (error) {\n",
              "        console.error('Error during call to suggestCharts:', error);\n",
              "      }\n",
              "      quickchartButtonEl.classList.remove('colab-df-spinner');\n",
              "      quickchartButtonEl.classList.add('colab-df-quickchart-complete');\n",
              "    }\n",
              "    (() => {\n",
              "      let quickchartButtonEl =\n",
              "        document.querySelector('#df-46398e16-e8e6-4dd4-b676-dbe31757f00a button');\n",
              "      quickchartButtonEl.style.display =\n",
              "        google.colab.kernel.accessAllowed ? 'block' : 'none';\n",
              "    })();\n",
              "  </script>\n",
              "</div>\n",
              "\n",
              "    </div>\n",
              "  </div>\n"
            ]
          },
          "metadata": {},
          "execution_count": 61
        }
      ]
    },
    {
      "cell_type": "markdown",
      "source": [
        "# 3. Train Test Split\n"
      ],
      "metadata": {
        "id": "J6D60RnFlMOd"
      }
    },
    {
      "cell_type": "code",
      "source": [
        "X_train, X_test, y_train, y_test = train_test_split(X, y, test_size=0.3, random_state=42)\n",
        "X_train.shape"
      ],
      "metadata": {
        "colab": {
          "base_uri": "https://localhost:8080/"
        },
        "id": "PxNcg75-lPVq",
        "outputId": "c42e96d2-b5fb-4a45-d499-5731f507f4b6"
      },
      "execution_count": null,
      "outputs": [
        {
          "output_type": "execute_result",
          "data": {
            "text/plain": [
              "(7000, 20)"
            ]
          },
          "metadata": {},
          "execution_count": 62
        }
      ]
    },
    {
      "cell_type": "markdown",
      "source": [
        "# 4. Handle Imbalaned Data on TRAINING\n",
        "- Over Sample\n",
        "- Under Sample\n",
        "- SMOTE"
      ],
      "metadata": {
        "id": "j_0B0AGBlT2g"
      }
    },
    {
      "cell_type": "code",
      "source": [
        "def plot_class_distribution(y, title='Class distribution'):\n",
        "    counter = Counter(y)\n",
        "    plt.figure(figsize=(10, 3))\n",
        "    plt.bar(counter.keys(), counter.values())\n",
        "    plt.title(title)\n",
        "    plt.ylabel('Frequency')\n",
        "    plt.xlabel('Class')\n",
        "    plt.xticks(list(counter.keys()))\n",
        "    plt.show()\n",
        "\n",
        "plot_class_distribution(y_train, 'Class distribution in Training Set')\n"
      ],
      "metadata": {
        "colab": {
          "base_uri": "https://localhost:8080/",
          "height": 333
        },
        "id": "ULvZG_rvl8jc",
        "outputId": "60afea88-3ab4-48ed-c9aa-9be0bc2c99db"
      },
      "execution_count": null,
      "outputs": [
        {
          "output_type": "display_data",
          "data": {
            "text/plain": [
              "<Figure size 1000x300 with 1 Axes>"
            ],
            "image/png": "[encoded data removed]"
          },
          "metadata": {}
        }
      ]
    },
    {
      "cell_type": "markdown",
      "source": [
        "# Over/Under/SMOTE sampling\n",
        "---\n",
        "the challenge is to figure out what % of minority or majority sampling to address imbalance performs the best: over/under/SMOTE sampling\n",
        "- is 25% good or 50% better or 100%, playing with the class?\n",
        "\n",
        "## QUESTION!\n",
        "- why do you not sample the TEST set?\n",
        "\n"
      ],
      "metadata": {
        "id": "3f7LM6xUnMxn"
      }
    },
    {
      "cell_type": "code",
      "source": [
        "\n",
        "# -- oversampling --\n",
        "ros = RandomOverSampler(random_state=42, sampling_strategy=0.5)\n",
        "X_ros, y_ros = ros.fit_resample(X_train, y_train)\n",
        "plot_class_distribution(y_ros, 'Class distribution after Random Over-sampling 50%')\n",
        "\n",
        "# -- undersampling --\n",
        "rus = RandomUnderSampler(random_state=42, sampling_strategy=0.5)\n",
        "X_rus, y_rus = rus.fit_resample(X_train, y_train)\n",
        "plot_class_distribution(y_rus, 'Class distribution after Random Under-sampling 50%')\n",
        "\n",
        "# -- smote --\n",
        "smote = SMOTE(random_state=42, sampling_strategy=0.5)\n",
        "X_smote, y_smote = smote.fit_resample(X_train, y_train)\n",
        "plot_class_distribution(y_smote, 'Class distribution after SMOTE 50%')\n"
      ],
      "metadata": {
        "colab": {
          "base_uri": "https://localhost:8080/",
          "height": 965
        },
        "id": "cOwQbsgwlccg",
        "outputId": "a987d790-ea47-4df8-bd62-9e44fd30cfac"
      },
      "execution_count": null,
      "outputs": [
        {
          "output_type": "display_data",
          "data": {
            "text/plain": [
              "<Figure size 1000x300 with 1 Axes>"
            ],
            "image/png": "[encoded data removed]"
          },
          "metadata": {}
        },
        {
          "output_type": "display_data",
          "data": {
            "text/plain": [
              "<Figure size 1000x300 with 1 Axes>"
            ],
            "image/png": "[encoded data removed]"
          },
          "metadata": {}
        },
        {
          "output_type": "display_data",
          "data": {
            "text/plain": [
              "<Figure size 1000x300 with 1 Axes>"
            ],
            "image/png": "[encoded data removed]"
          },
          "metadata": {}
        }
      ]
    },
    {
      "cell_type": "markdown",
      "source": [
        "# 6 & 7 Train and Evaluate\n",
        "---"
      ],
      "metadata": {
        "id": "83r_2uOWmrgM"
      }
    },
    {
      "cell_type": "code",
      "source": [
        "def train_and_evaluate(X_train, y_train, X_test, y_test, description):\n",
        "    model = LogisticRegression(max_iter=1000)\n",
        "    model.fit(X_train, y_train)\n",
        "    predictions = model.predict(X_test)\n",
        "    prob_predictions = model.predict_proba(X_test)[:, 1]\n",
        "    print(f'{description}')\n",
        "    #print(classification_report(y_test, predictions))\n",
        "    print(f'  AUC: {roc_auc_score(y_test, prob_predictions):.4f}')\n",
        "\n",
        "# Original dataset\n",
        "train_and_evaluate(X_train, y_train, X_test, y_test, 'Original Dataset')\n",
        "\n",
        "# Random Over-sampling\n",
        "train_and_evaluate(X_ros, y_ros, X_test, y_test, 'Random Over-sampling')\n",
        "\n",
        "# Random Under-sampling\n",
        "train_and_evaluate(X_rus, y_rus, X_test, y_test, 'Random Under-sampling')\n",
        "\n",
        "# SMOTE\n",
        "train_and_evaluate(X_smote, y_smote, X_test, y_test, '**SMOTE Synthetic-sampling**')\n"
      ],
      "metadata": {
        "colab": {
          "base_uri": "https://localhost:8080/"
        },
        "id": "pAXYGm6imv-J",
        "outputId": "6f587db8-f91a-47e8-c16d-3f66bc4a70c6"
      },
      "execution_count": null,
      "outputs": [
        {
          "output_type": "stream",
          "name": "stdout",
          "text": [
            "Original Dataset\n",
            "  AUC: 0.8816\n",
            "Random Over-sampling\n",
            "  AUC: 0.8841\n",
            "Random Under-sampling\n",
            "  AUC: 0.8863\n",
            "**SMOTE Synthetic-sampling**\n",
            "  AUC: 0.8878\n"
          ]
        }
      ]
    }
  ]
}